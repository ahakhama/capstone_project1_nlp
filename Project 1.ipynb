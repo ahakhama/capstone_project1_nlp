{
 "cells": [
  {
   "cell_type": "markdown",
   "metadata": {},
   "source": [
    "# Project 1 - Text Questions Classification: \n",
    "## Classify a Given Question Text to One of the Six Categories\n",
    "\n",
    "Description: https://docs.google.com/document/d/14YP8_z1iH4X_eg9wY1HN57HGxlpT53YFMdbe8GeZNUk/edit?usp=sharing"
   ]
  },
  {
   "cell_type": "markdown",
   "metadata": {},
   "source": [
    "## 1. Spacy Tests"
   ]
  },
  {
   "cell_type": "code",
   "execution_count": 2,
   "metadata": {},
   "outputs": [],
   "source": [
    "import re"
   ]
  },
  {
   "cell_type": "code",
   "execution_count": 31,
   "metadata": {},
   "outputs": [
    {
     "name": "stdout",
     "output_type": "stream",
     "text": [
      "[('This', 'DET'), ('is', 'VERB'), ('a', 'DET'), ('bad', 'ADJ'), ('sentence', 'NOUN'), ('greatly', 'ADV'), ('.', 'PUNCT')]\n"
     ]
    }
   ],
   "source": [
    "import spacy\n",
    "\n",
    "nlp = spacy.load(\"en_core_web_lg\")\n",
    "doc = nlp(u\"This is a bad sentence greatly.\")\n",
    "\n",
    "print([(w.text, w.pos_) for w in doc])"
   ]
  },
  {
   "cell_type": "code",
   "execution_count": 172,
   "metadata": {},
   "outputs": [
    {
     "name": "stdout",
     "output_type": "stream",
     "text": [
      "[('What', 'PRON'), ('am', 'VERB'), ('I', 'PRON'), ('a', 'DET'), ('bad', 'ADJ'), ('sentence', 'NOUN'), ('of', 'ADP'), ('the', 'DET'), ('U.S.', 'PROPN'), ('greatly', 'ADV'), ('in', 'ADP'), ('here', 'ADV'), ('?', 'PUNCT')]\n"
     ]
    },
    {
     "data": {
      "text/plain": [
       "Counter({'What': 1,\n",
       "         'am': 1,\n",
       "         'I': 1,\n",
       "         'bad': 1,\n",
       "         'sentence': 1,\n",
       "         'of': 1,\n",
       "         'U.S.': 1,\n",
       "         'greatly': 1,\n",
       "         'in': 1,\n",
       "         'here': 1})"
      ]
     },
     "execution_count": 172,
     "metadata": {},
     "output_type": "execute_result"
    }
   ],
   "source": [
    "doc = nlp(u\"What am I a bad sentence of the U.S. greatly in here?\")\n",
    "print([(w.text, w.pos_) for w in doc])\n",
    "Counter([t.text for t in doc if t.pos_ not in ['DET', 'PUNCT']])"
   ]
  },
  {
   "cell_type": "code",
   "execution_count": 4,
   "metadata": {},
   "outputs": [
    {
     "data": {
      "text/plain": [
       "spacy.lang.en.English"
      ]
     },
     "execution_count": 4,
     "metadata": {},
     "output_type": "execute_result"
    }
   ],
   "source": [
    "type(nlp)"
   ]
  },
  {
   "cell_type": "code",
   "execution_count": 5,
   "metadata": {},
   "outputs": [
    {
     "data": {
      "text/plain": [
       "spacy.tokens.doc.Doc"
      ]
     },
     "execution_count": 5,
     "metadata": {},
     "output_type": "execute_result"
    }
   ],
   "source": [
    "type(doc)"
   ]
  },
  {
   "cell_type": "markdown",
   "metadata": {},
   "source": [
    "## 2. Data Prepration\n",
    "#### Output: A DataFrame of questions, labels, and sublabels."
   ]
  },
  {
   "cell_type": "markdown",
   "metadata": {},
   "source": [
    "**use the largest training dataset for 5000"
   ]
  },
  {
   "cell_type": "code",
   "execution_count": 6,
   "metadata": {},
   "outputs": [],
   "source": [
    "import codecs\n",
    "from collections import defaultdict\n",
    "import pandas as pd\n",
    "\n",
    "file_name = \"train_5500.label\"\n",
    "\n",
    "with open(file_name, 'rb') as f:\n",
    "    txt = f.read()\n",
    "\n",
    "lines = txt.decode('latin').splitlines()\n",
    "\n",
    "#for idx, line in enumerate(lines):\n",
    " #   print(line)"
   ]
  },
  {
   "cell_type": "code",
   "execution_count": 15,
   "metadata": {},
   "outputs": [
    {
     "name": "stdout",
     "output_type": "stream",
     "text": [
      "  label sublabel                                           question\n",
      "0  DESC   manner  How did serfdom develop in and then leave Russ...\n",
      "1  ENTY   cremat   What films featured the character Popeye Doyle ?\n",
      "2  DESC   manner  How can I find a list of celebrities ' real na...\n",
      "3  ENTY   animal  What fowl grabs the spotlight after the Chines...\n",
      "4  ABBR      exp                    What is the full form of .com ?\n"
     ]
    }
   ],
   "source": [
    "df = []\n",
    "for idx, line in enumerate(lines):\n",
    "    match = re.match('([A-Z]+)\\:([a-z]+)[ ]+(.+)',line)\n",
    "    #print(match.groups())\n",
    "    df.append(match.groups())\n",
    "\n",
    "df = pd.DataFrame(df, columns = ['label', 'sublabel','question'])\n",
    "\n",
    "print(df.head())"
   ]
  },
  {
   "cell_type": "markdown",
   "metadata": {},
   "source": [
    "### 2.1 NLP: Word2Vec\n",
    "#### Output: A DataFrame of document vectors"
   ]
  },
  {
   "cell_type": "code",
   "execution_count": 8,
   "metadata": {},
   "outputs": [
    {
     "name": "stdout",
     "output_type": "stream",
     "text": [
      "        0         1         2         3         4         5         6    \\\n",
      "0 -0.095385  0.145313 -0.102526 -0.034010  0.075759 -0.141677  0.066431   \n",
      "1  0.056004  0.079700  0.017709 -0.136104  0.157276  0.166497  0.065532   \n",
      "2 -0.069375  0.152507 -0.249951 -0.120486  0.298487  0.019549  0.197415   \n",
      "3 -0.062719 -0.012321 -0.038860 -0.120913  0.022380  0.007823  0.077755   \n",
      "4  0.072690  0.114806 -0.159714 -0.006696  0.113063 -0.132307  0.162451   \n",
      "\n",
      "        7         8         9    ...       290       291       292       293  \\\n",
      "0 -0.084729  0.013960  2.117576  ... -0.096183  0.159912  0.111225 -0.058195   \n",
      "1 -0.085842 -0.032438  1.450033  ... -0.155592 -0.078499 -0.215343  0.130424   \n",
      "2 -0.165814  0.029086  2.123617  ... -0.190413  0.026192 -0.060264 -0.056614   \n",
      "3 -0.024781  0.101000  1.992542  ... -0.164768  0.041619 -0.083150 -0.126231   \n",
      "4  0.003159 -0.033583  1.786263  ... -0.097932 -0.127476  0.085656 -0.251220   \n",
      "\n",
      "        294       295       296       297       298       299  \n",
      "0  0.079165 -0.082491 -0.095324  0.124028  0.079029  0.191700  \n",
      "1  0.110576 -0.076019 -0.012627 -0.181888  0.109482  0.059290  \n",
      "2  0.093682 -0.118431 -0.222359 -0.198822  0.140380  0.158912  \n",
      "3 -0.078792  0.032853 -0.087293  0.032998 -0.033839  0.098442  \n",
      "4  0.076180  0.095656 -0.064031 -0.014120 -0.002375  0.036228  \n",
      "\n",
      "[5 rows x 300 columns]\n"
     ]
    }
   ],
   "source": [
    "nlp = spacy.load('en_core_web_lg')\n",
    "\n",
    "vectors = []\n",
    "\n",
    "for idx, row in df.iterrows():\n",
    "    doc = nlp(row['question'])\n",
    "    vectors.append(pd.DataFrame([t.vector for t in doc]).mean())\n",
    "    #print(pd.DataFrame([t.vector for t in doc]).mean())\n",
    "\n",
    "df_vec = pd.DataFrame(vectors)\n",
    "print(df_vec.head())"
   ]
  },
  {
   "cell_type": "markdown",
   "metadata": {},
   "source": [
    "## 3. ML Modelling\n",
    "### 3.1 Logistic Regression: Main Lable Classification"
   ]
  },
  {
   "cell_type": "markdown",
   "metadata": {},
   "source": [
    "#### 3.1.1 Training"
   ]
  },
  {
   "cell_type": "code",
   "execution_count": 84,
   "metadata": {},
   "outputs": [],
   "source": [
    "#import sklearn\n",
    "from sklearn.model_selection import train_test_split\n",
    "vec_train, vec_test, label_train, label_test = train_test_split(\n",
    "    df_vec,df['label'],test_size=0.25,random_state=0, stratify=df['label'])"
   ]
  },
  {
   "cell_type": "code",
   "execution_count": 85,
   "metadata": {},
   "outputs": [
    {
     "data": {
      "text/plain": [
       "LogisticRegression(C=1.0, class_weight='balanced', dual=False,\n",
       "                   fit_intercept=True, intercept_scaling=1, l1_ratio=None,\n",
       "                   max_iter=100, multi_class='auto', n_jobs=None, penalty='l2',\n",
       "                   random_state=None, solver='liblinear', tol=0.0001, verbose=0,\n",
       "                   warm_start=False)"
      ]
     },
     "execution_count": 85,
     "metadata": {},
     "output_type": "execute_result"
    }
   ],
   "source": [
    "#import the class\n",
    "from sklearn.linear_model import LogisticRegression\n",
    "\n",
    "# instantiate the model (using the default parameters)\n",
    "logreg = LogisticRegression(solver='liblinear', multi_class='auto', class_weight='balanced')\n",
    "\n",
    "# fit the model with data\n",
    "logreg.fit(vec_train,label_train)"
   ]
  },
  {
   "cell_type": "markdown",
   "metadata": {},
   "source": [
    "#### 3.1.2 Inference"
   ]
  },
  {
   "cell_type": "code",
   "execution_count": 86,
   "metadata": {},
   "outputs": [],
   "source": [
    "# Predictions\n",
    "label_pred_test = logreg.predict(vec_test)\n",
    "label_pred_train = logreg.predict(vec_train)"
   ]
  },
  {
   "cell_type": "markdown",
   "metadata": {},
   "source": [
    "#### 3.1.3 Modelling Performance\n",
    "#### Confusion Matrix, Accuracy, Precision, Recall, and F1 Score"
   ]
  },
  {
   "cell_type": "code",
   "execution_count": 87,
   "metadata": {},
   "outputs": [
    {
     "name": "stdout",
     "output_type": "stream",
     "text": [
      "['HUM', 'DESC', 'ENTY', 'LOC', 'ABBR', 'NUM']\n"
     ]
    }
   ],
   "source": [
    "classes = list(set(label_test))\n",
    "\n",
    "print(classes)"
   ]
  },
  {
   "cell_type": "code",
   "execution_count": 88,
   "metadata": {},
   "outputs": [
    {
     "name": "stdout",
     "output_type": "stream",
     "text": [
      "Note: Columns (predictions) vs. Rows (actuals)\n",
      "\n",
      "      HUM  DESC  ENTY  LOC  ABBR  NUM\n",
      "HUM   234    10    28   20     1   13\n",
      "DESC    7   195    42   14     2   30\n",
      "ENTY   28    43   206   16     1   18\n",
      "LOC     7     8    11  174     0    9\n",
      "ABBR    1     8     2    0    11    0\n",
      "NUM    10     9    17    9     0  179\n"
     ]
    }
   ],
   "source": [
    "# import the metrics class\n",
    "from sklearn import metrics\n",
    "\n",
    "cnf_matrix = metrics.confusion_matrix(label_test, label_pred_test, labels=classes)\n",
    "cnf_matrix = pd.DataFrame(cnf_matrix, columns=classes)\n",
    "cnf_matrix.rename(index={i:k for i, k in enumerate(classes)}, inplace=True)\n",
    "\n",
    "print(\"Note: Columns (predictions) vs. Rows (actuals)\\n\")\n",
    "print(cnf_matrix)"
   ]
  },
  {
   "cell_type": "code",
   "execution_count": 89,
   "metadata": {
    "scrolled": true
   },
   "outputs": [
    {
     "name": "stdout",
     "output_type": "stream",
     "text": [
      "Accuracy: 0.7329420396184886\n",
      "Precision: 0.7336348817231592\n",
      "Recall: 0.7048365189562346\n",
      "Unweighted Average F1 Score: 0.7145646030354024\n"
     ]
    }
   ],
   "source": [
    "accuracy = metrics.accuracy_score(label_test, label_pred_test)\n",
    "precision_score = metrics.precision_score(label_test, label_pred_test, average='macro', labels=classes)\n",
    "recall_score = metrics.recall_score(label_test, label_pred_test, average='macro', labels=classes)\n",
    "f1_score = metrics.f1_score(label_test, label_pred_test, average='macro',labels=classes)\n",
    "\n",
    "print(\"Accuracy:\", accuracy)\n",
    "print(\"Precision:\", precision_score)\n",
    "print(\"Recall:\", recall_score)\n",
    "print(\"Unweighted Average F1 Score:\", f1_score)"
   ]
  },
  {
   "cell_type": "code",
   "execution_count": 90,
   "metadata": {},
   "outputs": [
    {
     "name": "stdout",
     "output_type": "stream",
     "text": [
      "Accuracy: 0.7960381511371973\n",
      "Precision: 0.7979020724878502\n",
      "Recall: 0.8179901614244671\n",
      "Unweighted Average F1 Score: 0.8069571613766264\n"
     ]
    }
   ],
   "source": [
    "accuracy = metrics.accuracy_score(label_train, label_pred_train)\n",
    "precision_score = metrics.precision_score(label_train, label_pred_train, average='macro', labels=classes)\n",
    "recall_score = metrics.recall_score(label_train, label_pred_train, average='macro', labels=classes)\n",
    "f1_score = metrics.f1_score(label_train, label_pred_train, average='macro',labels=classes)\n",
    "\n",
    "print(\"Accuracy:\", accuracy)\n",
    "print(\"Precision:\", precision_score)\n",
    "print(\"Recall:\", recall_score)\n",
    "print(\"Unweighted Average F1 Score:\", f1_score)"
   ]
  },
  {
   "cell_type": "markdown",
   "metadata": {},
   "source": [
    "**To compute the metrics on the training data as well"
   ]
  },
  {
   "cell_type": "markdown",
   "metadata": {},
   "source": [
    "### 3.2 Logistic Regression: Sublabel Classification"
   ]
  },
  {
   "cell_type": "code",
   "execution_count": 91,
   "metadata": {},
   "outputs": [],
   "source": [
    "vec_train, vec_test, sublabel_train, sublabel_test = train_test_split(\n",
    "    df_vec,df['sublabel'],test_size=0.25,random_state=0, stratify=df['sublabel'])\n",
    "\n",
    "# instantiate the model (using the default parameters)\n",
    "logreg = LogisticRegression(solver='liblinear', multi_class='auto', class_weight='balanced')\n",
    "\n",
    "# fit the model with data\n",
    "logreg.fit(vec_train,sublabel_train)\n",
    "\n",
    "# Predictions\n",
    "sublabel_pred_test = logreg.predict(vec_test)\n",
    "sublabel_pred_train = logreg.predict(vec_train)\n"
   ]
  },
  {
   "cell_type": "code",
   "execution_count": 92,
   "metadata": {
    "scrolled": true
   },
   "outputs": [
    {
     "name": "stdout",
     "output_type": "stream",
     "text": [
      "['abb', 'event', 'weight', 'cremat', 'exp', 'volsize', 'period', 'dist', 'body', 'symbol', 'city', 'title', 'speed', 'religion', 'instru', 'plant', 'techmeth', 'desc', 'reason', 'lang', 'def', 'currency', 'food', 'termeq', 'manner', 'money', 'mount', 'ord', 'other', 'word', 'veh', 'date', 'substance', 'country', 'ind', 'product', 'letter', 'sport', 'count', 'dismed', 'color', 'perc', 'animal', 'state', 'temp', 'gr', 'code']\n"
     ]
    }
   ],
   "source": [
    "classes = list(set(sublabel_test))\n",
    "\n",
    "print(classes)"
   ]
  },
  {
   "cell_type": "code",
   "execution_count": 93,
   "metadata": {},
   "outputs": [
    {
     "name": "stdout",
     "output_type": "stream",
     "text": [
      "Note: Columns (predictions) vs. Rows (actuals)\n",
      "\n",
      "           abb  event  weight  cremat  exp  volsize  period  dist  body  \\\n",
      "abb          4      0       0       0    0        0       0     0     0   \n",
      "event        1      6       0       1    0        0       0     0     0   \n",
      "weight       0      0       2       0    0        0       0     0     0   \n",
      "cremat       0      3       0      38    0        0       0     0     0   \n",
      "exp          1      0       0       1   10        0       0     0     0   \n",
      "volsize      0      0       0       0    0        3       0     0     0   \n",
      "period       0      0       0       0    0        0      16     1     0   \n",
      "dist         0      0       0       0    0        1       2     3     0   \n",
      "body         0      0       0       0    0        0       0     0     2   \n",
      "symbol       0      0       0       0    0        0       0     0     0   \n",
      "city         0      1       0       0    0        0       0     0     0   \n",
      "title        0      0       0       0    0        0       0     0     0   \n",
      "speed        0      0       0       0    0        0       0     1     0   \n",
      "religion     0      0       0       0    0        0       0     0     0   \n",
      "instru       0      0       0       0    0        0       0     0     0   \n",
      "plant        0      0       0       0    0        0       0     0     0   \n",
      "techmeth     0      0       0       0    0        0       0     0     1   \n",
      "desc         0      3       0       3    0        0       0     0     1   \n",
      "reason       0      2       0       1    0        0       2     0     3   \n",
      "lang         0      0       0       0    0        0       0     0     0   \n",
      "def          0      1       0       2    1        0       0     1     0   \n",
      "currency     0      0       0       0    0        0       0     0     0   \n",
      "food         0      0       0       2    0        0       0     0     1   \n",
      "termeq       1      0       0       0    0        0       0     0     1   \n",
      "manner       0      0       0       0    0        0       2     0     0   \n",
      "money        0      0       0       0    0        0       0     0     0   \n",
      "mount        0      0       0       0    0        0       0     0     0   \n",
      "ord          0      0       0       0    0        0       0     0     0   \n",
      "other        2      3       1       0    1        2       3     3     0   \n",
      "word         0      0       0       0    0        0       0     0     0   \n",
      "veh          0      0       0       0    0        0       0     0     0   \n",
      "date         0      3       0       0    0        0       0     0     0   \n",
      "substance    0      0       0       0    0        0       0     0     0   \n",
      "country      0      0       0       0    0        0       0     0     0   \n",
      "ind          1      3       0       5    0        0       1     0     0   \n",
      "product      0      0       0       0    0        0       0     0     0   \n",
      "letter       0      0       0       0    0        0       0     0     0   \n",
      "sport        0      1       0       0    0        0       0     0     0   \n",
      "count        0      0       0       0    0        0       1     3     0   \n",
      "dismed       0      0       0       0    0        0       0     0     0   \n",
      "color        0      0       0       0    0        0       0     0     0   \n",
      "perc         0      0       0       0    0        0       0     0     0   \n",
      "animal       0      0       0       2    0        0       0     0     0   \n",
      "state        0      0       0       0    0        0       0     0     0   \n",
      "temp         0      0       0       0    0        0       0     0     0   \n",
      "gr           0      0       0       1    0        0       0     0     0   \n",
      "code         0      0       0       0    0        0       0     0     0   \n",
      "\n",
      "           symbol  ...  sport  count  dismed  color  perc  animal  state  \\\n",
      "abb             0  ...      0      0       0      0     0       0      0   \n",
      "event           0  ...      0      0       0      0     0       1      0   \n",
      "weight          0  ...      0      1       0      0     0       0      0   \n",
      "cremat          0  ...      0      0       0      0     0       1      0   \n",
      "exp             0  ...      0      0       0      0     0       0      0   \n",
      "volsize         0  ...      0      0       0      0     0       0      0   \n",
      "period          0  ...      0      0       0      0     1       0      0   \n",
      "dist            0  ...      0      0       0      0     0       0      0   \n",
      "body            0  ...      0      0       0      0     0       0      0   \n",
      "symbol          2  ...      0      0       0      0     0       1      0   \n",
      "city            0  ...      0      1       0      0     0       0      2   \n",
      "title           0  ...      0      0       0      0     0       1      0   \n",
      "speed           0  ...      0      0       0      0     0       0      0   \n",
      "religion        0  ...      0      1       0      0     0       0      0   \n",
      "instru          0  ...      0      0       0      0     0       0      0   \n",
      "plant           0  ...      0      0       0      0     0       0      0   \n",
      "techmeth        0  ...      0      1       1      0     0       0      0   \n",
      "desc            0  ...      1      0       2      1     1       2      0   \n",
      "reason          0  ...      0      1       0      2     0       0      1   \n",
      "lang            0  ...      0      0       0      0     0       0      0   \n",
      "def             1  ...      0      0       1      0     1       2      0   \n",
      "currency        0  ...      0      0       0      0     0       0      0   \n",
      "food            0  ...      0      0       0      0     0       1      0   \n",
      "termeq          0  ...      1      0       0      0     0       1      0   \n",
      "manner          0  ...      0      2       0      0     0       0      0   \n",
      "money           0  ...      0      0       1      0     0       0      0   \n",
      "mount           0  ...      0      0       0      0     0       0      0   \n",
      "ord             0  ...      0      0       0      0     0       0      0   \n",
      "other           0  ...      3      4       1      0     3       3      4   \n",
      "word            0  ...      0      0       0      0     0       1      0   \n",
      "veh             0  ...      0      0       0      0     0       0      0   \n",
      "date            0  ...      1      0       0      0     0       0      0   \n",
      "substance       0  ...      0      0       1      0     0       0      0   \n",
      "country         0  ...      0      0       0      0     0       0      0   \n",
      "ind             0  ...      5      4       1      0     0       1      1   \n",
      "product         0  ...      0      0       0      0     0       0      0   \n",
      "letter          0  ...      0      0       0      0     0       0      0   \n",
      "sport           0  ...     11      0       0      0     0       0      0   \n",
      "count           0  ...      5     72       0      1     0       2      0   \n",
      "dismed          0  ...      0      1      21      0     0       0      0   \n",
      "color           0  ...      0      0       0      7     0       0      0   \n",
      "perc            0  ...      0      0       0      0     6       1      0   \n",
      "animal          0  ...      0      0       0      0     0      22      0   \n",
      "state           0  ...      0      0       0      0     0       0     15   \n",
      "temp            0  ...      0      0       0      0     0       0      0   \n",
      "gr              0  ...      0      1       0      0     1       0      3   \n",
      "code            0  ...      0      0       0      0     0       0      0   \n",
      "\n",
      "           temp  gr  code  \n",
      "abb           0   0     0  \n",
      "event         0   2     0  \n",
      "weight        0   0     0  \n",
      "cremat        0   0     0  \n",
      "exp           0   0     0  \n",
      "volsize       0   0     0  \n",
      "period        0   0     0  \n",
      "dist          0   0     0  \n",
      "body          0   0     0  \n",
      "symbol        0   0     0  \n",
      "city          0   1     0  \n",
      "title         0   0     0  \n",
      "speed         0   0     0  \n",
      "religion      0   0     0  \n",
      "instru        0   0     0  \n",
      "plant         0   0     0  \n",
      "techmeth      0   0     0  \n",
      "desc          0   2     0  \n",
      "reason        0   0     0  \n",
      "lang          0   0     0  \n",
      "def           1   1     0  \n",
      "currency      0   0     0  \n",
      "food          0   0     0  \n",
      "termeq        0   0     0  \n",
      "manner        1   1     0  \n",
      "money         0   1     0  \n",
      "mount         0   0     0  \n",
      "ord           0   0     0  \n",
      "other         0   7     1  \n",
      "word          0   0     0  \n",
      "veh           0   0     0  \n",
      "date          0   1     0  \n",
      "substance     0   0     0  \n",
      "country       0   0     0  \n",
      "ind           0   7     1  \n",
      "product       0   1     0  \n",
      "letter        0   0     0  \n",
      "sport         0   1     0  \n",
      "count         1   0     0  \n",
      "dismed        0   0     0  \n",
      "color         0   0     0  \n",
      "perc          0   0     0  \n",
      "animal        0   0     0  \n",
      "state         0   0     1  \n",
      "temp          2   0     0  \n",
      "gr            0  22     1  \n",
      "code          0   0     2  \n",
      "\n",
      "[47 rows x 47 columns]\n"
     ]
    }
   ],
   "source": [
    "cnf_matrix = metrics.confusion_matrix(sublabel_test, sublabel_pred_test, labels=classes)\n",
    "cnf_matrix = pd.DataFrame(cnf_matrix, columns=classes)\n",
    "cnf_matrix.rename(index={i:k for i, k in enumerate(classes)}, inplace=True)\n",
    "\n",
    "print(\"Note: Columns (predictions) vs. Rows (actuals)\\n\")\n",
    "print(cnf_matrix)"
   ]
  },
  {
   "cell_type": "code",
   "execution_count": 94,
   "metadata": {},
   "outputs": [
    {
     "name": "stdout",
     "output_type": "stream",
     "text": [
      "Accuracy: 0.6434336023477623\n",
      "Precision: 0.6835061732984642\n",
      "Recall: 0.6434336023477623\n",
      "Unweighted Average F1 Score: 0.6427312983395492\n"
     ]
    }
   ],
   "source": [
    "accuracy = metrics.accuracy_score(sublabel_test, sublabel_pred_test)\n",
    "precision_score = metrics.precision_score(sublabel_test, sublabel_pred_test, average='weighted', labels=classes)\n",
    "recall_score = metrics.recall_score(sublabel_test, sublabel_pred_test, average='weighted', labels=classes)\n",
    "f1_score = metrics.f1_score(sublabel_test, sublabel_pred_test, average='weighted',labels=classes)\n",
    "\n",
    "print(\"Accuracy:\", accuracy)\n",
    "print(\"Precision:\", precision_score)\n",
    "print(\"Recall:\", recall_score)\n",
    "print(\"Unweighted Average F1 Score:\", f1_score)"
   ]
  },
  {
   "cell_type": "code",
   "execution_count": 95,
   "metadata": {},
   "outputs": [
    {
     "name": "stdout",
     "output_type": "stream",
     "text": [
      "Accuracy: 0.7583761310833945\n",
      "Precision: 0.790537004632156\n",
      "Recall: 0.7583761310833945\n",
      "Unweighted Average F1 Score: 0.7538890365455875\n"
     ]
    }
   ],
   "source": [
    "accuracy = metrics.accuracy_score(sublabel_train, sublabel_pred_train)\n",
    "precision_score = metrics.precision_score(sublabel_train, sublabel_pred_train, average='weighted', labels=classes)\n",
    "recall_score = metrics.recall_score(sublabel_train, sublabel_pred_train, average='weighted', labels=classes)\n",
    "f1_score = metrics.f1_score(sublabel_train, sublabel_pred_train, average='weighted',labels=classes)\n",
    "\n",
    "print(\"Accuracy:\", accuracy)\n",
    "print(\"Precision:\", precision_score)\n",
    "print(\"Recall:\", recall_score)\n",
    "print(\"Unweighted Average F1 Score:\", f1_score)"
   ]
  },
  {
   "cell_type": "markdown",
   "metadata": {},
   "source": [
    "### 3.3 Logistic Regression: Conditional Classification"
   ]
  },
  {
   "cell_type": "code",
   "execution_count": 96,
   "metadata": {},
   "outputs": [
    {
     "name": "stdout",
     "output_type": "stream",
     "text": [
      "\n",
      "------------------  ABBR  --------------------\n",
      "\n",
      "Note: Columns (predictions) vs. Rows (actuals)\n",
      "\n",
      "     abb  exp\n",
      "abb    4    0\n",
      "exp    1   17 \n",
      "\n",
      "\n",
      "------------------ Test --------------------\n",
      "\n",
      "Accuracy: 0.9545454545454546\n",
      "Precision: 0.9636363636363636\n",
      "Recall: 0.9545454545454546\n",
      "Unweighted Average F1 Score: 0.9564213564213564\n",
      "\n",
      "------------------ Train --------------------\n",
      "\n",
      "Accuracy: 0.984375\n",
      "Precision: 0.9855769230769231\n",
      "Recall: 0.984375\n",
      "Unweighted Average F1 Score: 0.9846116504854369\n",
      "\n",
      "------------------  HUM  --------------------\n",
      "\n",
      "Note: Columns (predictions) vs. Rows (actuals)\n",
      "\n",
      "       desc  ind  gr  title\n",
      "desc     11    1   0      0\n",
      "ind       0  232   8      1\n",
      "gr        0   10  36      1\n",
      "title     0    2   0      4 \n",
      "\n",
      "\n",
      "------------------ Test --------------------\n",
      "\n",
      "Accuracy: 0.9248366013071896\n",
      "Precision: 0.9237476808905379\n",
      "Recall: 0.9248366013071896\n",
      "Unweighted Average F1 Score: 0.9240379380254977\n",
      "\n",
      "------------------ Train --------------------\n",
      "\n",
      "Accuracy: 0.9563794983642312\n",
      "Precision: 0.9565898012441143\n",
      "Recall: 0.9563794983642312\n",
      "Unweighted Average F1 Score: 0.956403777854937\n",
      "\n",
      "------------------  DESC  --------------------\n",
      "\n",
      "Note: Columns (predictions) vs. Rows (actuals)\n",
      "\n",
      "        def  manner  desc  reason\n",
      "def      95       1     4       5\n",
      "manner    0      68     1       0\n",
      "desc      5       4    54       6\n",
      "reason    5       3     7      33 \n",
      "\n",
      "\n",
      "------------------ Test --------------------\n",
      "\n",
      "Accuracy: 0.8591065292096219\n",
      "Precision: 0.8563277923017478\n",
      "Recall: 0.8591065292096219\n",
      "Unweighted Average F1 Score: 0.8568798075189209\n",
      "\n",
      "------------------ Train --------------------\n",
      "\n",
      "Accuracy: 0.9115958668197475\n",
      "Precision: 0.9131599213375303\n",
      "Recall: 0.9115958668197475\n",
      "Unweighted Average F1 Score: 0.9121002057589717\n",
      "\n",
      "------------------  NUM  --------------------\n",
      "\n",
      "Note: Columns (predictions) vs. Rows (actuals)\n",
      "\n",
      "         count  weight  speed  volsize  money  ord  perc  other  period  date  \\\n",
      "count       77       2      0        0      1    0     1      3       5     1   \n",
      "weight       0       2      0        0      0    0     0      0       1     0   \n",
      "speed        0       0      2        0      0    0     0      0       0     0   \n",
      "volsize      0       0      0        3      0    0     0      0       0     0   \n",
      "money        1       0      0        0     16    0     0      0       0     1   \n",
      "ord          0       0      0        0      0    1     0      0       0     0   \n",
      "perc         1       0      0        0      0    0     5      1       0     0   \n",
      "other        1       0      0        1      1    0     1      9       0     0   \n",
      "period       1       0      0        0      1    0     0      0      17     0   \n",
      "date         3       0      0        0      0    0     0      0       1    50   \n",
      "temp         1       0      0        0      0    0     0      0       0     0   \n",
      "dist         1       0      0        0      0    0     0      1       2     1   \n",
      "code         0       0      0        0      0    0     0      0       0     0   \n",
      "\n",
      "         temp  dist  code  \n",
      "count       0     1     0  \n",
      "weight      0     0     0  \n",
      "speed       0     0     0  \n",
      "volsize     0     0     0  \n",
      "money       0     0     0  \n",
      "ord         0     0     0  \n",
      "perc        0     0     0  \n",
      "other       0     0     0  \n",
      "period      0     0     0  \n",
      "date        0     0     0  \n",
      "temp        1     0     0  \n",
      "dist        0     4     0  \n",
      "code        0     0     2   \n",
      "\n",
      "\n",
      "------------------ Test --------------------\n",
      "\n",
      "Accuracy: 0.84375\n",
      "Precision: 0.8540547095068013\n",
      "Recall: 0.84375\n",
      "Unweighted Average F1 Score: 0.8437237746172258\n",
      "\n",
      "------------------ Train --------------------\n",
      "\n",
      "Accuracy: 0.9404761904761905\n",
      "Precision: 0.944735453461117\n",
      "Recall: 0.9404761904761905\n",
      "Unweighted Average F1 Score: 0.9413113484071312\n",
      "\n",
      "------------------  LOC  --------------------\n",
      "\n",
      "Note: Columns (predictions) vs. Rows (actuals)\n",
      "\n",
      "         city  mount  other  state  country\n",
      "city       28      0      2      1        1\n",
      "mount       0      5      0      0        0\n",
      "other       4      0    108      1        3\n",
      "state       0      0      2     15        0\n",
      "country     2      1      0      0       36 \n",
      "\n",
      "\n",
      "------------------ Test --------------------\n",
      "\n",
      "Accuracy: 0.9186602870813397\n",
      "Precision: 0.9209413909104311\n",
      "Recall: 0.9186602870813397\n",
      "Unweighted Average F1 Score: 0.9193110542418341\n",
      "\n",
      "------------------ Train --------------------\n",
      "\n",
      "Accuracy: 0.9616613418530351\n",
      "Precision: 0.9644904668358072\n",
      "Recall: 0.9616613418530351\n",
      "Unweighted Average F1 Score: 0.9620628030633591\n",
      "\n",
      "------------------  ENTY  --------------------\n",
      "\n",
      "Note: Columns (predictions) vs. Rows (actuals)\n",
      "\n",
      "           event  cremat  body  symbol  instru  religion  techmeth  lang  \\\n",
      "event         11       1     0       0       0         0         0     0   \n",
      "cremat         1      46     0       0       0         0         1     0   \n",
      "body           0       0     2       0       0         0         0     0   \n",
      "symbol         0       1     0       1       0         0         0     0   \n",
      "instru         0       0     0       0       2         0         0     0   \n",
      "religion       1       0     0       0       0         0         0     0   \n",
      "techmeth       0       0     0       0       0         0         5     0   \n",
      "lang           0       0     0       0       0         0         0     4   \n",
      "currency       0       0     0       0       0         0         0     0   \n",
      "food           0       1     0       0       0         0         1     0   \n",
      "termeq         0       1     0       0       0         0         0     0   \n",
      "other          8       3     0       1       1         0         1     0   \n",
      "word           0       0     0       0       0         0         0     0   \n",
      "veh            0       0     0       0       0         0         0     0   \n",
      "substance      0       0     0       0       0         0         0     0   \n",
      "letter         0       0     0       0       0         0         0     0   \n",
      "product        0       1     0       0       0         0         0     0   \n",
      "sport          1       0     0       0       0         0         0     0   \n",
      "dismed         0       0     0       0       0         0         0     0   \n",
      "color          0       0     0       0       0         0         0     0   \n",
      "animal         1       1     0       0       0         0         0     0   \n",
      "plant          0       1     0       0       0         0         0     0   \n",
      "\n",
      "           currency  food  ...  word  veh  substance  letter  product  sport  \\\n",
      "event             0     0  ...     0    1          0       0        0      0   \n",
      "cremat            0     0  ...     0    0          0       0        2      0   \n",
      "body              0     0  ...     0    0          0       0        0      0   \n",
      "symbol            0     0  ...     0    0          0       0        0      0   \n",
      "instru            0     0  ...     0    0          0       0        0      0   \n",
      "religion          0     0  ...     0    0          0       0        0      0   \n",
      "techmeth          0     0  ...     0    0          1       0        0      2   \n",
      "lang              0     0  ...     0    0          0       0        0      0   \n",
      "currency          1     0  ...     0    0          0       0        0      0   \n",
      "food              0    22  ...     0    0          1       0        0      0   \n",
      "termeq            0     0  ...     3    0          0       2        2      1   \n",
      "other             0     0  ...     3    1          3       0        1      3   \n",
      "word              0     0  ...     4    0          0       0        0      0   \n",
      "veh               0     0  ...     0    5          0       0        1      1   \n",
      "substance         0     1  ...     0    1          7       0        0      1   \n",
      "letter            0     0  ...     1    0          0       0        0      0   \n",
      "product           0     0  ...     0    0          1       0        9      0   \n",
      "sport             0     1  ...     0    0          0       0        0     14   \n",
      "dismed            0     0  ...     0    0          0       0        0      0   \n",
      "color             0     1  ...     0    0          0       0        0      0   \n",
      "animal            0     0  ...     0    0          0       0        0      0   \n",
      "plant             0     0  ...     0    0          0       0        0      0   \n",
      "\n",
      "           dismed  color  animal  plant  \n",
      "event           0      0       0      0  \n",
      "cremat          0      0       0      0  \n",
      "body            1      0       0      0  \n",
      "symbol          1      0       0      0  \n",
      "instru          0      0       0      0  \n",
      "religion        0      0       0      0  \n",
      "techmeth        2      0       0      0  \n",
      "lang            0      0       0      0  \n",
      "currency        0      0       0      0  \n",
      "food            0      0       0      0  \n",
      "termeq          1      0       0      0  \n",
      "other           3      0       4      0  \n",
      "word            1      0       1      0  \n",
      "veh             0      0       0      0  \n",
      "substance       0      0       0      0  \n",
      "letter          0      0       0      0  \n",
      "product         0      0       0      0  \n",
      "sport           0      0       0      0  \n",
      "dismed         26      0       0      0  \n",
      "color           0      9       0      0  \n",
      "animal          0      1      24      0  \n",
      "plant           0      0       0      2  \n",
      "\n",
      "[22 rows x 22 columns] \n",
      "\n",
      "\n",
      "------------------ Test --------------------\n",
      "\n",
      "Accuracy: 0.7156549520766773\n",
      "Precision: 0.7504760765203107\n",
      "Recall: 0.7156549520766773\n",
      "Unweighted Average F1 Score: 0.7007980607596981\n",
      "\n",
      "------------------ Train --------------------\n",
      "\n",
      "Accuracy: 0.8431163287086446\n",
      "Precision: 0.8576488649323448\n",
      "Recall: 0.8431163287086446\n",
      "Unweighted Average F1 Score: 0.8368663612939035\n"
     ]
    },
    {
     "name": "stderr",
     "output_type": "stream",
     "text": [
      "/Users/Nima/anaconda3/lib/python3.7/site-packages/sklearn/metrics/classification.py:1437: UndefinedMetricWarning: Precision is ill-defined and being set to 0.0 in labels with no predicted samples.\n",
      "  'precision', 'predicted', average, warn_for)\n",
      "/Users/Nima/anaconda3/lib/python3.7/site-packages/sklearn/metrics/classification.py:1437: UndefinedMetricWarning: F-score is ill-defined and being set to 0.0 in labels with no predicted samples.\n",
      "  'precision', 'predicted', average, warn_for)\n"
     ]
    }
   ],
   "source": [
    "for lb in ['ABBR', 'HUM', 'DESC', 'NUM', 'LOC', 'ENTY']:\n",
    "    \n",
    "    vec_train, vec_test, sublabel_train, sublabel_test = train_test_split(\n",
    "        df_vec[df['label']==lb],df[df['label']==lb]['sublabel'],\n",
    "        test_size=0.25,random_state=0,stratify=df[df['label']==lb]['sublabel'])\n",
    "\n",
    "    # instantiate the model (using the default parameters)\n",
    "    logreg = LogisticRegression(solver='liblinear', multi_class='auto', class_weight='balanced')\n",
    "\n",
    "    # fit the model with data\n",
    "    logreg.fit(vec_train,sublabel_train)\n",
    "\n",
    "    # Predictions\n",
    "    sublabel_pred_test = logreg.predict(vec_test)\n",
    "    sublabel_pred_train = logreg.predict(vec_train)\n",
    "\n",
    "    classes = list(set(sublabel_test))\n",
    "\n",
    "    cnf_matrix = metrics.confusion_matrix(sublabel_test, sublabel_pred_test, labels=classes)\n",
    "    cnf_matrix = pd.DataFrame(cnf_matrix, columns=classes)\n",
    "    cnf_matrix.rename(index={i:k for i, k in enumerate(classes)}, inplace=True)\n",
    "\n",
    "    print(\"\\n------------------ \",lb,\" --------------------\\n\")\n",
    "    print(\"Note: Columns (predictions) vs. Rows (actuals)\\n\")\n",
    "    print(cnf_matrix,'\\n')\n",
    "\n",
    "    accuracy = metrics.accuracy_score(sublabel_test, sublabel_pred_test)\n",
    "    precision_score = metrics.precision_score(sublabel_test, sublabel_pred_test, average='weighted', labels=classes)\n",
    "    recall_score = metrics.recall_score(sublabel_test, sublabel_pred_test, average='weighted', labels=classes)\n",
    "    f1_score = metrics.f1_score(sublabel_test, sublabel_pred_test, average='weighted',labels=classes)\n",
    "\n",
    "    print(\"\\n------------------ Test --------------------\\n\")\n",
    "    print(\"Accuracy:\", accuracy)\n",
    "    print(\"Precision:\", precision_score)\n",
    "    print(\"Recall:\", recall_score)\n",
    "    print(\"Unweighted Average F1 Score:\", f1_score)\n",
    "    \n",
    "    accuracy = metrics.accuracy_score(sublabel_train, sublabel_pred_train)\n",
    "    precision_score = metrics.precision_score(sublabel_train, sublabel_pred_train, average='weighted', labels=classes)\n",
    "    recall_score = metrics.recall_score(sublabel_train, sublabel_pred_train, average='weighted', labels=classes)\n",
    "    f1_score = metrics.f1_score(sublabel_train, sublabel_pred_train, average='weighted',labels=classes)\n",
    "\n",
    "    print(\"\\n------------------ Train --------------------\\n\")\n",
    "    print(\"Accuracy:\", accuracy)\n",
    "    print(\"Precision:\", precision_score)\n",
    "    print(\"Recall:\", recall_score)\n",
    "    print(\"Unweighted Average F1 Score:\", f1_score)"
   ]
  },
  {
   "cell_type": "markdown",
   "metadata": {},
   "source": [
    "2-stage model: first Pr(main labels) -> add to the vector -> 306 dimension -> new logistic model"
   ]
  },
  {
   "cell_type": "markdown",
   "metadata": {},
   "source": [
    "### 3.4 Decision Tree: Main Labels"
   ]
  },
  {
   "cell_type": "code",
   "execution_count": 97,
   "metadata": {},
   "outputs": [
    {
     "name": "stdout",
     "output_type": "stream",
     "text": [
      "\n",
      "------------------ Test --------------------\n",
      "\n",
      "Accuracy: 0.43066764490095377\n",
      "\n",
      "------------------ Train --------------------\n",
      "\n",
      "Accuracy: 0.9975544142822206\n"
     ]
    }
   ],
   "source": [
    "from sklearn.tree import DecisionTreeClassifier \n",
    "\n",
    "vec_train, vec_test, label_train, label_test = train_test_split(\n",
    "    df_vec,df['label'],test_size=0.25,random_state=0, stratify=df['label'])\n",
    "\n",
    "# Create Decision Tree classifer object\n",
    "clf = DecisionTreeClassifier(criterion=\"entropy\", class_weight='balanced')\n",
    "\n",
    "# Train Decision Tree Classifer\n",
    "clf = clf.fit(vec_train,label_train)\n",
    "\n",
    "#Predict the response for test dataset\n",
    "label_pred_test = clf.predict(vec_test)\n",
    "label_pred_train = clf.predict(vec_train)\n",
    "\n",
    "accuracy = metrics.accuracy_score(label_test, label_pred_test)\n",
    "print(\"\\n------------------ Test --------------------\\n\")\n",
    "print(\"Accuracy:\", accuracy)\n",
    "\n",
    "accuracy = metrics.accuracy_score(label_train, label_pred_train)\n",
    "print(\"\\n------------------ Train --------------------\\n\")\n",
    "print(\"Accuracy:\", accuracy)"
   ]
  },
  {
   "cell_type": "markdown",
   "metadata": {},
   "source": [
    "Explainable but Random forest is better for modelling\n",
    "Find out key dimensions"
   ]
  },
  {
   "cell_type": "markdown",
   "metadata": {},
   "source": [
    "### 3.5 Performance Comparison"
   ]
  },
  {
   "cell_type": "markdown",
   "metadata": {},
   "source": [
    "### 3.5.1 **1000 data samples**\n",
    "\n",
    "|| LGR-Main Lables | LGR-Sublabels| LGR-Conditional | Decision Tree-Labels |\n",
    "|-----|--------|--------|--------|--------|\n",
    "|Accuracy| 0.684 | 0.544 | 0.443 - 0.854 | 0.384 |\n",
    " \n",
    "\n",
    " **Observation:** Poor calssification performance of ENTY sublabels given the main label, i.e., ENTY.\n",
    "\n",
    "**Conditioanl Classification**\n",
    "\n",
    "\n",
    "|   | ABBR | HUM | DESC | NUM | LOC | ENTY|\n",
    "|---|---|---|---|---|---|---|\n",
    "|Accuracy| 0.800 | 0.854 | 0.755 | 0.737 | 0.692 | 0.443 |"
   ]
  },
  {
   "cell_type": "markdown",
   "metadata": {},
   "source": [
    "### 3.5.2 **5452 data samples**\n",
    "\n",
    "|| LGR-Main Lables | LGR-Sublabels| LGR-Conditional | Decision Tree-Labels |\n",
    "|-----|--------|--------|--------|--------|\n",
    "|Accuracy| 0.743 | 0.650 | 0.689 - 0.909 | 0.428 |\n",
    " \n",
    "\n",
    " **Observation:** Poor calssification performance of ENTY sublabels given the main label, i.e., ENTY.\n",
    "\n",
    " **Conditioanl Classification**\n",
    "\n",
    "\n",
    "|   | ABBR | HUM | DESC | NUM | LOC | ENTY|\n",
    "|---|---|---|---|---|---|---|\n",
    "|Accuracy| 0.909 | 0.882 | 0.818 | 0.808 | 0.899 | 0.687 |"
   ]
  },
  {
   "cell_type": "markdown",
   "metadata": {},
   "source": [
    "### 3.5.3 **5452 data samples, Balanced training and Stratified sets**\n",
    "\n",
    "|| LGR-Main Lables | LGR-Sublabels| LGR-Conditional | Decision Tree-Labels |\n",
    "|-----|--------|--------|--------|--------|\n",
    "|Accuracy| 0.733 | 0.643 | 0.716 - 0.954 | 0.440 |\n",
    " \n",
    "\n",
    " **Observation:** Poor calssification performance of ENTY sublabels given the main label, i.e., ENTY.\n",
    "\n",
    " **Conditioanl Classification**\n",
    "\n",
    "\n",
    "|   | ABBR | HUM | DESC | NUM | LOC | ENTY|\n",
    "|---|---|---|---|---|---|---|\n",
    "|Accuracy| 0.954 | 0.925 | 0.859 | 0.844 | 0.919 | 0.716 |"
   ]
  },
  {
   "cell_type": "markdown",
   "metadata": {},
   "source": [
    "- vertical form: how long it takes to train. \n",
    "- F1\n",
    "- imbalanced dataset\n",
    "- balanced = true , or auto\n",
    "- Stratified train test split\n",
    "- oversampling: repeating the infrequent test data"
   ]
  },
  {
   "cell_type": "markdown",
   "metadata": {},
   "source": [
    "Next Step- USE (just encoder)\n",
    "BERT (enc/dec) - generate sentence"
   ]
  },
  {
   "cell_type": "markdown",
   "metadata": {},
   "source": [
    "## 4. USE"
   ]
  },
  {
   "cell_type": "markdown",
   "metadata": {},
   "source": [
    "### 4.1 Vector Generation"
   ]
  },
  {
   "cell_type": "code",
   "execution_count": 135,
   "metadata": {
    "scrolled": true
   },
   "outputs": [
    {
     "name": "stdout",
     "output_type": "stream",
     "text": [
      "INFO:tensorflow:Saver not created because there are no variables in the graph to restore\n"
     ]
    },
    {
     "name": "stderr",
     "output_type": "stream",
     "text": [
      "I0917 18:10:42.678633 4535920064 saver.py:1483] Saver not created because there are no variables in the graph to restore\n"
     ]
    }
   ],
   "source": [
    "import tensorflow as tf\n",
    "import tensorflow_hub as hub\n",
    "module_url = \"https://tfhub.dev/google/universal-sentence-encoder-large/3\"\n",
    "# Import the Universal Sentence Encoder's TF Hub module\n",
    "embed = hub.Module(module_url)\n",
    "\n",
    "# Compute a representation for each message, showing various lengths supported.\n",
    "messages = list(df['question'])\n",
    "\n",
    "with tf.Session() as session:\n",
    "  session.run([tf.global_variables_initializer(), tf.tables_initializer()])\n",
    "  message_embeddings = session.run(embed(messages))\n"
   ]
  },
  {
   "cell_type": "code",
   "execution_count": 50,
   "metadata": {},
   "outputs": [
    {
     "data": {
      "text/plain": [
       "(5452, 512)"
      ]
     },
     "execution_count": 50,
     "metadata": {},
     "output_type": "execute_result"
    }
   ],
   "source": [
    "message_embeddings.shape"
   ]
  },
  {
   "cell_type": "markdown",
   "metadata": {},
   "source": [
    "### 4.2 Logistic Regression: Main Lable Classification"
   ]
  },
  {
   "cell_type": "code",
   "execution_count": 98,
   "metadata": {},
   "outputs": [],
   "source": [
    "#import sklearn\n",
    "from sklearn.model_selection import train_test_split\n",
    "vec_train, vec_test, label_train, label_test = train_test_split(\n",
    "    message_embeddings,df['label'],test_size=0.25,random_state=0, stratify=df['label'])\n",
    "\n",
    "#import the class\n",
    "from sklearn.linear_model import LogisticRegression\n",
    "\n",
    "# instantiate the model (using the default parameters)\n",
    "logreg = LogisticRegression(solver='liblinear', multi_class='auto', class_weight='balanced')\n",
    "\n",
    "# fit the model with data\n",
    "logreg.fit(vec_train,label_train)\n",
    "\n",
    "# Predictions\n",
    "label_pred_test = logreg.predict(vec_test)\n",
    "label_pred_train = logreg.predict(vec_train)"
   ]
  },
  {
   "cell_type": "code",
   "execution_count": 99,
   "metadata": {},
   "outputs": [
    {
     "name": "stdout",
     "output_type": "stream",
     "text": [
      "Note: Columns (predictions) vs. Rows (actuals)\n",
      "\n",
      "      HUM  DESC  ENTY  LOC  ABBR  NUM\n",
      "HUM   284     3    10    8     0    1\n",
      "DESC    2   260    13    6     1    8\n",
      "ENTY   18    21   253    7     1   12\n",
      "LOC     1     5     5  198     0    0\n",
      "ABBR    0     7     0    0    15    0\n",
      "NUM     0     0     4    0     0  220\n"
     ]
    }
   ],
   "source": [
    "classes = list(set(label_test))\n",
    "\n",
    "# import the metrics class\n",
    "from sklearn import metrics\n",
    "\n",
    "cnf_matrix = metrics.confusion_matrix(label_test, label_pred_test, labels=classes)\n",
    "cnf_matrix = pd.DataFrame(cnf_matrix, columns=classes)\n",
    "cnf_matrix.rename(index={i:k for i, k in enumerate(classes)}, inplace=True)\n",
    "\n",
    "print(\"Note: Columns (predictions) vs. Rows (actuals)\\n\")\n",
    "print(cnf_matrix)\n"
   ]
  },
  {
   "cell_type": "code",
   "execution_count": 102,
   "metadata": {},
   "outputs": [
    {
     "name": "stdout",
     "output_type": "stream",
     "text": [
      "Accuracy: 0.9024211298606016\n",
      "Precision: 0.899428469727431\n",
      "Recall: 0.874480532535406\n",
      "Unweighted Average F1 Score: 0.8842112906805695\n"
     ]
    }
   ],
   "source": [
    "accuracy = metrics.accuracy_score(label_test, label_pred_test)\n",
    "precision_score = metrics.precision_score(label_test, label_pred_test, average='macro', labels=classes)\n",
    "recall_score = metrics.recall_score(label_test, label_pred_test, average='macro', labels=classes)\n",
    "f1_score = metrics.f1_score(label_test, label_pred_test, average='macro',labels=classes)\n",
    "\n",
    "print(\"Accuracy:\", accuracy)\n",
    "print(\"Precision:\", precision_score)\n",
    "print(\"Recall:\", recall_score)\n",
    "print(\"Unweighted Average F1 Score:\", f1_score)"
   ]
  },
  {
   "cell_type": "code",
   "execution_count": 103,
   "metadata": {},
   "outputs": [
    {
     "name": "stdout",
     "output_type": "stream",
     "text": [
      "Accuracy: 0.9024211298606016\n",
      "Precision: 0.887394618909599\n",
      "Recall: 0.8990734931695838\n",
      "Unweighted Average F1 Score: 0.8928597004005728\n"
     ]
    }
   ],
   "source": [
    "accuracy = metrics.accuracy_score(label_train, label_pred_train)\n",
    "precision_score = metrics.precision_score(label_train, label_pred_train, average='macro', labels=classes)\n",
    "recall_score = metrics.recall_score(label_train, label_pred_train, average='macro', labels=classes)\n",
    "f1_score = metrics.f1_score(label_train, label_pred_train, average='macro',labels=classes)\n",
    "\n",
    "print(\"Accuracy:\", accuracy)\n",
    "print(\"Precision:\", precision_score)\n",
    "print(\"Recall:\", recall_score)\n",
    "print(\"Unweighted Average F1 Score:\", f1_score)"
   ]
  },
  {
   "cell_type": "markdown",
   "metadata": {},
   "source": [
    "### 4.3 Logistic Regression: Sublabel Classification"
   ]
  },
  {
   "cell_type": "code",
   "execution_count": 104,
   "metadata": {},
   "outputs": [
    {
     "name": "stdout",
     "output_type": "stream",
     "text": [
      "Note: Columns (predictions) vs. Rows (actuals)\n",
      "\n",
      "           abb  event  weight  cremat  exp  volsize  period  dist  body  \\\n",
      "abb          2      0       0       0    2        0       0     0     0   \n",
      "event        0     10       0       1    0        0       0     0     0   \n",
      "weight       0      0       2       0    0        0       0     0     0   \n",
      "cremat       0      1       0      44    0        0       0     0     0   \n",
      "exp          0      0       0       0   14        0       0     0     0   \n",
      "volsize      0      0       0       0    0        3       0     0     0   \n",
      "period       0      0       0       0    0        0      17     1     0   \n",
      "dist         0      0       0       0    0        0       2     5     0   \n",
      "body         0      0       0       0    0        0       0     0     4   \n",
      "symbol       0      0       0       0    0        0       0     0     0   \n",
      "city         0      0       0       0    0        0       0     0     0   \n",
      "title        0      0       0       0    0        0       0     0     0   \n",
      "speed        0      0       0       0    0        0       0     1     0   \n",
      "religion     0      0       0       0    0        0       0     0     0   \n",
      "instru       0      0       0       0    0        0       0     0     0   \n",
      "plant        0      0       0       0    0        0       0     0     0   \n",
      "techmeth     0      0       0       0    0        0       1     0     0   \n",
      "desc         1      2       0       0    2        0       1     0     1   \n",
      "reason       0      1       0       0    0        0       0     0     0   \n",
      "lang         0      0       0       0    0        0       0     0     0   \n",
      "def          0      2       1       0    2        0       1     0     0   \n",
      "currency     0      0       0       0    0        0       0     0     0   \n",
      "food         0      0       0       0    0        1       0     0     0   \n",
      "termeq       1      1       0       0    0        0       0     0     0   \n",
      "manner       0      0       0       0    0        0       1     0     0   \n",
      "money        0      0       0       0    0        0       0     0     0   \n",
      "mount        0      0       0       0    0        0       0     0     0   \n",
      "ord          0      0       0       0    0        0       0     0     0   \n",
      "other        2      6       0       3    1        3       0     1     3   \n",
      "word         0      0       0       0    0        0       0     0     0   \n",
      "veh          0      0       0       0    0        0       0     0     0   \n",
      "date         0      0       0       0    0        0       0     1     0   \n",
      "substance    0      0       0       0    0        0       0     0     0   \n",
      "country      0      0       0       0    0        0       0     0     0   \n",
      "ind          0      0       0       5    0        0       0     0     1   \n",
      "product      0      0       0       0    0        0       0     0     0   \n",
      "letter       0      0       0       0    0        0       0     0     0   \n",
      "sport        0      0       0       0    0        0       0     0     0   \n",
      "count        0      0       0       0    0        0       4     6     0   \n",
      "dismed       0      1       0       0    0        0       0     0     1   \n",
      "color        0      0       0       0    0        0       0     0     0   \n",
      "perc         0      0       0       0    0        0       0     0     0   \n",
      "animal       0      0       0       1    0        0       0     0     0   \n",
      "state        0      0       0       0    0        0       0     0     0   \n",
      "temp         0      0       0       0    0        0       0     0     0   \n",
      "gr           0      3       0       2    0        0       0     0     0   \n",
      "code         0      0       0       0    0        0       0     0     0   \n",
      "\n",
      "           symbol  ...  sport  count  dismed  color  perc  animal  state  \\\n",
      "abb             0  ...      0      0       0      0     0       0      0   \n",
      "event           0  ...      0      0       0      0     0       0      0   \n",
      "weight          0  ...      0      1       0      0     0       0      0   \n",
      "cremat          0  ...      1      0       0      0     0       0      0   \n",
      "exp             0  ...      0      0       0      0     0       0      0   \n",
      "volsize         0  ...      0      0       0      0     0       0      0   \n",
      "period          0  ...      0      0       0      0     1       0      0   \n",
      "dist            0  ...      0      1       0      0     0       0      0   \n",
      "body            0  ...      0      0       0      0     0       0      0   \n",
      "symbol          2  ...      0      0       0      0     0       1      0   \n",
      "city            0  ...      0      0       0      0     0       0      1   \n",
      "title           0  ...      0      0       0      0     0       1      0   \n",
      "speed           0  ...      0      0       0      0     0       0      0   \n",
      "religion        0  ...      0      0       0      0     0       0      0   \n",
      "instru          0  ...      0      0       0      0     0       0      0   \n",
      "plant           0  ...      0      0       0      0     0       0      0   \n",
      "techmeth        0  ...      1      0       1      0     0       0      0   \n",
      "desc            0  ...      2      0       2      1     1       2      0   \n",
      "reason          0  ...      0      0       3      0     0       0      0   \n",
      "lang            0  ...      0      0       0      0     0       0      0   \n",
      "def             1  ...      1      1       1      0     0       4      0   \n",
      "currency        0  ...      0      0       0      0     0       0      0   \n",
      "food            0  ...      0      0       0      0     0       0      0   \n",
      "termeq          0  ...      1      0       0      0     0       1      0   \n",
      "manner          0  ...      0      0       0      0     0       0      0   \n",
      "money           0  ...      0      0       0      0     1       0      0   \n",
      "mount           0  ...      0      0       0      0     0       0      0   \n",
      "ord             0  ...      0      0       0      0     0       0      0   \n",
      "other           0  ...      1     13       1      0     2       4      5   \n",
      "word            0  ...      0      0       0      0     0       0      0   \n",
      "veh             0  ...      0      0       0      0     0       0      0   \n",
      "date            0  ...      0      0       0      0     0       0      0   \n",
      "substance       0  ...      0      0       1      0     0       0      0   \n",
      "country         0  ...      0      0       0      0     0       0      0   \n",
      "ind             0  ...      0      1       0      0     0       3      0   \n",
      "product         0  ...      0      0       0      0     0       0      0   \n",
      "letter          0  ...      0      0       0      0     0       0      0   \n",
      "sport           0  ...     15      0       0      0     0       0      0   \n",
      "count           0  ...      0     79       0      0     0       0      0   \n",
      "dismed          1  ...      0      0      22      0     0       0      0   \n",
      "color           0  ...      0      0       0      9     0       0      0   \n",
      "perc            0  ...      0      2       0      0     5       0      0   \n",
      "animal          0  ...      0      0       0      0     0      26      0   \n",
      "state           0  ...      0      0       0      0     0       0     15   \n",
      "temp            0  ...      0      0       0      0     0       0      0   \n",
      "gr              0  ...      0      0       0      0     0       0      0   \n",
      "code            0  ...      0      0       0      0     0       0      0   \n",
      "\n",
      "           temp  gr  code  \n",
      "abb           0   0     0  \n",
      "event         0   1     0  \n",
      "weight        0   0     0  \n",
      "cremat        0   1     0  \n",
      "exp           0   0     0  \n",
      "volsize       0   0     0  \n",
      "period        0   0     0  \n",
      "dist          0   0     0  \n",
      "body          0   0     0  \n",
      "symbol        0   0     0  \n",
      "city          0   0     0  \n",
      "title         0   0     0  \n",
      "speed         0   0     0  \n",
      "religion      0   0     0  \n",
      "instru        0   0     0  \n",
      "plant         0   0     0  \n",
      "techmeth      0   0     0  \n",
      "desc          2   1     0  \n",
      "reason        0   0     0  \n",
      "lang          0   0     0  \n",
      "def           0   0     0  \n",
      "currency      0   0     0  \n",
      "food          0   0     0  \n",
      "termeq        0   1     0  \n",
      "manner        0   0     0  \n",
      "money         0   1     0  \n",
      "mount         0   0     0  \n",
      "ord           0   0     0  \n",
      "other         0   2     2  \n",
      "word          0   0     0  \n",
      "veh           0   0     0  \n",
      "date          0   0     0  \n",
      "substance     0   0     0  \n",
      "country       0   0     0  \n",
      "ind           0   1     0  \n",
      "product       0   0     0  \n",
      "letter        0   0     0  \n",
      "sport         0   1     0  \n",
      "count         1   0     0  \n",
      "dismed        0   0     0  \n",
      "color         0   0     0  \n",
      "perc          0   0     0  \n",
      "animal        0   0     0  \n",
      "state         0   0     1  \n",
      "temp          2   0     0  \n",
      "gr            0  28     1  \n",
      "code          0   0     2  \n",
      "\n",
      "[47 rows x 47 columns] \n",
      "\n",
      "Accuracy: 0.7388114453411592\n",
      "Precision: 0.7847557136075219\n",
      "Recall: 0.7388114453411592\n",
      "Unweighted Average F1 Score: 0.7311608049515587\n"
     ]
    }
   ],
   "source": [
    "vec_train, vec_test, sublabel_train, sublabel_test = train_test_split(\n",
    "    message_embeddings,df['sublabel'],test_size=0.25,random_state=0,stratify=df['sublabel'])\n",
    "\n",
    "# instantiate the model (using the default parameters)\n",
    "logreg = LogisticRegression(solver='liblinear', multi_class='auto', class_weight='balanced')\n",
    "\n",
    "# fit the model with data\n",
    "logreg.fit(vec_train,sublabel_train)\n",
    "\n",
    "# Predictions\n",
    "sublabel_pred_test = logreg.predict(vec_test)\n",
    "sublabel_pred_train = logreg.predict(vec_train)\n",
    "\n",
    "classes = list(set(sublabel_test))\n",
    "\n",
    "cnf_matrix = metrics.confusion_matrix(sublabel_test, sublabel_pred_test, labels=classes)\n",
    "cnf_matrix = pd.DataFrame(cnf_matrix, columns=classes)\n",
    "cnf_matrix.rename(index={i:k for i, k in enumerate(classes)}, inplace=True)\n",
    "\n",
    "print(\"Note: Columns (predictions) vs. Rows (actuals)\\n\")\n",
    "print(cnf_matrix,\"\\n\")\n",
    "\n",
    "accuracy = metrics.accuracy_score(sublabel_test, sublabel_pred_test)\n",
    "precision_score = metrics.precision_score(sublabel_test, sublabel_pred_test, average='weighted', labels=classes)\n",
    "recall_score = metrics.recall_score(sublabel_test, sublabel_pred_test, average='weighted', labels=classes)\n",
    "f1_score = metrics.f1_score(sublabel_test, sublabel_pred_test, average='weighted',labels=classes)\n",
    "\n",
    "print(\"Accuracy:\", accuracy)\n",
    "print(\"Precision:\", precision_score)\n",
    "print(\"Recall:\", recall_score)\n",
    "print(\"Unweighted Average F1 Score:\", f1_score)"
   ]
  },
  {
   "cell_type": "code",
   "execution_count": 105,
   "metadata": {},
   "outputs": [
    {
     "name": "stdout",
     "output_type": "stream",
     "text": [
      "Accuracy: 0.7669356810956224\n",
      "Precision: 0.8118826901826869\n",
      "Recall: 0.7669356810956224\n",
      "Unweighted Average F1 Score: 0.7559292701867321\n"
     ]
    }
   ],
   "source": [
    "accuracy = metrics.accuracy_score(sublabel_train, sublabel_pred_train)\n",
    "precision_score = metrics.precision_score(sublabel_train, sublabel_pred_train, average='weighted', labels=classes)\n",
    "recall_score = metrics.recall_score(sublabel_train, sublabel_pred_train, average='weighted', labels=classes)\n",
    "f1_score = metrics.f1_score(sublabel_train, sublabel_pred_train, average='weighted',labels=classes)\n",
    "\n",
    "print(\"Accuracy:\", accuracy)\n",
    "print(\"Precision:\", precision_score)\n",
    "print(\"Recall:\", recall_score)\n",
    "print(\"Unweighted Average F1 Score:\", f1_score)"
   ]
  },
  {
   "cell_type": "markdown",
   "metadata": {},
   "source": [
    "### 4.4 Logistic Regression: Conditional Classification"
   ]
  },
  {
   "cell_type": "code",
   "execution_count": 106,
   "metadata": {},
   "outputs": [
    {
     "name": "stdout",
     "output_type": "stream",
     "text": [
      "\n",
      "------------------  ABBR  --------------------\n",
      "\n",
      "Note: Columns (predictions) vs. Rows (actuals)\n",
      "\n",
      "     abb  exp\n",
      "abb    4    0\n",
      "exp    4   14 \n",
      "\n",
      "\n",
      "------------------ Test --------------------\n",
      "\n",
      "Accuracy: 0.8181818181818182\n",
      "Precision: 0.9090909090909091\n",
      "Recall: 0.8181818181818182\n",
      "Unweighted Average F1 Score: 0.8371212121212122\n",
      "\n",
      "------------------ Train --------------------\n",
      "\n",
      "Accuracy: 0.984375\n",
      "Precision: 0.9855769230769231\n",
      "Recall: 0.984375\n",
      "Unweighted Average F1 Score: 0.9846116504854369\n",
      "\n",
      "------------------  HUM  --------------------\n",
      "\n",
      "Note: Columns (predictions) vs. Rows (actuals)\n",
      "\n",
      "       desc  ind  gr  title\n",
      "desc     10    2   0      0\n",
      "ind       1  235   5      0\n",
      "gr        0    3  44      0\n",
      "title     0    2   0      4 \n",
      "\n",
      "\n",
      "------------------ Test --------------------\n",
      "\n",
      "Accuracy: 0.9575163398692811\n",
      "Precision: 0.9579807129463355\n",
      "Recall: 0.9575163398692811\n",
      "Unweighted Average F1 Score: 0.9569659264672052\n",
      "\n",
      "------------------ Train --------------------\n",
      "\n",
      "Accuracy: 0.9574700109051254\n",
      "Precision: 0.957914105160561\n",
      "Recall: 0.9574700109051254\n",
      "Unweighted Average F1 Score: 0.9576147482320273\n",
      "\n",
      "------------------  DESC  --------------------\n",
      "\n",
      "Note: Columns (predictions) vs. Rows (actuals)\n",
      "\n",
      "        def  manner  desc  reason\n",
      "def     100       1     4       0\n",
      "manner    0      59     5       5\n",
      "desc      4       8    50       7\n",
      "reason    4       0     3      41 \n",
      "\n",
      "\n",
      "------------------ Test --------------------\n",
      "\n",
      "Accuracy: 0.8591065292096219\n",
      "Precision: 0.8586498489452454\n",
      "Recall: 0.8591065292096219\n",
      "Unweighted Average F1 Score: 0.8579527800170964\n",
      "\n",
      "------------------ Train --------------------\n",
      "\n",
      "Accuracy: 0.8840413318025259\n",
      "Precision: 0.8823125981914787\n",
      "Recall: 0.8840413318025259\n",
      "Unweighted Average F1 Score: 0.8825888158867459\n",
      "\n",
      "------------------  NUM  --------------------\n",
      "\n",
      "Note: Columns (predictions) vs. Rows (actuals)\n",
      "\n",
      "         count  weight  speed  volsize  money  ord  perc  other  period  date  \\\n",
      "count       77       0      1        1      1    0     1      2       5     0   \n",
      "weight       0       3      0        0      0    0     0      0       0     0   \n",
      "speed        0       0      2        0      0    0     0      0       0     0   \n",
      "volsize      0       0      0        3      0    0     0      0       0     0   \n",
      "money        0       0      0        0     18    0     0      0       0     0   \n",
      "ord          0       0      0        0      0    1     0      0       0     0   \n",
      "perc         4       0      0        0      0    0     3      0       0     0   \n",
      "other        2       0      0        1      0    0     1      9       0     0   \n",
      "period       0       0      0        0      0    0     0      0      18     1   \n",
      "date         0       0      0        0      0    0     0      0       1    52   \n",
      "temp         0       0      0        0      0    0     0      0       0     0   \n",
      "dist         1       0      0        0      0    0     0      1       0     0   \n",
      "code         0       0      0        0      0    0     0      0       0     0   \n",
      "\n",
      "         temp  dist  code  \n",
      "count       1     2     0  \n",
      "weight      0     0     0  \n",
      "speed       0     0     0  \n",
      "volsize     0     0     0  \n",
      "money       0     0     0  \n",
      "ord         0     0     0  \n",
      "perc        0     0     0  \n",
      "other       0     0     0  \n",
      "period      0     0     0  \n",
      "date        0     1     0  \n",
      "temp        2     0     0  \n",
      "dist        0     7     0  \n",
      "code        0     0     2   \n",
      "\n",
      "\n",
      "------------------ Test --------------------\n",
      "\n",
      "Accuracy: 0.8794642857142857\n",
      "Precision: 0.885790611552466\n",
      "Recall: 0.8794642857142857\n",
      "Unweighted Average F1 Score: 0.8791430826494605\n",
      "\n",
      "------------------ Train --------------------\n",
      "\n",
      "Accuracy: 0.9166666666666666\n",
      "Precision: 0.9195651277333904\n",
      "Recall: 0.9166666666666666\n",
      "Unweighted Average F1 Score: 0.9160594200229636\n",
      "\n",
      "------------------  LOC  --------------------\n",
      "\n",
      "Note: Columns (predictions) vs. Rows (actuals)\n",
      "\n",
      "         city  mount  other  state  country\n",
      "city       29      0      2      1        0\n",
      "mount       0      5      0      0        0\n",
      "other       4      0    105      4        3\n",
      "state       0      0      0     17        0\n",
      "country     2      0      0      0       37 \n",
      "\n",
      "\n",
      "------------------ Test --------------------\n",
      "\n",
      "Accuracy: 0.9234449760765551\n",
      "Precision: 0.9308967705817414\n",
      "Recall: 0.9234449760765551\n",
      "Unweighted Average F1 Score: 0.9248388473152224\n",
      "\n",
      "------------------ Train --------------------\n",
      "\n",
      "Accuracy: 0.939297124600639\n",
      "Precision: 0.9461280133604415\n",
      "Recall: 0.939297124600639\n",
      "Unweighted Average F1 Score: 0.9407198692490443\n",
      "\n",
      "------------------  ENTY  --------------------\n",
      "\n",
      "Note: Columns (predictions) vs. Rows (actuals)\n",
      "\n",
      "           event  cremat  body  symbol  instru  religion  techmeth  lang  \\\n",
      "event         10       0     0       0       0         0         1     0   \n",
      "cremat         1      51     0       0       0         0         0     0   \n",
      "body           0       0     3       0       0         0         0     0   \n",
      "symbol         1       0     0       1       0         0         0     0   \n",
      "instru         0       0     0       0       1         0         0     0   \n",
      "religion       0       0     0       0       0         1         0     0   \n",
      "techmeth       1       0     0       0       0         0         5     0   \n",
      "lang           0       0     0       0       0         0         0     4   \n",
      "currency       0       0     0       0       0         0         0     0   \n",
      "food           0       1     0       0       0         0         0     0   \n",
      "termeq         0       0     0       0       0         0         0     0   \n",
      "other          6       6     0       5       0         0         1     0   \n",
      "word           0       0     0       0       0         0         0     0   \n",
      "veh            0       0     0       0       0         0         0     0   \n",
      "substance      0       0     0       0       0         0         0     0   \n",
      "letter         0       0     0       0       0         0         0     0   \n",
      "product        0       0     0       0       0         0         0     0   \n",
      "sport          0       1     0       0       0         0         1     0   \n",
      "dismed         0       0     0       0       0         0         0     0   \n",
      "color          0       0     0       0       0         0         0     0   \n",
      "animal         0       0     0       0       0         0         0     0   \n",
      "plant          0       0     0       0       0         0         0     0   \n",
      "\n",
      "           currency  food  ...  word  veh  substance  letter  product  sport  \\\n",
      "event             0     0  ...     0    2          0       0        0      0   \n",
      "cremat            0     0  ...     0    0          0       0        0      0   \n",
      "body              0     0  ...     0    0          0       0        0      0   \n",
      "symbol            0     0  ...     0    0          0       0        0      0   \n",
      "instru            0     0  ...     0    0          1       0        0      0   \n",
      "religion          0     0  ...     0    0          0       0        0      0   \n",
      "techmeth          0     0  ...     0    0          0       0        0      2   \n",
      "lang              0     0  ...     0    0          0       0        0      0   \n",
      "currency          1     0  ...     0    0          0       0        0      0   \n",
      "food              0    24  ...     0    0          0       0        0      0   \n",
      "termeq            0     0  ...     1    0          0       3        0      0   \n",
      "other             2     2  ...     2    3          4       0        1      1   \n",
      "word              0     0  ...     2    0          0       2        0      0   \n",
      "veh               0     0  ...     0    5          0       0        1      1   \n",
      "substance         0     0  ...     0    0         10       0        0      0   \n",
      "letter            0     0  ...     0    0          0       2        0      0   \n",
      "product           0     0  ...     0    1          1       0        9      0   \n",
      "sport             0     0  ...     0    0          0       0        0     14   \n",
      "dismed            0     1  ...     0    0          0       0        0      0   \n",
      "color             0     0  ...     0    0          0       0        0      0   \n",
      "animal            0     0  ...     0    0          0       0        0      0   \n",
      "plant             0     0  ...     0    0          0       0        0      0   \n",
      "\n",
      "           dismed  color  animal  plant  \n",
      "event           0      0       0      0  \n",
      "cremat          0      0       0      0  \n",
      "body            0      0       1      0  \n",
      "symbol          0      0       0      0  \n",
      "instru          0      0       0      0  \n",
      "religion        0      0       0      0  \n",
      "techmeth        2      0       0      0  \n",
      "lang            0      0       0      0  \n",
      "currency        0      0       0      0  \n",
      "food            0      0       1      0  \n",
      "termeq          0      0       0      0  \n",
      "other           1      0       3      0  \n",
      "word            0      0       0      0  \n",
      "veh             0      0       0      0  \n",
      "substance       0      0       0      0  \n",
      "letter          0      0       0      0  \n",
      "product         0      0       0      0  \n",
      "sport           0      0       0      0  \n",
      "dismed         25      0       0      0  \n",
      "color           0     10       0      0  \n",
      "animal          1      0      27      0  \n",
      "plant           0      0       0      3  \n",
      "\n",
      "[22 rows x 22 columns] \n",
      "\n",
      "\n",
      "------------------ Test --------------------\n",
      "\n",
      "Accuracy: 0.7699680511182109\n",
      "Precision: 0.8123913812798351\n",
      "Recall: 0.7699680511182109\n",
      "Unweighted Average F1 Score: 0.7510736222114275\n",
      "\n",
      "------------------ Train --------------------\n",
      "\n",
      "Accuracy: 0.816435432230523\n",
      "Precision: 0.8388420569290882\n",
      "Recall: 0.816435432230523\n",
      "Unweighted Average F1 Score: 0.80403765721688\n"
     ]
    }
   ],
   "source": [
    "for lb in ['ABBR', 'HUM', 'DESC', 'NUM', 'LOC', 'ENTY']:\n",
    "    \n",
    "    vec_train, vec_test, sublabel_train, sublabel_test = train_test_split(\n",
    "        message_embeddings[df['label']==lb],df[df['label']==lb]['sublabel'],\n",
    "        test_size=0.25,random_state=0, stratify=df[df['label']==lb]['sublabel'])\n",
    "\n",
    "    # instantiate the model (using the default parameters)\n",
    "    logreg = LogisticRegression(solver='liblinear', multi_class='auto', class_weight='balanced')\n",
    "\n",
    "    # fit the model with data\n",
    "    logreg.fit(vec_train,sublabel_train)\n",
    "\n",
    "    # Predictions\n",
    "    sublabel_pred_test = logreg.predict(vec_test)\n",
    "    sublabel_pred_train = logreg.predict(vec_train)\n",
    "\n",
    "    classes = list(set(sublabel_test))\n",
    "\n",
    "    cnf_matrix = metrics.confusion_matrix(sublabel_test, sublabel_pred_test, labels=classes)\n",
    "    cnf_matrix = pd.DataFrame(cnf_matrix, columns=classes)\n",
    "    cnf_matrix.rename(index={i:k for i, k in enumerate(classes)}, inplace=True)\n",
    "\n",
    "    print(\"\\n------------------ \",lb,\" --------------------\\n\")\n",
    "    print(\"Note: Columns (predictions) vs. Rows (actuals)\\n\")\n",
    "    print(cnf_matrix,'\\n')\n",
    "\n",
    "    accuracy = metrics.accuracy_score(sublabel_test, sublabel_pred_test)\n",
    "    precision_score = metrics.precision_score(sublabel_test, sublabel_pred_test, average='weighted', labels=classes)\n",
    "    recall_score = metrics.recall_score(sublabel_test, sublabel_pred_test, average='weighted', labels=classes)\n",
    "    f1_score = metrics.f1_score(sublabel_test, sublabel_pred_test, average='weighted',labels=classes)\n",
    "\n",
    "    print(\"\\n------------------ Test --------------------\\n\")\n",
    "    print(\"Accuracy:\", accuracy)\n",
    "    print(\"Precision:\", precision_score)\n",
    "    print(\"Recall:\", recall_score)\n",
    "    print(\"Unweighted Average F1 Score:\", f1_score)\n",
    "    \n",
    "    accuracy = metrics.accuracy_score(sublabel_train, sublabel_pred_train)\n",
    "    precision_score = metrics.precision_score(sublabel_train, sublabel_pred_train, average='weighted', labels=classes)\n",
    "    recall_score = metrics.recall_score(sublabel_train, sublabel_pred_train, average='weighted', labels=classes)\n",
    "    f1_score = metrics.f1_score(sublabel_train, sublabel_pred_train, average='weighted',labels=classes)\n",
    "\n",
    "    print(\"\\n------------------ Train --------------------\\n\")\n",
    "    print(\"Accuracy:\", accuracy)\n",
    "    print(\"Precision:\", precision_score)\n",
    "    print(\"Recall:\", recall_score)\n",
    "    print(\"Unweighted Average F1 Score:\", f1_score)"
   ]
  },
  {
   "cell_type": "markdown",
   "metadata": {},
   "source": [
    "### 4.5 Decision Tree: Main Labels"
   ]
  },
  {
   "cell_type": "code",
   "execution_count": 110,
   "metadata": {},
   "outputs": [
    {
     "name": "stdout",
     "output_type": "stream",
     "text": [
      "\n",
      "------------------ Test --------------------\n",
      "\n",
      "Accuracy: 0.7182685253118122\n",
      "\n",
      "------------------ Train --------------------\n",
      "\n",
      "Accuracy: 1.0\n"
     ]
    }
   ],
   "source": [
    "from sklearn.tree import DecisionTreeClassifier \n",
    "\n",
    "vec_train, vec_test, label_train, label_test = train_test_split(\n",
    "    message_embeddings,df['label'],test_size=0.25,random_state=0, stratify=df['label'])\n",
    "\n",
    "# Create Decision Tree classifer object\n",
    "clf = DecisionTreeClassifier(criterion=\"entropy\", class_weight='balanced')\n",
    "\n",
    "# Train Decision Tree Classifer\n",
    "clf = clf.fit(vec_train,label_train)\n",
    "\n",
    "#Predict the response for test dataset\n",
    "label_pred_test = clf.predict(vec_test)\n",
    "label_pred_train = clf.predict(vec_train)\n",
    "\n",
    "accuracy = metrics.accuracy_score(label_test, label_pred_test)\n",
    "print(\"\\n------------------ Test --------------------\\n\")\n",
    "print(\"Accuracy:\", accuracy)\n",
    "\n",
    "accuracy = metrics.accuracy_score(label_train, label_pred_train)\n",
    "print(\"\\n------------------ Train --------------------\\n\")\n",
    "print(\"Accuracy:\", accuracy)"
   ]
  },
  {
   "cell_type": "markdown",
   "metadata": {},
   "source": [
    "### 4.6 Performance"
   ]
  },
  {
   "cell_type": "markdown",
   "metadata": {},
   "source": [
    "#### 4.6.1 **Accuracy - 5452 data samples**\n",
    "\n",
    "|| LGR-Main Lables | LGR-Sublabels| LGR-Conditional | Decision Tree-Labels |\n",
    "|-----|--------|--------|--------|--------|\n",
    "|Spacy| 0.743 | 0.650 | 0.689 - 0.909 | 0.428 |\n",
    "|USE| 0.896 | 0.728 | 0.712 - 0.895 | 0.717 |\n",
    " \n",
    "\n",
    " **Conditioanl Classification**\n",
    "\n",
    "\n",
    "|   | ABBR | HUM | DESC | NUM | LOC | ENTY|\n",
    "|---|---|---|---|---|---|---|\n",
    "|Spacy| 0.909 | 0.882 | 0.818 | 0.808 | 0.899 | 0.687 |\n",
    "|USE| 0.727 | 0.895 | 0.835 | 0.790 | 0.885 | 0.712 |"
   ]
  },
  {
   "cell_type": "markdown",
   "metadata": {},
   "source": [
    "#### 4.6.2 **Accuracy - 5452 data samples, Balanced/Stratified**\n",
    "\n",
    "|| LGR-Main Lables | LGR-Sublabels| LGR-Conditional | Decision Tree-Labels |\n",
    "|-----|--------|--------|--------|--------|\n",
    "|Spacy| 0.733 | 0.643 | 0.716 - 0.954 | 0.440 |\n",
    "|USE| 0.902 | 0.739 | 0.770 - 0.957 | 0.718 |\n",
    " \n",
    "\n",
    " **Conditioanl Classification**\n",
    "\n",
    "\n",
    "|   | ABBR | HUM | DESC | NUM | LOC | ENTY|\n",
    "|---|---|---|---|---|---|---|\n",
    "|Spacy|  0.954 | 0.925 | 0.859 | 0.844 | 0.919 | 0.716 |\n",
    "|USE| 0.818 | 0.957 | 0.859 | 0.879 | 0.923 | 0.770 |"
   ]
  },
  {
   "cell_type": "markdown",
   "metadata": {},
   "source": [
    "## 5. Keras"
   ]
  },
  {
   "cell_type": "code",
   "execution_count": 136,
   "metadata": {},
   "outputs": [
    {
     "name": "stdout",
     "output_type": "stream",
     "text": [
      "INFO:tensorflow:Saver not created because there are no variables in the graph to restore\n"
     ]
    },
    {
     "name": "stderr",
     "output_type": "stream",
     "text": [
      "I0917 18:13:40.354704 4535920064 saver.py:1483] Saver not created because there are no variables in the graph to restore\n"
     ]
    }
   ],
   "source": [
    "def UniversalEmbedding(x):\n",
    "    return embed(tf.squeeze(tf.cast(x, tf.string)), signature=\"default\", as_dict=True)[\"default\"]\n",
    "\n",
    "from keras import layers\n",
    "from keras.models import Model\n",
    "\n",
    "input_text = layers.Input(shape=(1,), dtype=tf.string)\n",
    "embedding = layers.Lambda(UniversalEmbedding, output_shape=(512,))(input_text)\n",
    "dense = layers.Dense(256, activation='relu')(embedding)\n",
    "pred = layers.Dense(6, activation='softmax')(dense)\n",
    "model = Model(inputs=[input_text], outputs=pred)\n",
    "model.compile(loss='categorical_crossentropy', optimizer='adam', metrics=['accuracy'])"
   ]
  },
  {
   "cell_type": "code",
   "execution_count": 137,
   "metadata": {},
   "outputs": [
    {
     "name": "stdout",
     "output_type": "stream",
     "text": [
      "_________________________________________________________________\n",
      "Layer (type)                 Output Shape              Param #   \n",
      "=================================================================\n",
      "input_4 (InputLayer)         (None, 1)                 0         \n",
      "_________________________________________________________________\n",
      "lambda_3 (Lambda)            (None, 512)               0         \n",
      "_________________________________________________________________\n",
      "dense_4 (Dense)              (None, 256)               131328    \n",
      "_________________________________________________________________\n",
      "dense_5 (Dense)              (None, 6)                 1542      \n",
      "=================================================================\n",
      "Total params: 132,870\n",
      "Trainable params: 132,870\n",
      "Non-trainable params: 0\n",
      "_________________________________________________________________\n"
     ]
    }
   ],
   "source": [
    "model.summary()"
   ]
  },
  {
   "cell_type": "code",
   "execution_count": 138,
   "metadata": {},
   "outputs": [],
   "source": [
    "import pandas as pd\n",
    "import numpy as np\n",
    "\n",
    "text_train, text_test, label_train, label_test = train_test_split(\n",
    "    df['question'],df['label'],test_size=0.25,random_state=0, stratify=df['label'])\n",
    "\n",
    "label_train = np.asarray(pd.get_dummies(label_train), dtype = np.int8)\n",
    "label_test = np.asarray(pd.get_dummies(label_test), dtype = np.int8)\n"
   ]
  },
  {
   "cell_type": "code",
   "execution_count": 139,
   "metadata": {},
   "outputs": [
    {
     "name": "stdout",
     "output_type": "stream",
     "text": [
      "WARNING:tensorflow:From /Users/Nima/anaconda3/lib/python3.7/site-packages/tensorflow/python/ops/math_ops.py:3066: to_int32 (from tensorflow.python.ops.math_ops) is deprecated and will be removed in a future version.\n",
      "Instructions for updating:\n",
      "Use tf.cast instead.\n"
     ]
    },
    {
     "name": "stderr",
     "output_type": "stream",
     "text": [
      "W0917 18:14:19.405952 4535920064 deprecation.py:323] From /Users/Nima/anaconda3/lib/python3.7/site-packages/tensorflow/python/ops/math_ops.py:3066: to_int32 (from tensorflow.python.ops.math_ops) is deprecated and will be removed in a future version.\n",
      "Instructions for updating:\n",
      "Use tf.cast instead.\n"
     ]
    },
    {
     "name": "stdout",
     "output_type": "stream",
     "text": [
      "Train on 4089 samples, validate on 1363 samples\n",
      "Epoch 1/10\n",
      "4089/4089 [==============================] - 93s 23ms/step - loss: 0.8423 - acc: 0.7532 - val_loss: 0.3992 - val_acc: 0.8738\n",
      "Epoch 2/10\n",
      "4089/4089 [==============================] - 66s 16ms/step - loss: 0.3526 - acc: 0.8863 - val_loss: 0.3150 - val_acc: 0.8980\n",
      "Epoch 3/10\n",
      "4089/4089 [==============================] - 65s 16ms/step - loss: 0.2965 - acc: 0.8985 - val_loss: 0.3041 - val_acc: 0.9017\n",
      "Epoch 4/10\n",
      "4089/4089 [==============================] - 63s 15ms/step - loss: 0.2723 - acc: 0.9090 - val_loss: 0.2866 - val_acc: 0.9090\n",
      "Epoch 5/10\n",
      "4089/4089 [==============================] - 61s 15ms/step - loss: 0.2515 - acc: 0.9115 - val_loss: 0.2869 - val_acc: 0.9120\n",
      "Epoch 6/10\n",
      "4089/4089 [==============================] - 62s 15ms/step - loss: 0.2395 - acc: 0.9132 - val_loss: 0.2739 - val_acc: 0.9156\n",
      "Epoch 7/10\n",
      "4089/4089 [==============================] - 62s 15ms/step - loss: 0.2279 - acc: 0.9200 - val_loss: 0.2749 - val_acc: 0.9178\n",
      "Epoch 8/10\n",
      "4089/4089 [==============================] - 60s 15ms/step - loss: 0.2201 - acc: 0.9213 - val_loss: 0.2783 - val_acc: 0.9142\n",
      "Epoch 9/10\n",
      "4089/4089 [==============================] - 65s 16ms/step - loss: 0.2038 - acc: 0.9254 - val_loss: 0.2725 - val_acc: 0.9186\n",
      "Epoch 10/10\n",
      "4089/4089 [==============================] - 60s 15ms/step - loss: 0.1978 - acc: 0.9335 - val_loss: 0.2697 - val_acc: 0.9178\n"
     ]
    }
   ],
   "source": [
    "from keras import backend as K\n",
    "\n",
    "with tf.Session() as session:\n",
    "  K.set_session(session)\n",
    "  session.run(tf.global_variables_initializer())\n",
    "  session.run(tf.tables_initializer())\n",
    "  history = model.fit(text_train, \n",
    "            label_train,\n",
    "            validation_data=(text_test, label_test),\n",
    "            epochs=10,\n",
    "            batch_size=32)\n",
    "  model.save_weights('./model.h5')"
   ]
  },
  {
   "cell_type": "markdown",
   "metadata": {},
   "source": [
    "### 5.1 Performance"
   ]
  },
  {
   "cell_type": "markdown",
   "metadata": {},
   "source": [
    "**Accuracy - 5452 data samples, Balanced/Stratified**\n",
    "\n",
    "|| LGR-Main Lables | LGR-Sublabels| LGR-Conditional | Decision Tree-Labels | NN |\n",
    "|-----|--------|--------|--------|--------|-------|\n",
    "|Spacy| 0.733 | 0.643 | 0.716 - 0.954 | 0.440 | N.A. |\n",
    "|USE| 0.902 | 0.739 | 0.770 - 0.957 | 0.718 | 0.918|"
   ]
  },
  {
   "cell_type": "markdown",
   "metadata": {},
   "source": [
    "## 6. Data Story"
   ]
  },
  {
   "cell_type": "code",
   "execution_count": 20,
   "metadata": {},
   "outputs": [],
   "source": [
    "# load spacy dictionary\n",
    "nlp = spacy.load('en_core_web_lg')"
   ]
  },
  {
   "cell_type": "code",
   "execution_count": 178,
   "metadata": {},
   "outputs": [
    {
     "name": "stdout",
     "output_type": "stream",
     "text": [
      "{'HUM': {'What': 301, 'contemptible': 3, 'scoundrel': 3, 'cork': 3, 'lunch': 3, 'team': 25, 'baseball': 24, 'St.': 3, 'Louis': 2, 'Browns': 2, 'oldest': 4, 'profession': 5, 'scar': 1, 'bounty': 2, 'hunter': 2, 'Old': 2, 'West': 6, 'Who': 559, 'Pride': 1, 'Yankees': 3, 'Gandhi': 2, 'famous': 32, 'martyrs': 1, 'inventor': 3, 'silly': 3, 'putty': 4, 'company': 42, 'video': 3, 'game': 9, 'hardware': 1, 'super': 3, 'system': 1, 'cowboy': 3, 'star': 16, 'Tony': 1, 'Wonder': 1, 'Horse': 2, 'ISPs': 1, 'Caribbean': 1, 'prophet': 4, 'Muslim': 1, 'people': 13, 'Snoopy': 1, 'arch': 2, 'enemy': 1, 'Herb': 2, 'Tootsie': 1, 'next': 1, 'door': 3, 'founder': 3, 'Scientology': 1, 'Singing': 2, 'Rain': 1, 'Nun': 2, '19th': 3, 'century': 6, 'painter': 4, 'Marquesas': 1, 'Islands': 1, 'Marx': 1, 'brothers': 3, 'logo': 1, 'W': 1, 'circle': 1, 'Make': 1, 'up': 1, 'Rhodes': 2, 'Scholar': 1, 'now': 4, 'defunct': 1, 'comic': 8, 'book': 10, 'Champions': 1, 'crooner': 1, 'Andrews': 2, 'Sisters': 1, 'Pistol': 1, 'Packin': 1, 'Mama': 1, 'piano': 1, 'product': 2, 'Instrument': 1, 'immortals': 1, 'actress': 21, 'most': 32, 'Oscar': 3, 'nominations': 1, 'Spumante': 4, 'money': 4, 'hard': 2, 'way': 2, 'People': 1, 'Temple': 1, 'Commune': 1, 'athlete': 1, 'sports': 4, 'merchandise': 1, 'sales': 1, 'electricity': 1, 'first': 81, 'American': 22, 'space': 5, 'Japanese': 6, 'car': 4, 'maker': 3, 'biggest': 3, 'percentage': 1, 'sale': 1, 'domestic': 1, 'market': 1, 'mayor': 6, 'Marbella': 1, 'themes': 1, 'Dawson': 1, 'Creek': 1, 'Felicity': 1, 'Jaws': 2, 'Indian': 3, 'tribe': 2, 'F': 1, 'Troop': 1, 'perpetually': 1, 'battle': 3, 'name': 95, 'director': 9, 'Apricot': 1, 'Computer': 2, 'occupation': 5, 'Nicholas': 4, 'Cage': 4, 'Ventura': 5, 'County': 7, 'police': 7, 'department': 8, 'largest': 11, 'cocaine': 5, 'shipment': 1, 'it': 8, 'history': 4, 'Dennis': 1, 'Menace': 1, 'dummy': 1, 'honorary': 2, 'degree': 1, 'Northwestern': 1, 'University': 2, 'Name': 9, 'Alvin': 1, 'actor': 22, 'Day': 5, 'Races': 1, 'he': 25, 'dead': 5, 'watch': 1, 'explorer': 2, 'Iberia': 1, 'Pilot': 1, 'Internet': 3, 'browser': 1, 'Mosaic': 1, 'organization': 9, 'offices': 1, 'Watergate': 5, 'Russian': 7, 'composer': 5, 'Prelude': 1, 'C': 1, 'Sharp': 1, 'Minor': 1, 'him': 4, 'fame': 2, 'fortune': 1, 'mother': 5, 'man': 15, 'who': 38, 'not': 17, 'king': 9, 'duke': 1, 'Windsor': 1, 'astronaut': 4, 'spacewalk': 2, 'NN': 9, 'DT': 1, 'NNP': 2, 'diminutive': 1, 'female': 7, 'gymnast': 1, 'show': 15, 'Olympics': 2, 'schools': 2, 'Washington': 6, 'DC': 3, 'VBP': 1, 'Terrence': 1, 'Malick': 1, 'President': 36, 'Afghanistan': 1, 'lead': 2, 'movie': 21, 'Sleepless': 1, 'Seattle': 1, '16th': 1, 'United': 7, 'States': 5, 'sons': 2, 'Ozzie': 1, 'Harriet': 1, 'Nelson': 2, 'author': 9, 'computer': 4, 'hackers': 1, 'Cuckoo': 1, 'Egg': 1, 'Spy': 1, 'Maze': 1, 'Espionage': 1, 'member': 8, 'Pink': 1, 'Floyd': 1, 'band': 6, 'toy': 2, 'world': 25, 'No.1': 1, 'apparel': 1, 'Doonesbury': 2, 'character': 24, 'likely': 1, 'werewolf': 1, 'Super': 6, 'Bowls': 1, 'only': 17, 'role': 9, 'Silent': 3, 'Movie': 3, 'girl': 6, 'Teddy': 1, 'affectionate': 1, 'form': 2, 'ballots': 1, 'voting': 1, 'Academy': 4, 'Awards': 1, 'boat': 1, 'gopher': 1, 'wood': 1, 'Bloom': 1, 'resident': 1, 'havoc': 2, 'part': 8, 'John': 10, 'Peter': 6, 'Zenger': 1, 'deveopment': 1, 'newspaper': 2, 'America': 8, 'Caesar': 2, 'woman': 16, 'golfer': 3, 'advertizing': 1, 'Frito': 1, 'Lay': 1, 'competitor': 1, 'Trans': 1, 'Union': 3, 'Company': 2, 'radio': 5, 'pig': 1, 'strings': 1, 'Miss': 5, 'Piggy': 2, 'James': 4, 'Bond': 2, 'poet': 7, 'Nobel': 4, 'Prize': 7, 'literature': 1, 'Peace': 2, 'Challengers': 1, 'Unknown': 1, 'coach': 5, 'Cleveland': 2, 'Bowl': 5, 'III': 1, 'We': 1, 'I': 28, 'down': 2, 'whores': 1, 'shan': 1, 't': 3, 'them': 5, 'Soviet': 7, 'leader': 16, 'Rolls': 1, 'Royce': 1, 'song': 9, 'Stardust': 1, 'prime': 9, 'minister': 10, 'Canada': 1, 'years': 6, 'necessarily': 1, 'consecutively': 1, 'Will': 1, 'Rogers': 4, 'Award': 4, 'lawyer': 13, 'Randy': 12, 'Craft': 12, 'Polynesian': 1, 'New': 19, 'Zealand': 1, 'North': 3, 'Delaware': 1, 'Street': 1, 'Independence': 1, 'Missouri': 1, 'model': 2, 'married': 3, 'Billy': 3, 'Joel': 1, 'stardom': 1, 'Fred': 2, 'Astaire': 2, 'You': 5, 'Never': 1, 'Rich': 1, 'Stein': 1, 'Eriksen': 1, 'fastest': 2, 'swimmer': 2, 'autobiography': 3, 'Yesterdays': 1, 'master': 1, 'spy': 2, 'U.S.': 40, 'Emil': 1, 'Goldfus': 1, 'original': 7, 'Charlie': 5, 'Angels': 3, 'Night': 4, 'Iguana': 1, 'Mother': 5, 'Child': 1, 'Mao': 2, 'second': 4, 'Queen': 5, 'more': 7, 'DNA': 1, 'level': 1, 'government': 3, 'governmental': 1, 'agency': 2, 'responsible': 2, 'racism': 1, 'El': 3, 'Nino': 1, 'dictator': 3, 'nickname': 11, 'Maximo': 1, 'stereo': 1, 'manufacturer': 3, 'Slightly': 1, 'ahead': 1, 'time': 8, 'TV': 26, 'sitcom': 1, 'maiden': 1, 'Ethel': 1, 'Potter': 1, 'diary': 2, 'English': 7, 'language': 1, 'Spanish': 5, 'artist': 4, 'Crucifixion': 1, 'novelist': 3, 'Moscow': 1, 'correspondent': 1, 'Reuter': 1, 'Times': 3, 'London': 4, 'oil': 3, 'almost': 2, 'word': 2, 'new': 3, 'international': 3, 'Steven': 6, 'host': 6, 'Person': 2, 'Ranger': 2, 'always': 3, 'Yogi': 2, 'Bear': 2, 'superstar': 2, 'rent': 2, 'cars': 3, 'president': 29, 'Stanford': 1, 'presidential': 4, 'order': 2, \"'s\": 3, 'goddamn': 1, 'thing': 3, 'airborne': 1, 'back': 1, 'Poker': 1, 'Deadwood': 1, 'Dakota': 1, 'territory': 1, 'best': 8, 'college': 13, 'country': 3, 'wrestling': 1, 'Incredible': 2, 'Hulk': 3, 'Broadway': 2, 'Golden': 1, 'Boy': 1, 'army': 4, 'William': 7, 'Booth': 1, 'wife': 6, 'Catherine': 1, 'real': 7, 'toothbrush': 1, 'year': 5, 'contract': 1, \"n't\": 2, 'hero': 3, 'fans': 3, 'Chomper': 1, 'comediennes': 1, 'characters': 4, 'former': 5, 'Nora': 1, 'Desmond': 4, 'secretary': 4, 'Mrs.': 3, 'Wiggins': 1, 'housewife': 2, 'Eunice': 1, '187s': 1, 'Irish': 2, 'terrorist': 3, 'group': 12, 'Pennsylvania': 2, 'mining': 1, 'areas': 1, 'Ringo': 1, 'Kid': 4, 'film': 8, 'Stagecoach': 1, 'feet': 1, 'where': 2, 'F.': 4, 'Kennedy': 4, 'Nipsy': 1, 'Russell': 1, 'birth': 2, 'youngest': 1, 'Beatles': 1, 'Coronado': 1, 'Holy': 2, 'Roman': 2, 'Emperor': 3, 'Security': 4, 'Council': 4, 'airwaves': 1, 'such': 2, 'pearls': 1, 'lo': 1, 'o': 2, 'me': 6, 'naked': 1, 'baby': 4, 'portly': 1, 'criminologist': 1, 'Carl': 2, 'Hyatt': 1, 'Checkmate': 1, 'Whom': 4, 'Chicago': 3, 'Bulls': 1, 'championship': 3, 'Tutu': 2, 'names': 12, 'Rowan': 1, 'Martin': 2, 'stars': 3, 'Laugh': 1, 'In': 1, 'worst': 2, 'US': 4, 'ever': 7, 'Asian': 2, 'Little': 4, 'Brown': 4, 'Saint': 1, 'Drink': 1, 'thine': 1, 'eyes': 1, 'Ben': 4, 'Johnson': 1, 'monarch': 3, 'Kingdom': 1, 'top': 6, 'common': 7, 'data': 1, 'collection': 2, 'tourism': 1, 'daughter': 4, 'Virginia': 3, 'chief': 2, 'Powhatan': 1, 'Rolfe': 1, 'founders': 1, 'Artists': 1, 'Nazi': 2, 'uniform': 1, 'Woodrow': 3, 'Wilson': 3, 'what': 12, 'university': 7, 'oddsmaker': 1, 'Jimmy': 3, 'Snyder': 1, 'Victoria': 1, 'title': 10, 'India': 3, 'buffalo': 1, 'food': 7, 'crew': 1, 'Kansas': 1, 'Pacific': 1, 'Railway': 1, 'double': 1, 'professor': 1, 'doctorate': 1, 'Nothing': 2, 'writer': 7, 'estate': 1, 'Hudson': 2, 'Sunnyside': 1, 'cook': 1, 'Rawhide': 1, 'Admiral': 1, 'Ocean': 1, 'Seas': 1, 'Viceroy': 1, 'Governor': 1, 'General': 2, 'islands': 1, 'also': 4, 'profits': 1, 'voyage': 1, 'marlin': 1, 'harness': 1, 'early': 3, 'divorce': 3, 'settlement': 1, 'Sheika': 1, 'Dena': 1, 'Al': 4, 'Farri': 1, 'last': 11, 'newscast': 1, 'March': 1, 'major': 12, 'league': 9, 'handed': 1, 'pitcher': 3, 'Space': 2, 'Man': 4, 'Michelangelo': 1, 'Barbara': 1, 'Jordan': 1, 'Democratic': 3, 'nominee': 1, 'election': 4, 'Congress': 2, 'attack': 1, 'Pearl': 1, 'Harbor': 1, 'quarterbacks': 1, 'classical': 2, 'gold': 5, 'sister': 4, 'Maria': 3, 'Ybarra': 1, 'position': 1, 'San': 5, 'Diego': 4, 'council': 1, 'black': 5, 'Masters': 1, 'fondness': 1, 'bee': 2, 'pollen': 1, 'bars': 1, 'Whose': 4, 'cover': 4, 'employee': 1, 'Universal': 1, 'Import': 1, 'Export': 1, 'Murder': 1, 'White': 6, 'House': 5, 'fictional': 2, 'melancholy': 1, 'Dane': 1, 'longtime': 1, 'Central': 2, 'Park': 3, 'filthiest': 1, 'alive': 1, 'disc': 2, 'jockey': 4, 'Wolfman': 1, 'Jack': 3, 'middle': 4, 'school': 5, 'Philadelphia': 2, 'phonograph': 1, 'private': 2, 'detective': 4, 'Philip': 1, 'Marlowe': 1, 'Colin': 1, 'Powell': 1, 'term': 1, 'cyberspace': 1, 'novel': 4, 'Neuromancer': 1, 'full': 3, 'multicolored': 1, 'cube': 1, 'potential': 1, 'combinations': 1, 'Lauren': 2, 'Bacall': 2, 'husband': 7, 'Congressman': 1, 'faith': 2, 'Scrooge': 2, 'party': 3, 'Winston': 1, 'Churchill': 1, 'League': 4, 'finish': 1, 'fourth': 1, 'Body': 1, 'Good': 3, 'fences': 1, 'good': 4, 'neighbors': 1, 'Mandy': 1, 'Rice': 1, 'Davies': 1, 'Sistine': 1, 'Chapel': 1, 'various': 2, 'costumed': 1, 'personas': 1, 'Dr.': 2, 'Henry': 6, 'Pym': 1, 'explorers': 1, 'Columbus': 1, 'Americas': 1, 'Goldie': 1, 'Hawn': 1, 'current': 3, 'boyfriend': 1, 'Rose': 2, 'games': 3, 'Richard': 4, 'Nixon': 7, 'daughters': 2, 'Rev.': 1, 'Jerry': 3, 'Falwell': 1, 'Yahoo': 1, 'how': 1, 'much': 3, 'deal': 1, 'worth': 1, 'Corporal': 1, 'folk': 1, 'Chapman': 1, 'photographer': 2, 'Yousuf': 1, 'Karsh': 1, 'shiest': 1, 'poem': 3, 'gods': 2, 'river': 1, 'strong': 1, 'brown': 1, 'god': 3, 'sullen': 1, 'untamed': 1, 'barroom': 1, 'judge': 1, 'himself': 5, 'Law': 1, 'Pecos': 1, 'Costa': 1, 'Rica': 1, 'chairman': 3, 'Senate': 4, 'select': 1, 'committee': 1, 'bottom': 1, 'Blue': 3, 'Lagoon': 1, 'Pirate': 1, 'A': 2, 'Heaven': 1, 'voice': 4, 'Bert': 1, 'Parks': 1, 'Pageant': 1, 'person': 9, 'Swimming': 1, 'Hall': 3, 'Fame': 2, 'Ohio': 1, 'Fats': 1, 'Blobbo': 1, 'Leno': 1, 'Rosemary': 1, 'LaBianca': 1, 'August': 1, 'men': 3, 'Rita': 1, 'Hayworth': 1, 'World': 12, 'War': 14, 'Etta': 1, 'Place': 1, 'companion': 1, 'Butch': 1, 'Cassidey': 1, 'Sundance': 1, 'perfume': 1, 'Rosanne': 1, 'Rosanna': 1, 'Dana': 2, 'television': 5, 'Saturday': 1, 'Live': 1, 'singer': 8, 'despondent': 1, 'death': 2, 'Freddie': 1, 'Prinze': 1, 'business': 9, 'then': 3, 'backup': 1, 'singing': 4, 'Roy': 1, 'California': 5, 'Gerald': 1, 'Ford': 1, 'vice': 5, 'batteries': 1, 'Suzette': 1, 'Charles': 7, 'months': 2, 'infamous': 2, 'pseudonym': 2, 'Sutcliffe': 1, 'pianos': 1, 'motorcycles': 1, 'Sonny': 1, 'Liston': 1, 'heavyweight': 2, 'boxing': 2, 'champion': 2, '-': 7, 'teams': 3, 'Angel': 2, 'cruiser': 1, 'Lindbergh': 3, 'home': 7, 'epic': 1, 'flight': 1, 'Shape': 1, 'Arnold': 2, 'twin': 1, 'brother': 3, 'Greek': 5, 'goddess': 1, 'Artemis': 1, 'Public': 1, 'Enemy': 1, 'No': 2, '.': 2, 'Dear': 1, 'Abby': 1, 'Sussex': 1, 'Drive': 1, 'Ottawa': 1, 'Monet': 1, 'brush': 1, 'salesman': 1, 'inescapable': 1, 'purveyor': 1, 'background': 1, 'music': 2, '5th': 1, 'anniversary': 1, 'July': 1, 'Andy': 4, 'Capp': 2, 'Jackie': 2, 'commission': 1, 'Death': 2, 'Great': 4, 'Society': 3, 'Soldiers': 1, 'battles': 1, 'generals': 2, 'credit': 3, 'UN': 2, 'Secretary': 3, 'telephone': 1, 'service': 1, 'Orange': 1, 'Mr.': 2, 'Waverly': 1, 'agents': 1, 'Scooby': 1, 'Doo': 1, 'cartoon': 7, 'Eduard': 1, 'Shevardnadze': 2, 'job': 3, 'Dick': 7, 'Tracy': 3, 'villain': 2, 'times': 4, 'Larry': 3, 'King': 10, 'feathered': 1, 'Yugoslavians': 1, 'Vlaja': 1, 'Gaja': 1, 'Raja': 1, 'Lacan': 1, 'Civil': 3, 'Battle': 5, 'Gettysburg': 2, 'Bobby': 1, 'Fischer': 1, 'chess': 2, 'Stone': 1, 'Canyon': 2, 'Way': 1, 'Humpty': 2, 'Dumpty': 2, 'Alice': 3, 'Wonderland': 1, 'Karenna': 1, 'Gore': 2, 'Teenage': 1, 'Werewolf': 1, 'record': 8, 'Wiz': 1, 'Rex': 1, 'Harrison': 2, 'son': 11, 'modestly': 1, 'popular': 4, 'late': 2, 'stove': 1, 'comedian': 11, 'legendary': 2, 'reputation': 1, 'jokes': 1, 'Magna': 5, 'Carta': 5, 'citizen': 3, 'routinely': 1, 'dem': 1, 'bums': 1, 'frustrated': 1, 'scholar': 2, 'literal': 1, 'translations': 1, 'Chinese': 2, 'Ezra': 2, 'Pound': 1, 'On': 1, 'Stage': 2, 'face': 2, 'never': 7, 'teenager': 1, 'owner': 2, 'sailor': 1, 'Mouth': 1, 'South': 7, 'Patricia': 2, 'Hearst': 2, 'night': 1, 'she': 5, 'Viking': 2, 'Prince': 4, 'boxer': 3, 'life': 2, 'story': 3, 'Raging': 1, 'Bull': 2, 'listeners': 1, 'U.S.A.': 1, 'Chevrolet': 1, 'laureate': 1, 'Philippines': 1, 'conference': 1, 'East': 1, 'Timor': 1, 'multiple': 1, 'births': 1, 'twins': 1, 'triplets': 2, 'Bourbon': 1, 'French': 6, 'throne': 1, 'Napoleon': 1, 'abdication': 1, 'VIII': 2, 'Anne': 1, 'Boleyn': 1, 'queen': 3, 'England': 5, 'football': 8, 'comedienne': 2, 'Dwight': 1, 'D.': 2, 'Eisenhower': 1, 'inauguration': 1, 'child': 3, 'Molly': 1, 'Jones': 2, 'costume': 2, 'designer': 3, 'Michael': 4, 'Jackson': 3, 'glove': 1, 'sponsor': 1, 'Superman': 1, 'blind': 2, 'sculptress': 1, 'love': 1, 'Fantastic': 2, 'Four': 3, 'Thing': 1, 'National': 4, 'Basketball': 1, 'Association': 1, 'Giant': 1, 'Steps': 1, 'polio': 1, 'vaccine': 1, 'gas': 1, 'engine': 3, 'Tex': 1, 'Avery': 1, 'MGM': 1, 'spiritual': 1, 'political': 2, 'age': 3, 'children': 3, 'players': 4, 'battery': 2, 'Viagra': 1, 'Darius': 1, 'Dita': 1, 'Beard': 1, 'inspiration': 1, 'schoolteacher': 1, 'Robin': 3, 'Williams': 4, 'Dead': 2, 'Poets': 1, 'positions': 1, 'line': 4, 'succession': 1, 'presidency': 2, 'Mercury': 2, 'program': 2, 'astronauts': 1, 'flights': 1, 'Gunpowder': 1, 'Plot': 1, 'Hitler': 4, 'Stalin': 1, 'mustachioed': 1, 'Frankie': 1, 'Alaska': 3, 'II': 5, 'airman': 1, 'head': 5, 'Hermann': 1, 'Goering': 1, 'Nicolo': 1, 'Paganini': 1, 'Dracula': 1, 'Hammer': 1, 'Studios': 1, 'films': 2, 'favorite': 2, 'Biblical': 1, 'quotation': 1, 'us': 3, 'together': 1, 'Georgia': 2, 'series': 1, 'ads': 2, 'electronics': 1, 'coastal': 1, 'city': 1, 'northeast': 1, 'Tokyo': 2, 'mystery': 1, 'glory': 1, 'Greece': 1, 'grandeur': 1, 'Rome': 2, 'protagonist': 1, 'Dostoevski': 1, 'Idiot': 1, 'press': 1, 'third': 2, 'rate': 2, 'burglary': 1, 'attempt': 1, 'Jean': 1, 'Nicolet': 1, 'authors': 1, 'cupboard': 1, 'bare': 1, 'Popeye': 2, 'vacuum': 1, 'cleaner': 1, '2th': 3, 'Pencey': 1, 'Prep': 1, 'School': 3, 'Shakespeare': 2, 'Antonio': 1, 'ducats': 1, 'Voyager': 1, 'project': 1, 'manager': 2, 'stations': 1, 'Jim': 1, 'Bohannon': 1, 'Radio': 3, 'Talk': 1, 'Show': 6, 'commanders': 1, 'forces': 2, 'Alamein': 1, 'creator': 5, 'Muppets': 6, 'Princess': 1, 'Leia': 1, 'confession': 1, 'you': 14, 'Empire': 2, 'Back': 1, 'firm': 1, 'Best': 1, 'Actor': 1, 'Elroy': 1, 'Hirsch': 1, 'motto': 2, 'Blood': 1, 'Fire': 1, 'count': 1, 'Alexandre': 1, 'Dumas': 1, 'Taiwanese': 1, 'Luke': 2, 'Skywalker': 2, 'father': 14, 'personal': 1, 'Jane': 2, 'Goodall': 1, 'strip': 4, 'Garfield': 1, 'Vietnamese': 2, 'delegate': 1, 'Russia': 1, 'colony': 1, 'Greenland': 1, 'Wheatfield': 1, 'Crows': 1, 'future': 3, 'majority': 2, 'whip': 1, 'Harry': 2, 'Truman': 1, 'architect': 3, 'Christian': 4, 'Brooks': 2, 'hearing': 1, 'Sunflowers': 1, 'Yankee': 4, 'frequent': 1, 'enemies': 1, 'Sons': 1, 'Lovers': 1, 'Cherokee': 1, 'tree': 4, 'It': 3, 'Beaver': 1, 'Cody': 1, 'better': 2, 'resignation': 1, 'Thucydides': 1, 'rock': 3, 'roll': 1, 'Hollywood': 2, 'Boulevard': 1, 'conductor': 1, 'Boston': 1, 'Pops': 1, 'Arthur': 3, 'Fiedler': 1, 'long': 1, 'reign': 1, 'jail': 2, 'just': 2, 'war': 1, 'criminal': 2, 'store': 7, 'guitarist': 1, 'Norway': 2, 'Nazis': 1, 'toys': 2, 'Doodyville': 1, 'Orphans': 1, 'Fund': 1, 'Picts': 1, 'Camp': 2, 'Swampy': 1, 'strips': 1, 'Santa': 1, 'Claus': 1, 'once': 7, 'affair': 1, 'Shelley': 3, 'Winters': 1, 'Christmas': 4, 'many': 2, 'Look': 1, 'Love': 1, 'Ursula': 1, 'Andress': 1, 'medals': 2, 'greatest': 3, 'earth': 1, 'Honeymooners': 1, 'Television': 1, 'magazine': 1, 'promising': 1, 'kind': 5, 'Last': 1, 'Chance': 1, 'Animals': 1, 'Medieval': 1, 'Guild': 1, 'Silly': 1, 'whom': 9, 'paper': 2, 'clip': 1, 'Humphrey': 2, 'Bogart': 2, 'Medal': 3, 'Honor': 2, 'Franklin': 2, 'Roosevelt': 1, 'Thor': 1, 'Canon': 1, 'D': 1, 'Major': 1, 'Far': 1, 'Madding': 1, 'Crowd': 1, 'heir': 1, 'ton': 1, 'safe': 1, 'underwater': 2, 'wreckage': 1, 'Andrea': 1, 'Doria': 1, 'David': 1, 'same': 2, 'Series': 2, 'Samuel': 3, 'Pickering': 2, 'Sky': 1, 'Hawks': 1, 'Mexican': 2, 'primitives': 1, 'rural': 1, 'old': 4, 'serial': 1, 'tv': 1, 'Big': 2, 'Marvel': 5, 'loosely': 1, 'Justice': 2, 'Knute': 1, 'Rockne': 1, 'power': 4, 'high': 3, 'risk': 1, 'venture': 1, 'bet': 1, 'fruit': 1, 'Brazilian': 1, 'Bombshell': 1, 'When': 5, 'Tutankhamun': 1, 'exhibit': 1, 'display': 1, 'Favorite': 1, 'Martian': 1, 'Scrabble': 1, 'Mighty': 1, 'Mouse': 2, 'Rock': 2, 'Clock': 1, 'Nathan': 1, 'Hamill': 1, 'Star': 5, 'Wars': 3, 'prequel': 1, 'York': 13, 'Iron': 3, 'First': 1, 'Lady': 3, 'borrower': 1, 'lender': 1, 'Gestapo': 1, 'fire': 4, 'African': 3, 'diamond': 3, 'producer': 5, 'musical': 3, 'plea': 1, 'True': 1, 'jean': 2, 'destructor': 1, 'creativity': 1, 'Ed': 1, 'Sullivan': 2, 'allegedly': 1, 'obscene': 1, 'gesture': 1, 'Apollo': 1, 'Armstrong': 1, 'Aldrin': 1, 'Witch': 1, 'Casper': 1, 'girlfriend': 1, 'Frederick': 1, 'Germany': 3, 'Stonehenge': 1, 'editor': 3, 'Review': 1, 'governor': 3, 'soldier': 1, 'Europe': 1, 'Asia': 1, 'rest': 1, 'Africa': 4, 'culture': 1, 'idea': 2, 'potlatch': 3, 'Minnesota': 1, 'Twins': 1, 'solo': 1, 'Atlantic': 1, 'Dominos': 1, 'Pizza': 1, 'chain': 3, 'NBA': 1, 'jersey': 1, 'number': 1, 'chocolate': 1, 'pound': 1, 'kiss': 1, 'sewer': 1, 'commissioner': 1, 'Provo': 1, 'Utah': 1, 'distance': 1, 'education': 1, 'Vincent': 1, 'Van': 2, 'Gogh': 1, 'Lust': 1, 'Life': 3, 'Time': 4, 'Master': 2, 'books': 2, 'soldiers': 1, 'they': 2, 'away': 1, 'baseemen': 1, 'seasons': 1, 'Olympic': 3, 'decathlon': 1, 'twice': 1, 'moon': 2, 'Victorian': 2, 'post': 1, 'office': 3, 'Pittsburgh': 4, 'Pope': 4, 'surname': 1, 'Imam': 1, 'Hussain': 1, 'Ali': 1, 'Shia': 1, 'performer': 2, 'own': 3, 'network': 3, 'unfamiliar': 1, 'faces': 1, 'celebrity': 3, 'spokespeople': 1, 'use': 1, 'Wild': 2, 'Bunch': 1, 'Allen': 1, 'Stewart': 2, 'Konigsberg': 1, 'promises': 1, 'miles': 1, 'pub': 1, 'Days': 3, 'Lives': 2, 'Cookbook': 1, 'Liz': 1, 'Chandler': 1, 'J.': 1, 'Guiteau': 1, 'golden': 2, 'Anything': 1, 'laugh': 1, 'bowling': 1, 'celebrities': 2, 'biz': 1, 'career': 4, 'Loco': 1, 'Motion': 1, 'her': 1, 'days': 2, 'Drew': 1, 'Barrymore': 1, 'Supergirl': 1, 'secret': 2, 'identity': 3, 'court': 3, 'Bob': 1, 'Woodward': 1, 'Brethren': 1, 'surfboard': 1, 'officer': 2, 'Top': 1, 'Cat': 1, 'neighborhood': 1, 'God': 4, 'Sea': 3, 'well': 3, 'personality': 1, 'Hans': 1, 'Henderson': 1, 'Wyoming': 1, 'Green': 1, 'Bay': 1, 'Packers': 1, 'There': 2, 'nothing': 1, 'hate': 1, 'recently': 1, 'success': 1, 'play': 4, 'family': 2, 'sometimes': 2, 'eclairs': 1, 'Bakery': 1, 'enigmatic': 1, 'treason': 1, 'plot': 1, 'independent': 1, 'empire': 2, 'Eyes': 1, 'information': 1, 'Cromwell': 1, 'dumb': 1, 'loveable': 1, 'Maurice': 2, 'Gosfield': 1, 'Phil': 1, 'Silvers': 1, 'German': 3, 'flying': 1, 'ace': 1, 'Manfred': 1, 'von': 1, 'Richthofen': 1, 'Hamlet': 1, 'Sydney': 1, 'Porter': 1, 'Gift': 1, 'Magi': 1, 'Lucy': 1, 'Linus': 1, 'Peanut': 1, 'cheery': 1, 'fellow': 1, 'ZIP': 1, 'code': 1, 'Postal': 1, 'Service': 2, 'ambassador': 2, 'Hungary': 1, 'uprising': 1, 'NFL': 3, 'touchdowns': 1, 'season': 1, 'Shirley': 2, 'MacLaine': 1, 'wine': 3, 'Pines': 1, 'U.S.-based': 1, 'NHL': 2, 'Bears': 1, 'Houston': 1, 'Oilers': 1, 'Oakland': 1, 'Raiders': 1, '26-year': 1, 'pro': 2, 'ship': 2, 'Enterprise': 3, 'Trek': 1, 'Garrett': 1, 'Morgan': 1, 'Darth': 3, 'Vader': 3, 'Ishmael': 1, 'Moby': 3, 'blob': 1, 'members': 1, 'Herculoids': 1, 'talk': 2, 'lay': 1, 'preacher': 1, 'Backstreet': 1, 'Boys': 1, 'single': 3, 'general': 10, 'south': 1, 'sea': 1, 'conservationist': 1, 'spokesperson': 1, 'Post': 2, 'Grape': 1, 'Nuts': 1, 'suburban': 1, 'Feminine': 1, 'Mystique': 1, 'Whitcomb': 1, 'Judson': 1, 'canine': 1, 'other': 2, 'Huckleberry': 2, 'Hound': 1, 'Daws': 1, 'Butler': 3, 'inventors': 1, 'image': 2, 'Shroud': 1, 'Turin': 1, 'air': 1, 'victor': 1, 'truth': 1, 'Langston': 1, 'Hughes': 1, 'Saddam': 3, 'Hussein': 3, 'Bush': 3, 'Grinch': 1, 'Triple': 2, 'Crown': 2, 'races': 2, 'Milton': 1, 'Obote': 1, 'Alan': 1, 'Alda': 1, 'little': 2, 'boy': 4, 'dog': 2, 'live': 1, 'shoe': 2, 'Marilyn': 1, 'Monroe': 1, 'Florida': 2, 'Ice': 1, 'Hockey': 1, 'Prophet': 1, 'Medina': 1, 'Belushi': 1, 'when': 10, 'funeral': 1, 'train': 2, 'D.C.': 3, 'Springfield': 1, 'Illinois': 1, 'Merrick': 1, 'noble': 1, 'ogre': 1, 'cigarette': 1, 'flavor': 1, 'Outstanding': 1, 'Committee': 2, 'Dynasty': 1, 'Century': 3, 'Fox': 2, 'debut': 1, 'Virgin': 1, 'appearances': 3, 'Even': 1, 'friend': 5, 'ad': 1, 'law': 5, 'Confederate': 2, 'Holland': 1, 'saxophone': 1, 'we': 3, 'State': 1, 'administration': 2, 'Johnny': 1, 'Carson': 1, 'attorneys': 1, 'Center': 2, 'Defense': 1, 'Free': 1, 'library': 1, 'Soft': 1, 'Self': 1, 'Portrait': 1, 'Grilled': 1, 'Bacon': 1, 'shampoo': 1, 'brunettes': 1, 'Count': 1, 'Cinzano': 1, 'Oscars': 3, 'design': 2, 'slum': 1, 'Red': 2, 'Badge': 1, 'Courage': 1, 'British': 8, 'lap': 1, 'P.T.': 1, 'Barnum': 1, 'Tom': 6, 'Thumb': 1, 'road': 2, 'traffic': 1, 'cone': 1, 'Joan': 1, 'Jett': 1, 'Warhol': 1, 'civilization': 1, 'example': 2, 'sixties': 1, 'ghost': 1, 'roommates': 1, 'Three': 1, 'youngsters': 1, 'captain': 2, 'tanker': 1, 'Exxon': 2, 'Valdez': 2, 'spill': 2, 'Sound': 1, 'Stephen': 1, 'Hawking': 1, 'Kindergarden': 1, 'Cop': 2, 'dinner': 1, 'Guess': 1, 'Dinner': 1, 'engineer': 2, 'pull': 2, 'tab': 2, 'Dikembe': 4, 'Mutombo': 4, 'postage': 1, 'stamp': 1, 'Folies': 1, 'Bergeres': 1, 'Baghdad': 1, 'question': 2, 'electric': 2, 'lady': 2, 'land': 1, 'Poems': 1, 'fools': 1, 'Godfather': 3, 'Wonderbra': 1, 'Rams': 1, 'Texas': 3, 'surgeon': 1, 'artificial': 1, 'heart': 2, 'transplant': 1, 'center': 2, 'square': 1, 'Squares': 1, 'marvelous': 1, 'player': 8, 'spokesman': 1, 'beer': 2, 'itself': 2, 'sexiest': 1, 'women': 3, 'supreme': 3, 'Germanic': 1, 'religion': 2, 'pow': 1, 'right': 2, 'kisser': 1, 'Chilean': 1, 'coup': 1, 'd': 1, 'etat': 1, 'acting': 1, 'Lunt': 1, 'Fontanne': 1, 'cable': 1, 'bills': 1, 'entertainer': 1, 'empty': 1, 'crypt': 1, 'capital': 1, 'rotunda': 1, 'Superbowl': 1, 'Hungarian': 1, 'cardinal': 1, 'state': 1, 'prisoner': 1, 'refugee': 1, 'embassy': 1, 'Citizen': 1, 'Kane': 1, 'flyer': 1, 'mistakenly': 1, 'Ireland': 1, 'instead': 1, 'Los': 1, 'Angeles': 1, 'special': 2, 'bear': 1, 'January': 2, 'Archie': 2, 'programming': 1, 'Inga': 1, 'Nielsen': 1, 'body': 1, 'Italian': 2, 'lifelong': 1, 'fear': 1, 'evil': 1, 'eye': 1, 'lips': 2, 'Capone': 1, 'fairy': 1, 'tale': 1, 'Snow': 1, 'Seven': 4, 'Dwarfs': 3, 'Harvey': 4, 'Wallbanger': 1, 'profit': 1, 'vamp': 1, 'card': 1, 'ornaments': 1, 'premier': 1, 'China': 1, 'cigar': 1, 'as': 1, 'bread': 1, 'stickers': 1, 'Cisco': 1, 'ends': 1, 'packages': 1, 'Vichy': 1, 'France': 1, 'kidnaping': 1, 'Crime': 1, 'Magic': 1, 'buxom': 1, 'blonde': 1, 'magazines': 1, 'sound': 2, 'barrier': 1, 'fruits': 1, 'survival': 1, 'plants': 1, 'Pulitzer': 3, 'City': 5, 'partner': 2, 'Dickens': 1, 'Carol': 1, 'Tammy': 1, 'Mia': 1, 'Farrow': 1, 'male': 1, 'vocalist': 1, 'opera': 1, 'Hansel': 1, 'Gretel': 1, 'nonconsecutive': 1, 'terms': 1, 'labor': 1, 'parking': 1, 'lot': 1, 'Michigan': 1, 'restaurant': 1, 'weather': 1, 'Morning': 1, 'brief': 1, 'message': 1, 'Air': 1, 'Force': 1, 'bombing': 1, 'raid': 1, 'newspapers': 1, 'garbage': 1, 'prosecutor': 1, 'later': 1, 'policy': 3, 'bureau': 1, 'Communist': 2, 'Party': 2, 'nomadic': 1, 'hunting': 1, 'Kalahari': 1, 'Desert': 2, 'Caine': 1, 'Mutiny': 1, 'Sherlock': 2, 'Holmes': 2, 'pop': 2, 'theme': 2, 'brand': 1, 'catsup': 1, 'perfectly': 1, 'Shays': 1, 'Rebellion': 1, 'Massachusetts': 2, 'Grand': 1, 'Prix': 1, 'driving': 1, 'figure': 2, 'skater': 1, 'Bernstein': 1, 'Men': 1, 'Tiny': 1, 'Tim': 1, 'Bonnie': 2, 'Antichrist': 1, 'Farmer': 1, 'Almanac': 1, 'CNN': 3, '15th': 1, 'brimstone': 1, 'monk': 1, 'control': 2, 'Florence': 1, 'stake': 1, 'Quetzalcoatl': 1, 'Louisiana': 2, 'Japan': 3, 'average': 1, 'doubleheader': 1, 'nursery': 1, 'rhymes': 1, 'Song': 1, 'Solomon': 1, 'runs': 3, 'actors': 1, 'Yiddish': 1, 'Theater': 1, 'stethoscope': 1, 'screen': 2, 'NBC': 1, 'afternoon': 1, 'Ernie': 2, 'Palmer': 2, 'Abbey': 1, 'Hoffman': 2, 'Rubin': 1, 'Hayden': 1, 'Mills': 1, 'Bette': 1, 'Davis': 2, 'Cowardly': 1, 'Lion': 4, 'Wizard': 1, 'Oz': 1, 'Kurt': 1, 'Cobain': 1, 'monster': 1, 'Mary': 2, 'Frankenstein': 1, '15-year': 1, 'half': 1, 'Abbie': 1, 'dose': 1, 'LSD': 1, 'living': 4, 'opposite': 1, 'sex': 1, 'Mormon': 1, 'wives': 3, 'pillar': 1, 'Dutch': 1, 'Renaissance': 2, 'Aristotle': 1, 'Bust': 1, 'Homer': 1, 'brilliant': 1, 'economist': 1, 'creation': 1, 'Sally': 1, 'Dyke': 1, 'mythical': 1, 'hourglass': 1, 'scythe': 1, 'Americans': 1, 'Frontier': 1, 'operation': 1, 'impulse': 1, 'equipment': 1, 'Rona': 1, 'Barrett': 1, 'mathematician': 1, 'Noble': 1, 'Literature': 1, 'glamorous': 1, 'close': 1, 'Celestials': 1, 'comics': 3, 'jogging': 1, 'paths': 1, 'athletic': 1, 'race': 1, 'journalist': 2, 'mark': 1, 'colorful': 1, 'underworld': 2, 'residents': 1, 'island': 1, 'Lesbos': 1, 'great': 3, 'Coffee': 1, 'Sweet': 1, 'Pea': 1, 'physician': 1, 'important': 1, 'inventions': 1, 'H.': 1, 'Bremer': 1, 'May': 6, 'apostle': 1, 'Taylor': 1, 'Caldwell': 1, 'greeting': 1, 'cards': 1, 'Parker': 1, 'Rockefeller': 1, 'JDR3': 1, 'Friz': 1, 'Freleng': 1, 'Warner': 1, 'Bros.': 1, 'ranks': 1, 'Moorish': 1, 'Matt': 1, 'Murdock': 1, 'extraordinary': 1, 'abilities': 1, 'fast': 3, 'famously': 1, 'Orleans': 2, 'opposition': 1, 'Konrad': 1, 'Adenauer': 1, 'Chancellor': 1, 'shortstop': 1, 'Selective': 1, 'registration': 1, 'Also': 1, 'shores': 1, 'Gitchee': 1, 'Gumee': 1, 'River': 2, 'section': 1, 'guidance': 1, 'systems': 1, 'JPL': 1, 'Goldfinger': 1, 'hobby': 1, 'tour': 1, 'Stock': 1, 'Exchange': 1, 'December': 2, 'jeep': 1, 'truck': 1, 'W.C.': 2, 'Fields': 2, 'Me': 2, 'basketball': 6, 'successful': 2, 'stern': 1, 'wheel': 1, 'steamboat': 1, 'propaganda': 1, 'doctor': 3, 'successfully': 1, 'liver': 1, 'violins': 1, 'priest': 1, 'Marxism': 1, 'Dannon': 1, 'yougurt': 1, 'Ron': 1, 'Raider': 1, 'promotion': 1, 'winners': 2, 'Brave': 1, 'Unsafe': 1, 'Speed': 1, 'commander': 1, 'George': 3, 'Yorktown': 1, 'Wide': 1, 'Web': 1, 'WWW': 1, 'Garmat': 1, 'U.S.A': 1, 'leaders': 1, 'Byzantine': 1, 'cabinet': 2, 'pyramid': 2, 'fascist': 1, 'meat': 2, 'kangaroo': 1, 'present': 2, 'nebbish': 1, 'official': 1, 'mascot': 1, 'Feeling': 1, 'dancing': 2, 'episode': 1, 'Ally': 1, 'Mcbeal': 1, 'Columbia': 1, 'Pictures': 1, 'Cliff': 1, 'Robertson': 1, 'check': 1, 'Damocles': 1, 'Dondi': 1, 'adoptive': 1, 'grandfather': 1, 'biography': 2, 'Zolotow': 1, 'Shooting': 1, 'Groundshog': 1, 'Andie': 1, 'MacDowell': 1, 'Hanover': 1, 'Hampshire': 1, 'Albert': 1, 'Arts': 1, 'synonymous': 1, 'footwear': 1, 'foot': 2, 'care': 1, 'Unification': 1, 'Church': 1, 'eligible': 1, 'points': 1, 'Roller': 1, 'Derby': 1, 'ill': 1, 'bull': 1, 'terrier': 1, 'Willie': 1, 'lawnmower': 1, 'senator': 2, 'Knicks': 1, 'Li': 1, 'l': 1, 'Abner': 1, 'glass': 1, 'house': 2, 'Federal': 3, 'philosophy': 1, 'less': 2, 'plans': 1, 'forerunner': 1, 'ranch': 1, 'apartment': 1, 'Roger': 1, 'Maris': 1, 'intergovernmental': 1, 'affairs': 1, 'county': 2, 'Games': 3, 'Sinn': 1, 'Fein': 1, 'duel': 2, 'Aaron': 2, 'Burr': 1, 'Woody': 2, 'Woodpecker': 2, 'historical': 1, 'figures': 1, 'heroine': 2, 'Scruples': 2, 'horse': 1, 'Thunder': 1, 'Charley': 1, 'Hustle': 1, 'Lee': 3, 'Oswald': 2, 'Grange': 1, 'hockey': 2, 'Wayne': 1, 'Gretzky': 1, 'Ivy': 1, 'Stadium': 1, 'fax': 1, 'machine': 1, 'wet': 1, 'red': 1, 'warm': 1, 'desire': 1, 'Moon': 1, 'Mountain': 1, 'Santos': 1, 'Dumont': 1, 'Rocky': 1, 'Bullwinkle': 1, 'lovely': 1, 'amount': 1, 'Hinduism': 1, 'biochemists': 1, 'medicine': 1, 'Alpert': 1, 'Moss': 1, 'magnate': 1, 'initials': 1, 'left': 1, 'sleeve': 1, 'Padres': 1, 'uniforms': 1, 'else': 1, 'Lucas': 2, 'connected': 1, 'Pit': 1, 'Pendulum': 1, 'art': 1, 'reality': 1, 'manufacturers': 1, 'there': 1, 'presidents': 4, 'Mexico': 2, 'Indonesia': 1, 'Jolson': 2, 'Story': 3, 'Craig': 1, 'Stevens': 1, 'Angela': 1, 'past': 1, 'MVP': 1, 'Palpatine': 1, 'husbands': 1, 'Conrad': 2, 'Hilton': 1, 'Jr.': 1, 'Wilding': 1, 'Alley': 2, 'Oop': 1, 'Moo': 1, 'airline': 2, 'professional': 3, 'travelers': 1, 'stock': 1, 'ticker': 1, 'Bible': 1, 'airplane': 2, 'Macarthur': 1, 'Weir': 1, 'robust': 1, 'instructor': 1, 'judo': 1, 'match': 1, 'Untouchables': 1, 'nose': 2, 'tackle': 1, 'Eagles': 1, 'XV': 1, 'endurance': 1, 'pilots': 1, 'Hardy': 1, 'niece': 1, 'nephew': 1, 'Maudie': 1, 'Frickett': 1, 'circumnavigator': 1, 'globe': 1, 'seizure': 2, 'Sicily': 1, 'Naples': 1, 'tattoo': 1, 'wrist': 1, 'Scotland': 1, 'Forever': 1, 'chair': 1, 'Reserve': 1, 'fingers': 1, 'hand': 1, 'tennis': 1, 'Nasty': 1, 'non': 1, 'conformist': 1, 'abstract': 1, 'Dripper': 1, 'modern': 2, 'theory': 1, 'probability': 1, 'Swing': 1, 'co': 1, 'Lights': 1, 'Bookshop': 1, 'Francisco': 1, 'primary': 1, 'Mel': 1, 'Thatcher': 2, 'arches': 1, 'Dubliners': 1, 'Malaysia': 1, '43rd': 1, 'aerodynamics': 1, 'laboratory': 1, 'liberty': 1, 'powerful': 1, 'white': 1, 'trader': 1, 'Heart': 1, 'Darkness': 1, 'Rotary': 3, 'engines': 3, 'opener': 1, 'cans': 2, 'deranged': 1, 'Otto': 1, 'Octavius': 1, 'acceptance': 1, 'speech': 1, 'minutes': 2, 'limit': 1, 'thank': 1, 'yous': 1, 'elk': 1, 'Ku': 1, 'Klux': 1, 'Klan': 1, 'Sam': 1, 'Casablanca': 3, 'task': 1, 'Bouvier': 1, 'breed': 1, 'D.A.': 1, 'staff': 1, 'assassination': 1, 'weeks': 1, 'ago': 1, 'Ross': 1, 'Macdonald': 1, 'Lew': 1, 'Archer': 1, 'chicken': 1, 'finger': 1, 'commandant': 1, 'POW': 1, 'camp': 1, 'Stalag': 1, 'Jacques': 1, 'Cousteau': 1, 'Ghost': 1, 'missions': 1, 'blow': 1, 'Israel': 1, 'Rann': 1, 'Adam': 1, 'Strange': 1, 'highest': 2, 'Inaction': 1, 'action': 1, 'Biography': 1, 'Margaret': 1, 'colleges': 1, 'field': 1, 'engineering': 1, 'Doris': 1, 'certainly': 1, 'Daylight': 1, 'businesses': 2, 'Spaghetti': 1, 'Julie': 1, 'Poppins': 1, 'Taft': 1, 'Benson': 1, 'Argentine': 2, 'Nevada': 1, 'brothel': 1, 'Olsen': 1, 'hit': 1, 'Pia': 1, 'Zadora': 1, 'millionaire': 1, 'mentor': 2, 'mules': 1, 'astronomer': 1, 'Paul': 2, 'Cathedral': 1, 'feminist': 1, 'Sexual': 1, 'Politics': 1, 'Flying': 2, 'O.J.': 1, 'Simpson': 1, 'Vince': 1, 'Lombardi': 1, 'coaching': 1, 'Naseem': 1, 'Hamed': 1, 'Youngman': 1, 'claim': 1, 'International': 3, 'Summer': 1, 'green': 1, 'houses': 1, 'appointments': 1, 'worm': 1, '1980s': 1, 'plane': 1, 'Syrian': 1, 'Lebanon': 1, 'rebounds': 1, 'sergeant': 1, 'hands': 1, 'combat': 1, 'fountain': 1, 'Batman': 1, 'around': 1, 'Batcycle': 1, 'archenemy': 1, 'Sawyer': 1, 'aunt': 1, 'Micronauts': 1, 'Microverse': 1, 'bad': 1, 'punch': 1, 'drunk': 1, 'pugilist': 1, 'Cauliflower': 1, 'McPugg': 1, 'Wordsworth': 1, 'Winter': 1, 'rugby': 1, 'cup': 1, 'Olivia': 1, 'De': 1, 'Havilland': 1, 'chancellor': 2, 'agencies': 1, 'employment': 1, 'verification': 1, \"'em\": 2, 'alley': 1, 'ice': 1, 'onetime': 1, 'Ronald': 2, 'Reagan': 2, 'federal': 1, 'Indians': 1, 'failure': 1, 'socialism': 1, 'process': 1, 'milk': 1, 'movies': 1, 'Hawaii': 1, 'Comics': 1, 'realm': 1, 'dreams': 2, 'Lime': 1, 'pens': 1, 'Banana': 1, 'Moog': 1, 'Synthesizer': 1, 'Hard': 1, 'Dolly': 2, 'Parton': 2, 'rarely': 1, 'sweet': 1, 'lavender': 1, 'lyrics': 1, 'Porgy': 1, 'Bess': 1, 'pitchers': 1, 'families': 1, 'literary': 1, 'charcter': 1, 'chiefly': 1, 'enormous': 1, 'Luther': 1, 'rights': 1, 'Astroturf': 1, 'prankster': 1, 'station': 2, 'caboose': 1, 'camera': 2, 'volume': 1, 'Abraham': 1, 'Lincoln': 1, 'entries': 1, 'Walden': 1, 'Puddle': 1, 'Ted': 1, 'Hank': 1, 'Madonna': 3, 'Frenchman': 1, 'following': 1, 'necessary': 1, 'draft': 1, 'imaginary': 1, 'numbers': 1, 'voices': 1, 'Simpsons': 1, 'richest': 5, 'software': 1, 'PhotoShop': 1, 'Spain': 1, 'Westview': 1, 'High': 1, 'Funky': 1, 'Winkerbean': 1, 'Stallone': 1, 'Rhinestone': 1, 'Edmund': 1, 'Kemper': 1, 'Human': 1, 'Genome': 1, 'Organization': 1, 'HUGO': 1, 'gene': 1, 'mapping': 1, 'research': 1, 'worldwide': 1, 'Treasure': 1, 'Island': 1, 'Chaplin': 1, 'Modern': 1, 'Dictator': 1, 'Catch-22': 1, 'dozen': 1, 'cities': 1, 'Uncle': 1, 'Duke': 1, 'Honey': 1, 'room': 1, 'Sir': 1, 'yet': 1, 'Babe': 2, 'Ruth': 3, 'relative': 1, 'Leo': 1, 'Tolstoy': 1, 'armor': 1, 'starring': 1, 'Hanks': 1, 'skiing': 1, 'Calgary': 1, 'railways': 1, 'Monopoly': 1, 'Brunei': 1, 'writers': 1, 'Smothers': 1, 'Brothers': 1, 'Comedy': 1, 'Hour': 1, 'Prewett': 1, 'Here': 2, 'Eternity': 2, 'Scottish': 1, 'Louse': 1, 'communist': 1, 'mile': 1, 'Fickle': 1, 'Finger': 1, 'Fate': 1, 'deer': 1, 'Annie': 1, 'neurotic': 1, 'Duane': 1, 'lyricist': 1, 'Gilbert': 1, '3rd': 1, 'previous': 1, 'Commonwealth': 1, 'round': 1, 'table': 1, 'Scarlet': 1, 'Letter': 1, 'Sara': 1, 'Moore': 1, 'era': 1, 'doorstep': 1, 'beginning': 1, 'Gasoline': 1, '1960s': 1, '1970s': 1, '1940s': 1, \"'\": 1, '50s': 1, 'Field': 1, 'Marshal': 1, 'Erwin': 1, 'Rommel': 1, 'cross': 1, 'bra': 1, 'Bunker': 1, 'safety': 1, 'Chief': 1, 'Starship': 1, 'so': 3, 'AFTRA': 1, 'sexy': 1, 'Punchbowl': 1, 'Hill': 1, 'Jackal': 1, 'X': 1, 'Ghana': 1, 'Donald': 1, 'DeFreeze': 1, 'Worlds': 2, 'Renaud': 1, 'ruckus': 1, 'Woman': 1, 'famed': 1, 'clown': 2, 'Howdy': 1, 'Doody': 1, 'Clarabell': 1, 'resistance': 2, 'patrons': 1, 'Stonewall': 1, 'Greenwich': 1, 'Village': 1, 'gay': 1, 'bar': 1, 'Confucius': 1, 'currently': 1, 'pies': 1, 'plastic': 2, 'bandleader': 1, 'Ella': 1, 'Fitzgerald': 1, 'A_Tisket': 1, 'Tasket': 1, 'club': 1, 'Government': 1, 'trademarks': 1, 'joke': 1, 'ancestral': 1, 'Hyde': 1, 'Usenet': 1, 'groups': 1, 'wild': 2, 'turkey': 1, 'helicopter': 1, 'pilot': 1, 'Korea': 1, 'millions': 1, 'imitations': 1, 'jellies': 1, 'Olive': 1, 'Oyl': 1, 'wedding': 1, 'Leslie': 1, 'Hornby': 1, 'Fatman': 2, 'Jake': 1, 'Year': 1, 'Ugly': 1, 'Duckling': 1, 'Bridge': 1, 'psychology': 1, 'Nikita': 1, 'Khrushchev': 1, 'military': 1, 'Joint': 1, 'Chiefs': 1, 'Staff': 1, 'Gatsby': 1, 'pines': 1, 'couple': 1, 'toilet': 1, 'equal': 1, 'piles': 1, '7-Eleven': 2, 'companies': 2, 'Dow': 1, 'Joe': 1, 'Namath': 1, '1st': 1, 'Side': 2, 'Captain': 3, 'Britain': 1, 'Trial': 1, 'Janurary': 1, 'Mules': 1, 'Silence': 1, 'Lambs': 1, 'Napolean': 1, 'defeat': 1, 'Jena': 1, 'Auerstadt': 1, 'seventh': 1, 'cousins': 1, 'Titanic': 1, 'newsmen': 1, 'temperance': 1, 'advocate': 1, 'hatchet': 1, 'saloons': 1, 'volleyball': 1, 'ballet': 1, 'Mikhail': 1, 'Baryshnikov': 1, 'Normans': 1, 'victory': 1, 'Hastings': 1, 'cooking': 1, 'Galloping': 1, 'Gourmet': 1, 'horoscope': 1, 'sci': 1, 'fi': 1, 'trilogy': 1, 'Foundation': 3, 'Second': 1, 'Cooper': 1, 'Lite': 1, 'commercials': 1, 'Alexander': 1, 'Hamilton': 1, 'Much': 1, 'Ado': 1, 'Senator': 1, 'seat': 1, 'roles': 1, 'Wind': 1, 'Streetcar': 1, 'Desire': 1, 'physically': 1, 'subject': 1, 'matter': 1, 'Led': 1, 'Zeppelin': 1, 'Years': 1, 'Mast': 1, 'seafarers': 1, 'oven': 1, 'beach': 1, 'cop': 1, 'Kindergarten': 1, 'Pilgrim': 1, 'survivor': 1, 'Dresden': 1, 'firestorm': 1, 'Bridges': 1, 'Upstairs': 1, 'Downstairs': 1, 'Finn': 1, 'Heimlich': 1, 'maneuver': 1, 'Gleason': 1, 'Bendix': 1, 'Speaker': 1, 'Titans': 1, 'suspect': 1, 'Clue': 1, 'Rascals': 1, 'again': 2, 'off': 1, 'sweetheart': 1, 'Darla': 1, 'Hood': 1, 'attorney': 1, 'closing': 1, 'Alcatraz': 1, 'Jewish': 1, 'about': 1, '%': 1, 'diamonds': 1, 'Islam': 1, 'Maggio': 1, 'genie': 1, 'magic': 1, 'ring': 1, 'Nancy': 1, 'Chuck': 1, 'Picasso': 1, 'bald': 1, 'Presidents': 1, 'vocals': 1, 'Josie': 1, 'Pussycats': 1, 'Perfect': 1, 'Fool': 1, 'Flash': 1, 'Gordon': 1, 'Dale': 2, 'Natalie': 1, 'Wood': 1, 'Audrey': 1, 'Hepburn': 1, 'Fair': 1, 'Fang': 1, 'Black': 1, 'Tooth': 1, 'Pookie': 1, 'colonial': 1, 'Saratoga': 1, 'studio': 1, 'Bateau': 1, 'Lavoir': 1, 'Montmartre': 1, 'builder': 1, 'Collector': 1, 'Johnsons': 1, 'biographer': 1, 'Sigmund': 1, 'Freud': 1, 'erotic': 1, 'Missionary': 1, 'Travels': 1, 'Charge': 1, 'Steve': 1, 'ethnic': 1, 'McCall': 1, 'Cruise': 1, 'Line': 1, 'Kathie': 1, 'Gifford': 1, 'Horsemen': 1, 'Apocalypse': 1, 'healer': 1, 'inspirational': 1, 'Miracles': 1, 'Jinnah': 1, 'Fountain': 1, 'Youth': 1, 'guerrilla': 1, 'Jesse': 1, 'Coleman': 1, 'Younger': 1, 'thrillers': 1, 'Girl': 2, 'Cortez': 1, 'Independent': 1, 'Member': 1, 'society': 1, 'elders': 1, 'poetry': 1, 'alphabetically': 1, 'cricketer': 1, 'playwright': 1, 'Where': 1, 'Pampas': 1, 'clothing': 1, 'guitar': 1, 'Pergament': 1, 'naval': 1, 'isolationist': 1, 'bust': 1, 'Rolling': 1, 'Writer': 1, 'Secret': 1, 'Walter': 1, 'Mitty': 1, 'Bank': 1, 'debate': 1, 'M.': 1, 'Cohan': 1, 'Doodle': 1, 'Dandy': 1, 'Theresa': 1, 'cartoondom': 1, 'Six': 1, 'fool': 1, 'wise': 1, 'oath': 1, 'paradise': 1, 'corporation': 2, 'Martha': 1, 'Vatican': 2, 'countinghouse': 1, 'trademark': 1, 'Voice': 1, 'silent': 1, 'version': 1, 'Commandments': 1, 'USA': 1, 'Masons': 1, 'tallest': 1, 'Beverly': 1, 'Hillbillies': 1, 'Daisy': 1, 'Moses': 1, 'Bligh': 1, 'justice': 1, 'June': 1, 'Havoc': 1, 'JFK': 1, 'witness': 1, 'hearings': 1, 'Sen.': 1, 'Everett': 1, 'Dirkson': 1, 'rotary': 2, 'automobile': 1, 'gangsters': 1, 'Clyde': 1, 'panties': 1, 'Clara': 1, 'Barton': 1, 'Giza': 1, 'appearance': 1, 'stage': 1, 'Baby': 1, 'doll': 1, 'Sellers': 1, 'soup': 2, 'creative': 1, 'genius': 1, 'Everything': 1, 'Casey': 1, 'boss': 1, 'multitalented': 1, 'award': 1, 'course': 1, 'motion': 1, 'picture': 1, 'production': 1, 'crazy': 1, 'guy': 1, 'Cruel': 1, 'Shoes': 1, 'force': 1, 'Mack': 1, 'Sennett': 1, 'Salesman': 1, 'Joseph': 1, 'E.': 1, 'Levine': 1, 'Ball': 1, 'Willy': 1, 'Brandt': 1, 'Republic': 1, 'Kyriakos': 1, 'Theotokopoulos': 1, 'Bolivia': 2, 'Romantic': 1, 'Englishwoman': 1, 'Gene': 1, 'Autry': 1, 'regards': 1, 'deodorant': 1, 'actually': 1, 'odor': 1, 'AuH2O': 1, 'slogan': 1, 'Brillo': 1, 'soap': 1, 'pad': 1, 'boxes': 1, 'McCain': 1, 'Rifleman': 1, 'Lai': 1, 'Massacre': 1, 'airforce': 1, 'troops': 1, 'training': 1, 'exercise': 1, 'Benjamin': 1, 'development': 1, 'Australia': 1, 'patents': 1, 'Malawi': 1, 'revolutionary': 1, 'Castro': 1, 'acne': 1, 'Zebulon': 1, 'Pike': 1, 'population': 1, 'Buffalo': 1, 'Bill': 1}, 'DESC': {'How': 278, 'serfdom': 1, 'then': 3, 'Russia': 1, 'I': 84, 'list': 3, 'celebrities': 1, 'real': 3, 'names': 4, 'What': 728, 'liver': 1, 'enzymes': 1, 'Why': 104, 'heavier': 1, 'objects': 1, 'downhill': 1, 'faster': 1, 'only': 6, 'amendment': 1, 'U.S.': 11, 'Constitution': 3, 'Inch': 1, 'Nails': 1, 'bibliography': 3, 'Olympic': 1, 'motto': 4, 'origin': 54, 'name': 31, 'Scarlett': 1, 'Mormons': 1, 'website': 3, 'Yahoo': 2, 'free': 2, 'they': 15, 'witnesses': 1, 'execution': 1, 'you': 99, 'total': 1, 'stranger': 1, 'date': 2, 'ethology': 1, 'Where': 14, 'term': 16, '86ed': 1, 'nature': 3, 'learning': 1, 'Kashmir': 1, 'issue': 1, 'extended': 1, 'definition': 13, 'how': 9, 'one': 2, 'paper': 2, 'it': 29, 'titanium': 1, 'caldera': 1, 'people': 15, 'calluses': 1, 'Cushman': 1, 'Wakefield': 1, 'history': 10, 'skateboarding': 1, 'fuel': 2, 'bricks': 1, 'recycled': 1, 'newspaper': 3, 'home': 5, 'page': 2, 'Headquarters': 1, 'European': 2, 'Command': 1, 'head': 1, 'lice': 1, 'body': 4, 'cold': 4, 'temperatures': 1, 'bear': 2, 'bull': 1, 'markets': 1, 'dew': 2, 'point': 2, 'meaning': 16, 'Jesus': 1, 'cascade': 1, 'word': 30, 'attic': 1, 'Delilah': 1, 'Samson': 1, 'hair': 4, 'paintball': 1, 'chihuahuas': 1, 'Georgetown': 1, 'Hoya': 1, 'election': 1, 'new': 5, 'Pope': 1, 'world': 4, 'chickens': 1, 'baby': 4, 'chicks': 1, 'historical': 1, 'relationship': 1, 'Catholic': 2, 'Church': 1, 'bingo': 1, 'element': 3, 'calcium': 1, 'transistor': 1, 'equity': 1, 'securities': 1, 'gymnophobia': 1, 'JJ': 1, 'IQ': 1, 'dental': 1, 'root': 3, 'canal': 1, 'hook': 1, 'worms': 1, 'Indian': 3, 'Pudding': 1, 'clothing': 2, 'labels': 1, 'nonchlorine': 1, 'bleach': 1, 'horseshoes': 1, 'luck': 1, 'K': 1, 'plan': 1, 'pneumonia': 1, 'gringo': 1, 'web': 3, 'business': 2, 'Eagle': 1, 'syndrome': 2, 'styloid': 1, 'process': 3, 'Jayne': 1, 'Mansfield': 1, 'hamburgers': 1, 'steakburgers': 1, 'cities': 2, 'cable': 1, 'modem': 2, 'access': 2, 'Betsy': 1, 'Ross': 1, 'famous': 9, 'snoogans': 1, 'design': 3, 'ship': 1, 'Titanic': 2, 'daily': 2, 'requirement': 2, 'folic': 2, 'acid': 2, 'expectant': 1, 'mother': 1, '7-minute': 1, 'cigarette': 3, 'correctly': 2, 'qigong': 4, 'filmmakers': 1, 'collabrative': 1, 'Harry': 1, 'Houdini': 1, 'death': 4, 'contents': 1, 'proposition': 2, 'paracetamol': 1, 'powers': 2, 'weaknesses': 1, 'Green': 1, 'Lantern': 1, 'ring': 1, 'Katie': 1, 'Latin': 2, 'battle': 1, 'cry': 2, 'Ad': 1, 'arma': 2, 'ad': 1, 'Canada': 3, 'penny': 2, 'black': 4, 'what': 7, 'year': 5, 'Beanie': 1, 'Baby': 3, 'classic': 1, 'tragic': 1, 'hero': 2, 'molybdenum': 1, 'balance': 2, 'social': 2, 'security': 2, 'account': 1, 'Valentine': 1, 'Day': 5, 'cards': 1, 'top': 1, 'Eiffel': 1, 'Tower': 1, 'poop': 1, 'sometimes': 3, 'different': 8, 'colors': 3, 'tradition': 1, 'best': 3, 'man': 4, 'silk': 1, 'screening': 1, 'number': 6, 'rainbow': 1, 'form': 4, 'Hazmat': 1, 'doctors': 1, 'bone': 4, 'cancer': 2, 'redness': 1, 'cheeks': 1, 'when': 18, 'blush': 1, 'Pheonix': 1, 'Club': 1, 'Rupee': 1, 'successful': 4, 'arometherapy': 1, 'copier': 1, 'work': 11, 'function': 5, 'RAM': 1, 'use': 1, '24-hour': 1, 'clock': 3, 'instead': 2, '12-hour': 1, 'dry': 1, 'ice': 4, 'intractable': 1, 'plantar': 1, 'keratoma': 1, 'difference': 32, 'generator': 3, 'alternator': 1, 'energy': 2, 'correct': 2, 'reason': 6, 'American': 6, 'Indians': 1, 'oftentimes': 1, 'school': 10, 'classical': 2, 'conditioning': 2, 'operant': 1, 'interesting': 1, 'facts': 1, 'information': 3, 'Jane': 4, 'Goodall': 4, 'Billie': 1, 'community': 1, 'water': 10, 'tower': 1, 'Inuit': 1, 'Eskimo': 1, 'dye': 1, 'clothes': 1, 'doesn': 1, 't': 7, 'www.answers.com': 1, 'answers': 2, 'questions': 2, 'purpose': 5, 'tornadoes': 1, 'popcorn': 1, 'pop': 2, 'Maid': 2, 'Rites': 2, 'bee': 2, 'hives': 1, 'cranberry': 1, 'bogs': 1, 'Lynmouth': 1, 'floods': 1, 'grass': 1, 'green': 3, 'firewall': 1, 'economists': 1, 'dog': 1, 'me': 3, 'Dominica': 1, 'West': 3, 'Indies': 1, 'clitoris': 1, 'sensitive': 1, 'nanometer': 1, 'Janelle': 1, 'city': 4, 'distinct': 1, 'physical': 1, 'characterstics': 1, 'Arabian': 1, 'horse': 1, 'wop': 1, 'rocks': 1, 'background': 1, 'noise': 1, 'car': 6, 'stereo': 1, 'viscosity': 1, 'bog': 1, 'auberge': 1, 'France': 1, 'ears': 1, 'center': 1, 'Justin': 1, 'Amish': 1, 'religion': 1, 'coppertop': 1, 'battery': 1, 'color': 7, 'technical': 1, 'Electric': 1, 'Vehicle': 1, 'shipyard': 1, 'inspector': 1, 'James': 2, 'J.': 1, 'Kilroy': 1, 'equipment': 1, 'satisfactory': 1, 'Jellicle': 1, 'Cat': 2, 'several': 2, 'San': 3, 'Diego': 3, 'schools': 4, 'apples': 3, 'students': 3, 'tornado': 1, \"n't\": 3, 'guys': 1, 'sort': 1, 'contest': 1, 'where': 1, 'question': 1, 'whoever': 1, 'prize': 1, 'artificial': 1, 'intelligence': 2, 'magic': 2, 'white': 3, 'chocolate': 1, 'Gina': 1, 'stars': 2, 'Easter': 3, 'Sunday': 1, 'Motto': 1, 'State': 2, 'Maryland': 1, 'phone': 2, 'someone': 14, 'email': 3, 'address': 6, 'play': 1, 'producers': 1, 'promoters': 1, 'line': 2, 'players': 1, 'music': 5, 'game': 2, 'musical': 1, 'chairs': 1, 'mourning': 1, 'nihilist': 1, 'Richard': 1, 'Feynman': 1, 'he': 4, 'Nobel': 1, 'Prize': 1, 'Physics': 1, 'amphibians': 1, 'hydrogen': 3, 'bomb': 3, 'nuclear': 3, 'Hajo': 1, 'Bombay': 1, 'duck': 1, 'virtual': 2, 'IP': 2, 'facial': 2, 'feature': 2, 'typically': 1, 'hairs': 1, 'files': 1, 'computer': 8, 'Blackhawk': 1, 'war': 2, 'ante': 1, 'mortem': 1, 'Shawn': 1, 'Answers.com': 4, 'KnowPost.com': 1, 'L.A.': 3, 'office': 6, 'Shea': 5, 'Gould': 5, 'bank': 1, 'Ouija': 2, 'Boards': 1, 'broken': 1, 'cork': 1, 'bottle': 3, 'heating': 1, 'requirements': 2, 'chicken': 3, 'road': 2, 'millennium': 1, 'bug': 1, 'claim': 6, 'fame': 6, 'King': 2, 'Camp': 1, 'Gillette': 1, 'Olestra': 1, 'Rubik': 1, 'Cube': 1, 'mustard': 1, 'antidisestablishmentarianism': 1, 'Colin': 4, 'Powell': 4, 'curies': 1, 'W.B.': 1, 'Yeat': 1, 'poem': 2, 'Hermits': 1, 'Spumante': 2, 'isthmus': 1, 'news': 1, 'injectors': 1, 'march': 1, 'Macy': 1, 'Thanksgiving': 2, 'Parade': 1, 'Certified': 1, 'Nurse': 1, 'Midwife': 1, 'expression': 5, 'suite': 2, 'bra': 1, 'D.B.': 1, 'Cooper': 1, 'Anthony': 2, 'rhomboideus': 1, 'minor': 1, 'Vietnam': 2, 'War': 6, 'electric': 2, 'cars': 2, 'less': 1, 'efficient': 1, 'northeast': 1, 'California': 3, 'living': 1, 'conditions': 1, 'Cuba': 1, 'virtues': 1, 'soldiers': 1, 'WWI': 1, 'Doughboys': 1, 'online': 2, 'spelling': 2, 'punctuation': 1, 'drills': 1, '6th': 1, 'grader': 1, 'Fairground': 1, 'Park': 1, 'St.': 1, 'Louis': 1, 'median': 1, 'mean': 13, 'thunder': 2, 'global': 1, 'depression': 1, 'archy': 1, 'mehitabel': 1, 'excuse': 1, 'NATO': 1, 'Chinese': 4, 'embassy': 1, 'surname': 1, 'Braun': 1, 'Australia': 3, 'Chivington': 1, 'Massacre': 1, 'camaro': 1, 'GM': 1, 'Camaro': 1, 'AIM-54C': 1, 'Phoenix': 1, 'low': 1, 'island': 1, 'Neoclassical': 1, 'art': 3, 'Romanticism': 1, 'oxidation': 1, 'numbers': 3, 'Black': 2, 'Hills': 2, 'South': 3, 'Dakota': 2, 'most': 3, 'Greek': 3, 'numerals': 1, 'criminal': 2, 'records': 1, 'Internet': 6, 'example': 1, 'actual': 1, 'case': 1, 'Fourteenth': 1, 'Amendment': 2, 'ticklish': 1, 'menus': 1, 'washed': 1, 'vodka': 1, 'recipe': 1, 'books': 1, 'something': 3, 'Immaculate': 1, 'Conception': 1, 'Candlemas': 1, 'pyrotechnic': 1, 'display': 2, 'jobs': 1, 'Brooklyn': 1, 'Side': 1, 'bowling': 1, 'much': 4, 'income': 5, 'tax': 4, 'Social': 2, 'Security': 2, 'Zatanna': 1, 'DC': 2, 'comics': 1, 'dates': 1, '`': 1, 'Hooters': 1, 'girls': 3, 'comic': 1, 'character': 1, 'Plc': 1, 'hyperlink': 1, 'marijuana': 2, 'Elysium': 1, 'Shalom': 1, 'woodpeckers': 1, 'panoramic': 1, 'sugar': 1, 'eggs': 3, 'ones': 1, 'scene': 1, 'inside': 1, 'executor': 1, 'will': 2, 'microprocessors': 1, 'microcontrollers': 1, 'proof': 1, 'houseplants': 1, 'carcinogens': 1, 'co': 1, '-': 3, 'pilot': 1, 'Enola': 1, 'Gay': 2, 'God': 3, 'log': 1, 'toast': 1, 'arab': 1, 'strap': 1, 'Egyptians': 1, 'eyebrows': 1, 'rust': 3, 'Neil': 1, 'Mary': 1, 'upper': 1, 'peninsula': 1, 'Michagin': 1, 'first': 9, 'Funk': 1, \"'\": 1, 'N': 2, 'Lata': 1, 'Brazilian': 1, 'group': 2, 'success': 1, 'handheld': 1, 'PC': 1, 'John': 4, 'Hinckley': 1, 'Jodie': 1, 'Foster': 1, 'unusual': 1, 'Alexandra': 2, 'appearance': 2, 'Josie': 1, 'Pussycats': 1, 'mind': 1, 'Moon': 3, 'Maiden': 1, 'Urals': 1, 'itch': 1, 'poison': 1, 'ivy': 1, 'parents': 1, 'older': 1, 'bees': 1, 'walls': 1, 'winter': 1, 'movie': 3, 'transcript': 1, 'Hollywood': 1, 'film': 3, 'blue': 4, 'boys': 1, 'Hub': 1, 'London': 1, 'panic': 1, 'attacks': 1, 'filling': 1, 'golf': 2, 'balls': 2, 'typhoid': 1, 'fever': 2, 'Twin': 1, 'Cities': 1, 'there': 11, 'olives': 1, 'martinis': 2, 'highest': 1, 'Roman': 3, 'numeral': 2, 'sleet': 1, 'freezing': 1, 'rain': 1, 'Ford': 2, 'Econoline': 1, 'van': 1, 'F25': 1, 'V1': 1, 'engine': 1, 'major': 1, 'differences': 2, 'Methodist': 1, 'religions': 1, 'Venus': 1, 'Retrograde': 1, 'Las': 2, 'Vegas': 2, 'meta': 1, 'graduate': 2, 'New': 2, 'York': 2, 'style': 4, 'Chicago': 4, 'pizza': 1, 'pandoro': 1, 'words': 5, 'Way': 2, 'Paul': 1, 'Anka': 1, 'tile': 1, 'floor': 1, 'zipper': 1, 'stat': 1, 'quickly': 1, 'distinction': 2, 'Supreme': 1, 'Court': 1, 'Justice': 1, 'Thurgood': 1, 'Marshall': 1, 'Mae': 1, 'World': 2, 'II': 1, 'battleship': 1, 'cosmology': 3, 'amicable': 1, 'Finnish': 1, 'personality': 2, 'Salonen': 2, 'ethnic': 1, 'category': 2, 'caucasian': 1, 'stratocaster': 1, 'bikini': 1, 'bathing': 1, 'clouds': 2, 'half': 1, 'life': 3, 'P-32': 1, 'pressure': 1, 'cookers': 1, 'time': 9, 'kitchen': 1, 'jury': 1, 'cases': 1, 'Christian': 1, 'Scientists': 1, 'economic': 1, 'impact': 1, 'unemployment': 1, 'economy': 1, 'Home': 1, 'Rule': 2, 'Act': 1, 'Bellworts': 1, 'Canadian': 1, 'National': 1, 'anthem': 1, 'Muhammad': 1, 'Ali': 1, 'title': 1, 'boxing': 2, 'Kelly': 1, 'phalanx': 1, 'storms': 1, 'proper': 1, 'Laugh': 1, 'respones': 1, 'Dick': 1, 'meerkat': 1, 'cache': 2, 'memory': 1, 'midwest': 1, 'slang': 1, 'darn': 1, 'tootin': 1, 'jazz': 1, 'blues': 2, 'C': 1, 'programming': 1, 'language': 1, 'pit': 1, 'atom': 1, 'e': 3, 'mail': 3, 'aol.com': 1, 'Ella': 1, 'seashell': 1, 'ear': 1, 'haunted': 1, 'houses': 1, 'popular': 3, 'virus': 1, 'HIV': 1, 'weapons': 1, 'system': 2, 'Christopher': 1, 'Marlowe': 1, 'Shakespeare': 1, 'literary': 2, 'contributions': 1, 'English': 4, 'literature': 1, 'Braille': 1, 'things': 2, 'ATM': 1, 'machines': 3, 'through': 1, 'processing': 1, 'theory': 4, 'equivalence': 1, 'states': 1, 'sodium': 2, 'UOL': 1, 'circumorbital': 1, 'hematoma': 1, 'biceps': 1, 'size': 1, 'strontium': 2, 'tonsils': 1, 'posh': 1, 'anyone': 1, 'female': 2, 'sexual': 2, 'intercourse': 1, 'Sabrina': 1, 'hebephrenia': 1, 'causes': 2, 'Civil': 1, 'Andrew': 1, 'Christina': 1, 'perfect': 1, 'tenses': 1, 'commonly': 1, 'fifth': 1, 'sense': 1, 'bourdon': 1, 'tube': 1, 'Caroll': 1, 'Baker': 1, 'Tammy': 1, 'Grimes': 1, 'Debbie': 1, 'Reynolds': 1, 'Judy': 1, 'Garland': 1, 'common': 5, 'noir': 1, 'tuberculosis': 3, 'baseball': 2, 'team': 1, 'firemen': 1, 'Head': 1, 'women': 3, 'Navy': 1, 'board': 3, 'submarines': 1, 'saltpeter': 1, 'J.D.': 1, 'LL.M.': 1, 'federal': 2, 'agent': 3, 'happy': 1, 'organ': 2, 'donor': 1, 'Rocky': 2, 'Marciano': 2, 'pro': 2, 'career': 1, 'graphic': 1, 'details': 1, 'appendix': 1, 'Cartesian': 1, 'Diver': 1, 'dogtown': 1, 'anorexia': 1, 'largest': 1, 'variety': 1, 'cactus': 1, 'rooftops': 2, 'steam': 1, 'big': 1, 'rainstorm': 1, 'blackjack': 1, 'dealer': 1, 'Anglican': 2, 'church': 1, 'Vatican': 3, 'price': 1, 'organs': 1, 'magnetar': 1, 'taxi': 1, 'Madrid': 1, 'ever': 1, 'once': 1, 'Yale': 1, 'Lock': 1, 'Company': 1, 'Devo': 1, 'hat': 1, 'scientific': 1, 'calculator': 1, 'we': 4, 'Toulmin': 1, 'logic': 1, 'dangling': 1, 'participle': 1, 'peace': 1, 'symbol': 1, 'fax': 2, 'addresses': 1, 'human': 1, 'resource': 1, 'departments': 1, 'Massachusetts': 1, 'Congressman': 1, 'moxie': 1, 'military': 1, 'recruits': 1, 'effects': 3, 'nitrates': 1, 'environment': 1, 'Nitrox': 1, 'diving': 1, 'Long': 3, 'March': 3, 'gas': 2, 'release': 1, 'event': 1, 'Semper': 1, 'Fidelis': 1, 'sign': 1, 'candle': 2, 'wick': 1, 'prophecies': 1, 'witches': 1, 'Macbeth': 1, 'yo': 1, 'yos': 1, 'pasta': 1, 'psorisis': 1, 'mystery': 2, 'Bermuda': 1, 'Triangle': 1, 'neurosurgeon': 1, 'amaretto': 1, 'biscuits': 1, 'good': 5, 'massage': 1, 'jiggy': 2, 'a.m.': 1, 'p.m.': 1, 'manifest': 1, 'latent': 1, 'theories': 1, 'snowballs': 1, 'hot': 1, 'rodder': 1, 'Ozymandias': 1, 'men': 2, 'setting': 1, 'Le': 1, 'Carre': 1, 'A': 2, 'Small': 1, 'Town': 1, 'Germany': 2, 'echidna': 1, 'secret': 1, 'universe': 2, 'adjournment': 1, '25th': 1, 'anniversary': 1, 'session': 1, 'United': 1, 'Nations': 1, 'General': 2, 'Assembly': 1, 'Lee': 1, 'Harvey': 1, 'Oswald': 1, 'rifle': 1, 'Elvis': 1, 'Presley': 1, 'Red': 1, 'Planet': 1, 'fruit': 1, 'vegetable': 1, 'marble': 1, 'light': 4, 'void': 1, 'space': 3, 'medium': 1, 'wave': 3, 'pulse': 1, 'Valdez': 1, 'Principles': 1, 'easily': 1, 'red': 7, 'wine': 2, 'stains': 2, 'shirts': 1, 'MLA': 1, 'bibliographies': 1, 'source': 1, 'Arabic': 1, 'Numerals': 1, 'digitalis': 1, 'outcome': 1, 'Yalta': 2, 'Conference': 2, 'flintknapping': 1, 'canker': 1, 'sores': 1, 'mouth': 1, 'F.': 1, 'Kennedy': 2, 'greatest': 1, 'blunder': 1, 'proud': 1, 'young': 1, 'who': 3, 'Kappa': 1, 'Alpha': 1, 'Theta': 1, 'FCC': 1, 'chairman': 1, 'Newton': 1, 'Minow': 1, 'TV': 3, 'May': 1, 'Tiffany': 1, 'magnets': 1, 'person': 4, 'thalassemia': 3, 'guy': 1, 'alveoli': 1, 'ethylene': 1, 'pallbearer': 1, 'Microsoft': 2, 'Windows': 2, 'software': 2, 'so': 10, 'deadrise': 1, 'nautical': 2, 'area': 4, 'code': 2, 'mouse': 1, 'as': 1, 'fast': 1, 'gandy': 1, 'dancer': 1, 'rathaus': 1, 'Frankfurt': 1, 'incident': 1, 'canning': 1, 'summit': 1, 'conference': 1, 'Eisenhower': 1, 'Khrushchev': 1, 'bachelor': 1, 'bedroom': 1, 'apartment': 1, 'book': 1, 'report': 1, 'Cobol': 1, 'Fortran': 1, 'Pascal': 1, 'Garry': 1, 'Kasparov': 1, 'heat': 1, 'sun': 2, 'eyes': 2, 'birds': 3, 'way': 2, 'back': 2, 'same': 1, 'place': 3, 'wart': 1, 'spaceball': 1, 'rabies': 1, 'preface': 1, 'foreword': 1, 'storm': 2, 'Japanese': 2, 'needle': 1, 'lethal': 1, 'injection': 1, 'small': 2, 'businessman': 1, 'contact': 1, 'Good': 1, 'Humor': 1, 'Ice': 1, 'Cream': 1, 'company': 2, 'them': 3, 'chemiosmotic': 1, 'ion': 1, 'drive': 1, 'family': 1, 'roots': 1, 'courier': 1, 'girl': 1, 'sex': 3, 'lightning': 2, 'mc2': 1, 'asthma': 1, 'Dr.': 1, 'Pepper': 1, 'bottles': 1, 'months': 2, 'heuristic': 1, 'jack': 1, 'o': 2, 'ostriches': 1, 'Waugh': 1, 'Handful': 1, 'Dust': 1, 'mad': 1, 'old': 1, 'afternoon': 1, 'Choo': 2, 'Charlie': 1, 'trade': 1, 'North': 2, 'Carolina': 2, 'Jake': 1, 'brake': 1, 'Rolling': 1, 'Rock': 2, 'beer': 2, 'Corpus': 1, 'Christi': 1, 'bovine': 1, 'dentist': 1, 'multimedia': 1, 'terry': 2, 'cloth': 1, 'French': 3, 'inkhorn': 1, 'terms': 3, 'rock': 2, 'roll': 1, 'hazmat': 2, 'bloodhound': 1, 'environmental': 1, 'influences': 1, 'plant': 2, 'genetics': 1, 'carpal': 1, 'tunnel': 1, 'hamburger': 3, 'ham': 2, 'cotton': 1, 'belly': 1, 'buttons': 1, 'glacier': 1, 'palindromic': 1, 'ships': 1, 'Atlantic': 1, 'Pacific': 1, 'Panama': 1, 'Canal': 1, 'Belle': 1, 'Beauty': 2, 'Beast': 1, 'Socratic': 1, 'method': 1, 'hypertext': 1, 'pages': 1, 'Los': 2, 'Angeles': 2, 'lions': 1, 'Jungle': 1, 'advantages': 1, 'Super': 2, 'VHS': 2, 'VCR': 1, 'plain': 1, 'model': 1, 'foot': 2, 'pounds': 1, 'inches': 1, 'David': 1, 'Koresh': 1, 'FBI': 2, 'processor': 1, 'unknown': 1, 'author': 1, 'pita': 1, 'narcolepsy': 1, 'leukemia': 1, 'tail': 1, 'flight': 1, 'kite': 1, 'presidential': 1, 'elections': 1, 'November': 1, 'other': 2, 'drugs': 1, 'zoological': 1, 'ruminant': 1, 'hyperopia': 1, 'Tzimisce': 1, 'commerce': 2, 'ultraviolet': 1, 'damage': 1, 'DNA': 1, 'skin': 1, 'cells': 1, 'verdict': 2, 'trial': 2, 'Lizzie': 1, 'Borden': 1, 'polis': 1, 'Minneapolis': 1, 'literal': 1, 'D': 1, 'DAY': 1, 'chickenpoxs': 1, 'last': 3, 'long': 3, 'possession': 1, 'empire': 1, 'wake': 1, 'Spanish': 2, 'Sheri': 1, 'uniforms': 1, 'idea': 1, 'millenium': 1, 'swap': 1, 'math': 1, 'hypnotherapy': 1, 'biblical': 1, 'stones': 1, 'biorhythm': 1, 'song': 3, 'Banana': 1, 'Pajamas': 1, 'transplants': 1, 'more': 1, 'today': 2, 'evil': 1, 'Vocal': 1, 'Sampling': 1, 'windmills': 1, 'trigonometry': 1, 'Compaq': 1, 'mission': 1, 'statement': 1, 'fun': 1, 'Cozumel': 1, 'Mexico': 1, 'teenagers': 1, 'crabgrass': 1, 'Science': 1, 'main': 2, 'vehicles': 1, 'nowadays': 1, 'optical': 1, 'digital': 2, 'video': 1, 'clause': 1, 'not': 8, 'postal': 1, 'anus': 1, 'rectum': 1, 'Guild': 1, 'college': 3, 'file': 4, 'ART': 1, 'JPEG': 1, 'Bitmap': 1, 'Franz': 1, 'Kafka': 1, 'short': 4, 'story': 1, 'Country': 1, 'Doctor': 1, 'us': 2, 'lyrics': 2, 'Star': 3, 'Spangled': 1, 'Banner': 1, 'compass': 1, 'outer': 1, 'safe': 1, 'bond': 1, 'critical': 1, 'analysis': 1, 'compatible': 1, 'multiplexer': 1, 'Poconos': 1, 'caliente': 3, 'anything': 1, 'powerful': 1, 'Power': 1, 'Bars': 1, 'part': 1, 'asleep': 1, 'June': 1, 'birthstone': 1, 'check': 1, 'bill': 3, 'restaurant': 1, 'proverb': 1, 'stitch': 1, 'Thursday': 1, 'telephones': 1, 'diabetes': 2, 'ton': 1, 'goldenseal': 1, 'Lost': 1, 'Colony': 1, 'Tetrinet': 1, 'LCD': 1, 'monitor': 2, 'screen': 2, 'amezaiku': 1, 'chancery': 1, 'estate': 1, 'hungry': 1, 'photographs': 1, 'Zionism': 1, 'tennis': 1, 'ball': 1, 'else': 1, 'swastika': 1, 'goosebumps': 1, 'emotional': 1, 'beautiful': 2, 'piece': 1, 'yield': 1, 'maturity': 1, 'reference': 1, 'bonds': 1, 'Delaware': 1, 'box': 1, 'cat': 2, 'Teddy': 2, 'Roosevelt': 2, 'FDR': 1, 'travel': 3, 'troilism': 1, 'prime': 1, 'honey': 1, 'funnel': 1, 'bowl': 1, 'emperor': 1, 'cranes': 1, 'high': 4, 'rise': 1, 'buildings': 1, 'Al': 1, 'Capone': 1, 'finally': 1, 'info': 1, 'rice': 1, 'importers': 1, 'Stairway': 1, 'Heaven': 1, 'Led': 2, 'Zeppelin': 2, 'Breony': 1, 'eye': 1, 'beholder': 1, 'days': 2, 'Christmas': 4, 'Dickens': 1, 'Carol': 1, 'bulbs': 1, 'law': 4, 'firm': 2, 'jar': 1, 'lack': 1, 'sleep': 2, 'food': 4, 'certain': 1, 'recruitment': 1, 'interview': 1, 'technique': 1, 'hurricane': 1, 'donation': 1, 'Occam': 1, 'Razor': 1, 'medical': 2, 'purposes': 2, 'clitoridectomy': 1, 'surge': 1, 'farther': 1, 'further': 1, 'cologne': 1, 'camera': 1, 'ready': 1, 'Phillip': 1, 'Taylor': 1, 'Kramer': 1, 'tree': 1, 'SVGA': 1, 'adapter': 1, 'spaghetti': 1, 'western': 2, 'Indiglo': 2, 'Merrie': 1, 'Melodies': 1, 'cartoons': 1, 'Cabarnet': 1, 'Sauvignon': 1, 'screens': 1, 'speed': 1, 'magnet': 1, 'output': 1, 'La': 1, 'Nina': 1, 'Globe': 1, 'Theatre': 1, 'blood': 4, 'SED': 1, 'rate': 3, 'development': 1, 'important': 1, 'nursery': 1, 'rhyme': 1, 'a': 1, 'gametophytic': 1, 'tissue': 1, 'Aaron': 2, 'conifer': 1, 'fox': 1, 'tie': 1, 'chromatology': 1, 'ACLU': 1, 'Kythnos': 1, 'Siphnos': 1, 'Seriphos': 1, 'Mykonos': 1, 'lines': 1, 'footballs': 1, 'Abigail': 1, 'Arcane': 1, 'villainous': 1, 'opponent': 1, 'Swamp': 1, 'Thing': 1, 'Mighty': 1, 'Mouse': 1, 'always': 1, 'action': 1, 'Bob': 2, 'Marley': 2, 'mushroom': 1, 'microwaves': 1, 'pregnant': 2, 'HIGHEST': 1, 'audio': 1, 'bubble': 1, 'wrap': 1, 'Java': 1, 'mathematical': 1, 'factor': 1, 'porphyria': 1, 'Finger': 1, 'Lakes': 1, 'state': 2, 'Alaska': 1, 'clot': 1, 'effect': 5, 'friction': 1, 'perpetual': 1, 'motion': 1, 'now': 1, 'like': 2, 'near': 1, 'episode': 1, 'colonial': 1, 'rule': 2, 'second': 2, 'industrial': 1, 'revolutions': 1, 'truly': 1, 'love': 3, 'criticism': 1, 'housewarming': 1, 'party': 1, 'editor': 1, 'Freddy': 1, 'Freeman': 1, 'Captain': 1, 'Marvel': 1, 'Jr.': 1, 'Erle': 1, 'Stanley': 1, 'Gardner': 1, 'Case': 1, 'Terrified': 1, 'Typist': 1, 'limbo': 1, 'tonne': 1, 'Bernoulli': 1, 'Principle': 1, 'poster': 1, 'print': 1, 'false': 1, 'consciousness': 1, 'Great': 1, 'Depression': 1, 'Japan': 1, 'chemical': 2, 'properties': 1, 'mendelevium': 1, 'sideburns': 1, 'First': 1, 'country': 3, 'salt': 3, 'snow': 4, 'laser': 1, 'mandibulofacial': 1, 'dysostosis': 1, 'partition': 1, 'churches': 1, 'Butterfield': 3, 'candy': 1, 'cane': 1, 'motor': 1, 'oil': 1, '7th': 1, 'inning': 1, 'stretch': 1, 'get': 1, 'Tailors': 1, 'television': 2, 'show': 1, 'Elongated': 1, 'Man': 2, 'afoot': 1, 'Boston': 1, 'Kreme': 1, 'swatch': 1, 'steps': 1, 'sound': 2, 'track': 1, 'saying': 1, 'thumb': 1, 'quicker': 1, 'air': 1, 'Global': 1, 'Economy': 1, 'caul': 1, 'quantum': 1, 'leaps': 1, 'simpler': 1, 'marrow': 2, 'transplant': 2, 'acoustic': 1, 'guitar': 1, 'banking': 1, 'hermit': 1, 'crabs': 1, 'junk': 1, 'snail': 1, 'hydroelectricity': 1, 'abacus': 1, 'Kinsey': 1, 'Institute': 1, 'preference': 1, 'percent': 1, 'males': 1, 'splatterpunk': 1, 'orgin': 1, 'xoxoxox': 1, 'silly': 1, 'putty': 1, 'fabric': 1, 'abbreviation': 1, 'cake': 1, 'soap': 1, 'Smelly': 1, 'citizen': 1, 'idealab': 2, 'Win': 1, 'Rah': 1, 'moon': 3, 'sizes': 1, 'close': 1, 'cousin': 1, 'Franklin': 1, 'D.': 1, 'Theodore': 1, 'boats': 1, 'urban': 1, 'legend': 1, 'Smartnet': 1, 'vermicilli': 1, 'rigati': 1, 'zitoni': 1, 'tubetti': 1, 'SysRq': 1, 'key': 1, 'keyboard': 2, 'contibution': 1, 'solar': 1, 'experiment': 1, 'feudal': 1, 'application': 1, 'hydrosulfite': 1, 'letters': 2, 'handwriting': 1, 'analyst': 1, 'Igor': 1, 'university': 1, 'limits': 1, 'self': 1, 'defense': 1, 'product': 1, 'NBA': 1, 'prism': 1, 'piracy': 1, 'change': 1, 'enthalpy': 1, 'reaction': 1, 'children': 2, 'rights': 2, 'Peabody': 1, 'Sherman': 1, 'dumplings': 1, 'Kathryn': 1, 'ankle': 1, 'sprain': 1, 'thermal': 1, 'equilibrium': 1, 'typing': 1, 'practice': 1, 'sentence': 1, 'Now': 1, 'aid': 1, 'executioner': 1, 'condition': 1, 'hypertension': 1, 'Doegs': 1, 'relatives': 1, 'Trail': 1, 'Tears': 1, 'infomatics': 1, 'BIOS': 1, 'pig': 1, 'poke': 1, 'cullion': 1, 'flat': 1, 'explosion': 1, 'sphere': 1, 'importance': 1, 'Magellan': 1, 'grades': 1, 'buffalo': 1, 'wings': 3, 'menu': 1, 'item': 1, 'bars': 1, 'nation': 1, 'spicey': 1, 'sauce': 1, 'type': 2, 'childhood': 1, 'Jules': 1, 'Verne': 1, 'leper': 1, 'Wars': 2, 'satellites': 1, 'philanthropist': 1, 'portal': 1, 'websites': 1, 'money': 4, 'vitamins': 1, 'football': 1, 'Fordham': 1, 'Waynesburg': 1, 'September': 1, 'serigraph': 1, 'cd': 1, 'Eminem': 1, 'slim': 1, 'shady': 1, 'Name': 1, 'subaru': 1, 'endometriosis': 1, 'geoscientist': 1, 'cause': 2, 'VDRL': 1, 'test': 1, 'hockey': 1, 'violent': 1, 'leaky': 1, 'heart': 1, 'valve': 1, 'myself': 1, 'manicure': 1, 'Scrabble': 1, 'syzygy': 1, 'Christine': 1, 'Low': 1, 'Countries': 1, 'hands': 3, 'friendliness': 1, 'funny': 1, 'exactly': 3, 'radiation': 1, 'specifically': 1, 'flag': 1, 'auto': 2, 'racing': 1, 'osteichthyes': 1, 'topic': 1, 'outline': 1, 'foreigner': 1, 'card': 2, 'glory': 2, 'hole': 3, 'staff': 1, 'Lord': 1, 'Prayer': 1, 'jail': 2, 'marl': 1, 'mineral': 1, 'LAN': 1, 'HUB': 1, 'insects': 1, 'spiracles': 1, 'Boxing': 1, 'early': 2, 'revolutionaries': 1, 'short-': 1, 'underage': 1, 'drinking': 1, 'night': 1, 'watchman': 1, 'Frank': 1, 'Wills': 1, 'Calder': 1, 'tourist': 1, 'attraction': 1, 'spy': 1, 'satelite': 1, 'Archimedes': 1, 'cunnilingus': 1, 'object': 2, 'woman': 1, 'virgin': 1, 'nun': 1, 'verdandi': 1, 'barbeque': 1, 'badly': 1, 'brass': 1, 'plastic': 1, 'ants': 1, 'nematode': 1, 'CPR': 1, 'capitalism': 1, 'Max': 1, 'Weber': 1, 'oceans': 1, 'fresh': 1, 'affiant': 1, 'characters': 1, 'terrorism': 1, 'est': 1, 'tampon': 1, 'CCT': 1, 'diagram': 1, 'supplement': 1, 'ecological': 1, 'niche': 1, 'fireplug': 1, 'Walt': 1, 'Disney': 2, 'sport': 1, 'none': 1, 'employees': 1, 'vending': 1, 'dollar': 1, 'drought': 1, 'benefits': 2, 'Hank': 1, 'Jimmy': 1, 'Stewart': 1, 'Howard': 1, 'K.': 1, 'Smith': 1, 'Henry': 1, 'automobile': 3, 'calleda': 1, 'Model': 2, 'T': 1, 'companies': 2, 'thin': 1, 'rest': 2, 'H': 1, 'automation': 1, 'Lloyd': 1, 'Lutine': 1, 'Bell': 1, 'scratch': 1, 'wasps': 1, 'nests': 1, 'doughnut': 1, 'Pompeii': 1, 'witch': 2, 'cookies': 2, 'molecules': 1, 'compounds': 1, 'many': 2, 'umbrellas': 1, 'fatalism': 1, 'determinism': 1, 'cameras': 1, 'pictures': 1, 'program': 1, 'Army': 2, 'sergeant': 2, 'stripes': 3, 'cloud': 1, 'lung': 1, 'M&Ms': 1, 'earthquake': 1, 'Aztecs': 1, 'Gods': 1, 'rules': 2, 'ouzo': 1, 'peanut': 1, 'butter': 1, 'crisscrosses': 1, 'urologist': 1, 'qualifications': 1, 'individuals': 1, 'hairdryer': 1, 'Dogtown': 1, 'bucks': 1, 'infamous': 1, 'feat': 1, 'U-2': 1, 'submarine': 2, 'Native': 1, 'complete': 2, 'disaccharide': 1, 'stocks': 1, 'former': 1, 'WWF': 1, 'wrestler': 1, 'Rick': 1, 'Rude': 1, 'False': 1, 'rich': 1, 'quick': 1, 'Hot': 1, 'Wheels': 1, 'voter': 1, 'dingoes': 1, 'P.T.': 1, 'Barnum': 1, 'diminutive': 1, 'Charles': 1, 'S.': 1, 'Stratton': 1, 'pomegranates': 1, 'pharmacists': 1, 'floors': 2, 'epicenter': 1, 'Cool': 1, 'Hand': 2, 'Luke': 1, 'V-8': 1, 'Juice': 1, 'slogan': 1, 'tastebud': 1, 'fat': 1, 'jealous': 1, 'Bond': 1, 'wet': 1, 'dream': 1, 'Pepsi': 1, 'Clear': 1, 'Mexican': 1, 'hairless': 1, 'Socrates': 1, 'scientists': 1, 'weather': 3, 'letter': 2, 'directors': 1, 'advisory': 1, 'cultural': 1, 'ceremony': 2, 'potlatch': 1, 'Explorer': 1, 'February': 1, 'Yankee': 2, 'Doodle': 2, 'why': 1, 'feather': 1, 'cap': 1, 'macaroni': 1, 'power': 2, 'steering': 1, 'chick': 1, 'egg': 1, 'plants': 1, 'Hohenzollerns': 1, 'Washington': 1, 'originally': 1, 'District': 1, 'Columbia': 1, 'snowboarding': 1, 'turnkey': 1, 'contract': 1, 'extinction': 1, 'mile': 1, 'feet': 3, 'carbon': 1, 'dioxide': 1, 'natural': 1, 'Nintendo': 1, 'Zapper': 1, 'InterLata': 1, 'service': 1, 'fourth': 1, 'dimension': 1, 'alternative': 1, 'anymore': 1, 'biologist': 1, 'revelation': 1, 'Alexander': 1, 'Senate': 1, 'Watergate': 1, 'committee': 1, 'writing': 1, 'pointsettia': 1, 'touch': 1, 'Michael': 1, 'Moore': 1, 'Roger': 1, 'Me': 1, 'properly': 1, 'node': 1, 'Marijuana': 1, 'SQL': 1, 'queries': 1, 'chip': 1, 'Linux': 1, 'orange': 1, 'stinger': 1, 'tweezers': 1, 'Europeans': 1, 'Oceania': 1, 'Confederate': 1, 'slavery': 1, 'problems': 1, 'failure': 1, 'Plains': 1, 'farmers': 1, '1800s': 1, 'effective': 1, 'condoms': 1, 'AIDS': 1, 'friend': 2, 'telephone': 2, 'Teflon': 1, 'pan': 1, 'InSb': 1, 'thickness': 1, 'infrared': 1, 'detectors': 1, 'seccession': 1, 'radius': 1, 'ellipse': 1, 'Golden': 1, 'psychologically': 1, 'current': 1, 'immigration': 1, 'laws': 1, 'US': 2, 'cough': 1, 'syrup': 1, 'medication': 1, 'khaki': 1, 'chino': 1, 'infinity': 1, 'side': 1, 'mevacor': 1, 'achievement': 1, 'smoking': 1, 'band': 1, 'Lawrence': 1, 'Tatiana': 1, 'Rush': 1, 'homeostasis': 1, 'existence': 1, 'organism': 1, 'Baltic': 1, 'States': 1, 'society': 1, 'osmosis': 1, 'deadly': 1, 'sins': 1, 'Melissa': 2, 'formation': 1, 'Boy': 2, 'Scouts': 2, 'male': 1, 'cuckquean': 1, 'factors': 1, 'teen': 1, 'pregnancy': 1, 'Spartanburg': 1, 'cream': 1, 'sundaes': 2, 'distinctive': 1, 'palmiped': 1, 'goulash': 1, 'parachute': 1, 'Spartacus': 1, 'slave': 1, 'gladiator': 1, 'drag': 1, 'currents': 1, 'Shetland': 1, 'Islands': 2, 'Orkney': 1, 'Sea': 1, 'Cos': 1, 'Cob': 1, 'CT': 1, 'President': 1, 'series': 1, 'values': 1, 'Quebec': 1, 'Last': 1, 'Chance': 1, 'Animals': 1, 'boxcars': 1, 'cats': 1, 'flower': 1, 'garden': 1, 'figs': 1, 'ripe': 1, 'thee': 1, 'hydroelectric': 1, 'dam': 1, 'binomial': 1, 'coefficients': 1, 'Living': 1, 'Room': 1, 'Suzy': 1, 'Parker': 1, 'Q': 1, 'Z': 1, 'Angelus': 1, 'sperm': 1, 'retirement': 1, 'dot': 1, 'i': 1, 'soda': 1, 'jerk': 1, 'species': 1, 'cecum': 1, 'Fortune': 1, 'ninjitsu': 1, 'kung': 1, 'fu': 1, 'squeaky': 1, 'mosquitoes': 1, 'bubblegum': 1, 'carpet': 1, 'Peloponnesian': 1, 'League': 2, 'tannins': 1, 'Mills': 1, 'manufacture': 1, 'Cheerios': 1, 'traits': 1, 'Capricorns': 1, 'Sinn': 2, 'Fein': 2, 'Megan': 1, 'usenet': 1, 'field': 1, 'transistors': 1, 'hazel': 1, 'anteater': 1, 'commentary': 1, 'deconstructionism': 1, 'Lenny': 1, 'Bruce': 1, 'him': 1, 'airliners': 1, 'down': 1, 'little': 1, 'reflectors': 1, 'middle': 1, 'saline': 1, 'medicine': 1, 'text': 1, 'Fifth': 1, 'Internet2': 1, 'Milky': 1, 'Remembrance': 1, 'all': 1, 'capital': 1, 'market': 1, 'Antonia': 1, 'Mr.': 2, 'Shimerda': 1, 'farm': 1, 'fur': 1, 'infatuation': 1, 'exact': 1, 'sunset': 1, 'particular': 1, 'day': 1, 'rowing': 1, 'machine': 1, 'poing': 1, 'boxer': 1, 'carelessness': 1, 'carefreeness': 1, 'tyvek': 1, 'Asia': 1, 'Ivy': 1, 'leftovers': 1, 'Ireland': 2, 'Buffalo': 1, 'humidity': 1, 'yohimbine': 1, 'Hope': 1, 'pink': 1, 'denote': 1, 'Trivial': 1, 'Pursuit': 1, 'Boomer': 1, 'Edition': 1, 'Margaret': 1, 'Thatcher': 1, 'direct': 1, 'constantly': 1, 'sweaty': 1, 'spectrum': 1, 'sine': 1, 'socioeconomic': 1, 'position': 1, 'friends': 1, 'Jenna': 1, 'training': 1, 'bras': 1, 'Edith': 1, 'Bunker': 1, 'geckos': 1, 'habeas': 1, 'corpus': 1, 'intranet': 1, 'USA': 1, 'UK': 1, 'NNP': 1, 'T.': 1, 'Scopes': 1, 'dolphin': 1, 'circle': 1, 'barbershop': 1, 'pole': 1, 'Dead': 1, 'marriage': 1, 'specimen': 1, 'basidiomycetes': 1, 'faults': 1, 'earth': 2, 'crust': 1, 'Asiento': 1, 'kind': 1, 'greeting': 1, 'appropriate': 1, 'Yom': 1, 'Kippur': 1, 'napsylate': 1, 'Srpska': 1, 'Krajina': 1, 'Esa': 1, 'Pekka': 1, 'Robert': 1, 'anti': 1, 'locking': 1, 'brakes': 1, 'chain': 1, 'command': 1, 'army': 1, 'Apache': 1, 'helicopter': 1, 'hormone': 1, 'fellatio': 1, 'characteristics': 1, 'week': 1, 'fiber': 1, 'jets': 1, 'vapor': 1, 'trail': 1, 'others': 1, 'S&P': 1, 'Philebus': 1, 'proliferation': 1, 'wheel': 1, 'e.g.': 1, 'tire': 1, 'opposite': 1, 'direction': 1, 'E': 2, 'Pluribus': 1, 'Unum': 1, 'TFT': 1, 'dual': 1, 'scan': 1, 'opera': 1, 'Big': 1, 'Bang': 1, 'Koran': 1, 'Bible': 1, 'division': 1, 'Anglicans': 1, 'Curious': 1, 'George': 1, 'curious': 1, 'U.S.A': 1, 'involved': 1, 'Barbary': 1, 'multicultural': 1, 'multilingual': 1, 'headaches': 1, 'youngsters': 1, 'Agra': 1, 'India': 1, 'Order': 1, 'Arrow': 1, 'often': 1, 'aurora': 1, 'Hawks': 1, 'unique': 1, 'China': 1, 'diamond': 1, 'lump': 1, 'coal': 1, 'LSD': 1, 'brain': 1, 'horologist': 1, 'figures': 1, 'Island': 1, 'Paraguay': 1, 'vacations': 1, 'Kilvington': 1, 'powder': 1, 'lotion': 1, 'probability': 1, 'somebody': 1, 'roosters': 1, 'morning': 1, 'features': 1, 'African': 1, 'elephant': 2, 'larger': 1, 'poetic': 1, 'meter': 1, 'blank': 1, 'verse': 1, 'soft': 1, 'drink': 1, 'Pibb': 1, 'platinum': 1, 'end': 1, 'double': 1, 'O': 1, 'aortic': 1, 'abdominal': 1, 'aneurysm': 1, 'chloroplasts': 1, 'legally': 1, 'own': 2, 'purple': 1, 'webpage': 1, 'legal': 1, 'repossession': 1}, 'ENTY': {'films': 2, 'character': 6, 'Popeye': 2, 'Doyle': 1, 'fowl': 1, 'spotlight': 1, 'Chinese': 2, 'Year': 2, 'Monkey': 1, 'What': 744, 'costliest': 1, 'disaster': 1, 'insurance': 2, 'industry': 1, 'ever': 4, 'articles': 2, 'clothing': 1, 'tokens': 1, 'Monopoly': 5, 'second': 10, 'most': 56, 'vowel': 2, 'English': 19, 'golf': 4, 'course': 2, 'Myrtle': 2, 'Beach': 2, 'spermologer': 1, 'religion': 2, 'Isis': 1, 'nature': 1, 'goddess': 1, 'relative': 1, 'racoon': 1, 'sometimes': 2, 'cat': 2, 'bear': 2, 'cash': 2, 'conscious': 1, 'Colonel': 1, 'Edwin': 1, 'L.': 3, 'Drake': 1, 'first': 50, 'cocktail': 2, 'John': 18, 'Doxat': 1, 'book': 27, 'Not': 1, 'weapon': 4, 'mythological': 1, 'Apollo': 1, 'proficient': 1, 'only': 12, 'color': 33, 'Johnny': 4, 'Cash': 2, 'stage': 2, 'term': 20, 'young': 1, 'fox': 2, 'footed': 1, 'Musca': 1, 'domestica': 1, 'when': 9, 'it': 15, 'house': 1, 'callosum': 2, 'part': 6, 'body': 10, 'Nebraska': 2, 'valuable': 2, 'resource': 1, 'domesticated': 2, 'bird': 3, 'fear': 66, 'shadows': 1, 'J.R.R.': 2, 'Tolkien': 2, 'Bilbo': 1, 'Baggins': 1, 'central': 2, 'kind': 42, 'animals': 12, 'Paleozoic': 1, 'era': 2, 'female': 3, 'rabbit': 2, 'work': 1, 'Michelangelo': 3, 'signature': 2, 'largest': 12, 'snake': 1, 'world': 21, 'medium': 4, 'Stuart': 4, 'Hamblen': 5, 'singing': 6, 'cowboy': 5, 'common': 14, 'name': 82, 'acetylsalicylic': 1, 'acid': 2, 'products': 5, 'tiger': 4, 'symbol': 6, 'novel': 24, 'movie': 24, 'BladeRunner': 1, 'film': 35, 'Jude': 6, 'Law': 6, 'Hollywood': 2, 'dog': 16, 'arms': 1, 'Jean': 1, 'Harlow': 1, 'elements': 5, 'Earth': 3, 'crust': 1, 'Little': 4, 'Rascals': 4, 'Broadway': 4, 'musical': 6, 'Cervantes': 1, 'Don': 2, 'Quixote': 1, 'corpus': 1, 'album': 2, 'Beatles': 2, 'cover': 3, 'Time': 1, 'poem': 1, 'line': 8, 'old': 3, 'me': 3, 'best': 27, 'yet': 1, 'war': 14, 'Wanna': 1, 'Home': 1, 'Riots': 1, 'after': 1, 'colored': 1, 'eye': 2, 'what': 24, 'T.V.': 1, 'show': 9, 'Tom': 3, 'Terrific': 1, 'game': 20, 'board': 3, 'territories': 1, 'Irkutsk': 1, 'Yakutsk': 1, 'Kamchatka': 1, 'therapy': 1, 'primal': 1, 'scream': 1, 'tongue': 1, 'palate': 1, 'ball': 7, 'foul': 1, 'pole': 1, 'rites': 1, 'circumcision': 1, 'newly': 1, 'child': 2, 'Judaism': 1, 'education': 3, 'system': 7, 'shrubs': 1, 'safe': 1, 'deer': 1, 'technique': 3, 'widely': 5, 'birth': 5, 'defects': 4, 'forms': 1, 'gold': 3, 'slowest': 1, 'Olympic': 3, 'swimming': 2, 'stroke': 1, 'disease': 15, 'Anopheles': 1, 'mosquito': 2, 'rum': 5, 'so': 2, 'mixable': 1, 'brand': 7, 'bar': 2, 'bite': 1, 'blood': 6, 'DT': 2, 'NN': 3, 'CC': 1, 'instrument': 8, 'Ray': 5, 'Charles': 4, 'mascot': 1, 'Notre': 1, 'Dame': 1, 'University': 2, 'Microsoft': 1, 'Windows': 2, 'success': 1, 'other': 5, 'ways': 6, 'stretch': 1, 'marks': 2, 'pregnancy': 2, 'weight': 3, 'loss': 2, 'lifting': 1, 'brontosauruses': 1, 'bottles': 1, 'good': 6, 'Rhine': 1, 'wines': 1, 'lowest': 2, 'level': 1, 'American': 11, 'judiciary': 1, 'official': 2, 'animal': 22, 'Canada': 2, 'biggest': 8, 'eyes': 3, 'Italians': 1, 'Florence': 2, 'bet': 1, 'cards': 5, 'Genesis': 2, 'chicken': 2, 'egg': 2, 'Latin': 5, 'incompetent': 1, 'chemicals': 3, 'lethal': 1, 'injection': 1, 'wood': 1, 'pusher': 1, 'play': 5, 'poorly': 1, 'constitution': 2, 'fastest': 6, 'commercial': 4, 'automobile': 1, 'US': 1, 'way': 10, 'wallpaper': 1, 'Halloween': 1, 'colors': 9, 'creature': 5, 'people': 13, 'Jaws': 4, 'tallest': 1, 'piece': 2, 'chessboard': 1, 'product': 12, 'Robert': 4, 'Conrad': 1, 'shoulder': 1, 'different': 7, 'approaches': 1, 'systems': 1, 'analysis': 1, 'developmental': 1, 'stages': 1, 'swimmer': 1, 'gaming': 1, 'devices': 1, 'Mississippi': 3, 'marbles': 1, 'Memphis': 1, 'dominoes': 1, 'Jewish': 5, 'holiday': 1, 'start': 1, 'Mideast': 1, 'War': 11, 'Dudley': 1, 'Do': 1, 'Right': 1, 'horse': 8, 'TV': 20, 'once': 2, 'contestant': 1, 'toes': 2, 'shower': 1, 'Nightingale': 1, 'troops': 3, 'cockroaches': 1, 'CBS': 1, 'soap': 2, 'opera': 3, 'bulletin': 1, 'F.': 5, 'Kennedy': 5, 'assassination': 2, 'Lee': 1, 'Marvin': 1, 'actor': 3, 'Oscar': 4, 'Mrs.': 2, 'Olsen': 1, 'powerful': 2, 'card': 8, 'Euchre': 1, 'crop': 3, 'failure': 2, 'Irish': 2, 'Famine': 1, 'longest': 9, 'television': 3, 'series': 8, 'predators': 1, 'Antarctica': 1, 'beer': 5, 'rings': 1, 'golfing': 1, 'accessory': 1, 'George': 6, 'Grant': 1, 'December': 2, 'types': 5, 'plastic': 1, 'tour': 1, 'Roman': 2, 'empire': 1, 'admonition': 1, 'Row': 1, 'well': 1, 'Babar': 1, 'Bob': 1, 'Marley': 1, 'bicornate': 1, 'weakness': 1, 'song': 12, 'closing': 1, 'theme': 3, 'Show': 2, 'field': 2, 'sport': 20, 'dentist': 1, 'William': 5, 'Beers': 1, 'standard': 1, 'rules': 1, 'word': 22, 'Old': 8, 'French': 7, 'covrefeu': 1, 'fire': 2, 'Prewitt': 2, 'James': 7, 'Jones': 2, 'Here': 2, 'Eternity': 2, 'Where': 2, 'hair': 5, 'Redford': 1, 'directorial': 1, 'debut': 1, 'commonly': 5, 'language': 16, 'Belgium': 3, 'children': 4, 'tale': 2, 'Cinderslut': 1, 'skein': 1, 'wool': 1, 'you': 41, 'whisky': 2, 'sweet': 2, 'vermouth': 2, 'How': 7, 'fresh': 1, 'Spanish': 5, 'Madilyn': 1, 'Kahn': 1, 'star': 3, 'Gene': 1, 'Wilder': 1, 'type': 11, 'bridge': 3, 'Golden': 2, 'Gate': 1, 'Bridge': 3, 'Lifesaver': 1, 'flavor': 2, 'bible': 1, 'deck': 1, 'Wheel': 1, 'Fortune': 1, 'Lovers': 1, 'Death': 1, 'Statue': 1, 'Liberty': 1, 'feet': 2, 'household': 3, 'facility': 1, 'float': 1, 'ballcock': 1, 'overflow': 1, 'tube': 2, 'Betty': 1, 'Boop': 1, 'San': 3, 'Luis': 1, 'Rey': 1, 'Grenada': 1, 'main': 7, 'commodity': 2, 'export': 1, 'magic': 2, 'Mandrake': 1, 'commercially': 1, 'Bayer': 1, 'A.G.': 1, 'Leverkusen': 1, 'market': 2, 'facial': 1, 'scars': 1, 'Sioux': 10, 'Indians': 7, 'Kevin': 5, 'Costner': 5, 'thunder': 1, 'file': 2, 'extension': 1, 'then': 5, 'derogatory': 1, 'painters': 1, 'Monet': 1, 'Sisley': 1, 'Pissarro': 1, 'Renoir': 1, 'Degas': 1, 'sitcom': 1, 'Alyssa': 1, 'Milano': 1, 'Tony': 1, 'Danza': 1, 'bees': 1, 'Vladimir': 1, 'Nabokov': 1, 'Professor': 1, 'Humbert': 1, 'love': 3, '12-year': 1, 'girl': 2, 'chairbound': 1, 'basophobic': 1, 'Steve': 1, 'McQueen': 1, 'Edward': 2, 'G.': 1, 'Robinson': 1, 'Cincinnati': 1, 'Kid': 2, 'fastener': 1, 'Whitcomb': 1, 'Judson': 1, 'patent': 3, 'ribavirin': 1, 'soft': 13, 'drink': 20, 'number': 3, 'sun': 2, 'popular': 11, 'Creeps': 1, 'alone': 1, 'Lactobacillus': 1, 'bulgaricus': 1, 'milk': 3, 'plant': 4, 'seed': 1, 'cyclist': 1, 'Oil': 1, 'often': 5, 'hooligans': 2, 'beers': 1, 'operating': 3, 'IBM': 4, 'compatible': 4, 'machines': 4, 'dry': 2, 'wine': 4, 'veal': 1, 'roasts': 1, 'chops': 1, 'sign': 5, 'Water': 1, 'Carrier': 1, 'zodiacal': 2, 'stock': 1, 'Shostakovich': 1, 'Rostropovich': 1, 'hardest': 2, 'substance': 5, 'blind': 1, 'protanopia': 1, 'Sharon': 1, 'Stone': 1, 'Arnold': 1, 'Schwarzenegger': 1, 'flatfish': 1, 'I': 16, 'stubborn': 1, 'labels': 1, 'diskettes': 1, 'in': 4, 'Spumante': 1, 'advanced': 1, 'handheld': 1, 'calculator': 1, 'belt': 1, 'low': 2, 'pressure': 1, 'equator': 2, 'extinct': 1, 'books': 3, 'Fodor': 1, 'publish': 1, 'high': 2, 'objects': 1, 'rarest': 1, 'coin': 1, 'Judith': 1, 'Rossner': 1, 'Diane': 1, 'Keaton': 1, 'parasites': 1, 'Games': 1, 'Nadia': 1, 'Comaneci': 1, 'numbers': 2, 'relevant': 1, 'statues': 1, 'France': 2, 'countries': 2, 'disposable': 1, 'razor': 1, 'about': 1, 'cents': 1, 'food': 14, 'fat': 1, 'chronic': 2, 'neurological': 2, 'autoimmune': 1, 'protein': 2, 'sheath': 1, 'nerve': 1, 'cells': 1, 'gradual': 1, 'movement': 2, 'Dorsets': 1, 'Lincolns': 1, 'Oxfords': 1, 'Southdowns': 1, 'shortest': 1, 'songs': 4, 'letter': 9, 'right': 3, 'K': 1, 'typewriter': 2, 'keyboard': 1, 'plural': 1, 'gulf': 1, 'literary': 3, 'words': 7, 'horses': 1, 'flight': 3, 'attendant': 1, 'languages': 6, 'Malta': 1, 'group': 4, 'geese': 4, 'Mel': 1, 'Gibson': 1, 'Zorro': 1, 'care': 1, 'us': 4, 'gray': 2, 'away': 2, 'Connecticut': 1, 'historical': 4, 'event': 2, 'Dogtown': 3, 'skin': 2, 'cancer': 4, 'U.S.': 17, 'plants': 2, 'clothes': 2, 'heavily': 2, 'caffeinated': 2, 'mostly': 1, 'Brazil': 2, 'topophobic': 1, 'hunting': 1, 'retrievers': 1, 'Italy': 3, 'producer': 1, 'infectious': 4, 'deadliest': 3, 'orca': 2, 'fungal': 4, 'infection': 4, 'state': 5, 'Dan': 1, 'Aykroyd': 1, 'Belushi': 1, 'Saturday': 1, 'Night': 1, 'Live': 1, 'Italian': 1, 'liner': 2, 'who': 9, 'tips': 1, 'fireplace': 1, 'manatees': 1, '1920s': 1, 'November': 1, 'birthstone': 1, 'Boris': 1, 'Pasternak': 1, 'copies': 1, 'fiction': 3, 'seller': 3, 'species': 5, 'colt': 2, 'age': 1, 'Bronze': 1, 'Age': 1, 'killer': 4, 'whale': 2, 'Sea': 5, 'World': 16, 'breed': 1, 'school': 1, 'buses': 1, 'events': 5, 'January': 3, 'broken': 1, 'glass': 4, 'sharp': 1, 'rocks': 1, 'cement': 1, 'top': 7, 'wall': 1, 'Madonna': 3, 'vessel': 1, 'Atari': 1, 'Force': 1, 'DC': 1, 'comics': 2, 'gland': 1, 'humans': 4, 'itself': 2, 'astronomical': 1, 'phenomenon': 2, 'place': 1, 'Jan.': 1, 'box': 2, 'office': 2, 'April': 3, 'clock': 1, 'diameter': 1, 'wise': 1, 'Europe': 3, 'condiment': 2, 'medicine': 4, 'glowsticks': 1, 'tennis': 5, 'balls': 6, 'sports': 8, 'Meyer': 1, 'Wolfsheim': 1, 'Great': 2, 'Gatsby': 1, 'variations': 1, 'Canfield': 1, 'Klondike': 1, 'Spider': 1, 'mammal': 5, 'North': 6, 'America': 5, 'size': 1, 'dialogue': 1, 'circle': 1, 'cartoons': 2, 'Chris': 3, 'Jogis': 2, 'player': 4, 'water': 5, 'pollution': 1, 'there': 5, 'intake': 1, 'caffeine': 3, 'significant': 2, '1990s': 1, 'extant': 1, 'trilogy': 1, 'classical': 1, 'Greek': 3, 'plays': 1, 'God': 1, 'sentence': 1, 'Bible': 2, 'boob': 1, 'bomb': 2, 'astronauts': 2, 'back': 4, 'prehistoric': 1, 'times': 5, 'holidays': 2, 'Ireland': 1, 'sleep': 2, 'auto': 1, 'race': 5, 'Wilbur': 1, 'Reed': 1, 'breeding': 1, 'birds': 6, 'Confederate': 1, 'veterans': 1, 'social': 1, 'club': 1, 'Pulaski': 1, 'Tennessee': 2, 'Mark': 1, 'Johnson': 2, 'he': 6, 'still': 2, 'it-': 1, 'we': 1, 'Russians': 1, 'car': 7, 'release': 1, 'Smokey': 2, 'Bandit': 1, 'Sherlock': 1, 'Holmes': 1, 'Drinker': 1, 'respirator': 1, 'better': 3, 'Bear': 2, 'middle': 3, 'British': 4, 'Emma': 1, 'Peel': 1, 'tragedy': 2, 'city': 2, 'names': 4, 'Navy': 3, 'aircraft': 1, 'carriers': 1, 'format': 3, 'VHS': 4, 'competition': 2, 'Ouarterly': 1, 'Review': 1, 'Doublespeak': 1, 'inoperative': 1, 'statement': 1, 'cold': 7, 'net': 1, 'women': 3, 'amateur': 2, 'champions': 1, 'Uber': 1, 'Cup': 1, 'legged': 2, 'Cornell': 1, 'study': 2, 'man': 6, 'companion': 2, 'space': 7, 'companies': 1, 'tons': 1, 'tea': 1, 'California': 3, 'Jacques': 1, 'Cousteau': 1, 'research': 2, 'ship': 6, 'role': 2, 't': 3, 'Dickens': 2, 'David': 2, 'message': 1, 'Barkis': 1, 'willin': 1, 'Peggy': 1, 'Big': 2, 'Brother': 1, 'favorite': 7, 'Wolfe': 4, 'Pump': 1, 'House': 2, 'Gang': 2, 'organic': 1, 'fuel': 2, 'bog': 1, 'dwellers': 1, 'slane': 1, 'Corner': 1, 'Drug': 1, 'Store': 1, 'Waco': 1, 'Texas': 2, 'Jimmy': 3, 'Stewart': 1, 'generation': 1, 'hell': 1, 'Jell': 1, 'O': 1, 'Southern': 1, 'dish': 1, 'pigs': 2, 'small': 1, 'intestines': 1, 'drug': 5, 'AIDS': 5, 'Protestant': 1, 'revolt': 2, 'supremacy': 1, 'Pope': 2, 'monster': 2, 'Spielberg': 4, 'Arctic': 1, 'winter': 2, 'flower': 1, 'Vincent': 1, 'Van': 2, 'Gogh': 1, 'paint': 1, 'Winnie': 4, 'Pooh': 4, 'naval': 1, 'battle': 4, 'luxury': 1, 'liners': 1, 'Cap': 1, 'Trafalgar': 1, 'Carmania': 1, 'treatment': 3, 'depression': 1, 'slime': 1, 'Marx': 1, 'Brothers': 2, 'centers': 2, 'painting': 2, 'fatal': 1, 'anybody': 1, 'natural': 2, 'aids': 1, 'Gaelic': 1, 'classic': 1, 'search': 2, 'treasure': 1, 'worth': 1, 'pounds': 1, 'hands': 3, 'fingers': 1, 'touching': 1, 'Sigmund': 1, 'Freud': 1, 'fascinated': 1, 'while': 2, 'neurasthenia': 1, 'Beethoven': 1, '9th': 1, 'symphony': 1, 'breakfast': 2, 'cereal': 5, 'morning': 2, 'explosive': 1, 'charcoal': 1, 'sulfur': 1, 'saltpeter': 1, 'Gas': 1, 'form': 3, 'amendements': 1, 'painful': 1, 'wrist': 1, 'syndrome': 1, 'Garry': 4, 'Kasparov': 4, 'really': 1, 'Ian': 1, 'Fleming': 1, 'Bond': 1, 'clouds': 3, 'air': 3, 'sided': 1, 'figure': 1, 'betting': 1, 'racing': 1, 'hat': 1, 'Bat': 1, 'Masterson': 1, 'deodorant': 1, 'tenants': 1, 'cabinets': 1, 'taste': 3, 'quickest': 1, 'easiest': 2, 'nail': 1, 'polish': 1, 'No': 1, '.': 1, 'famous': 6, 'cartoon': 2, 'cats': 2, 'magazine': 8, 'cream': 2, 'not': 9, 'skim': 1, 'fusion': 2, 'produce': 1, 'meter': 2, 'Shakespeare': 2, 'writing': 1, 'question': 2, 'Czech': 1, 'use': 1, 'Pole': 3, 'seawater': 1, 'science': 2, 'cosmology': 1, 'lightest': 1, 'element': 3, 'twirl': 1, 'ballet': 1, 'daminozide': 2, 'former': 1, 'Zimbabwe': 1, 'Amazing': 1, 'masquerade': 1, 'civil': 1, 'day': 5, 'computer': 8, 'computers': 1, 'Salvador': 1, 'Dali': 1, 'irate': 1, 'owner': 1, 'iron': 2, 'oxide': 1, 'Anna': 1, 'Anderson': 1, 'claim': 1, 'Russian': 7, 'czar': 1, 'daughter': 1, 'coot': 1, 'meat': 2, 'Fray': 1, 'Bentos': 1, 'synonymous': 1, 'Mr.': 2, 'Magoo': 1, 'General': 1, 'Electric': 1, 'alphabet': 6, 'battles': 2, 'Parrot': 2, 'Beak': 2, 'Black': 2, 'Virgin': 2, 'medical': 2, 'condition': 1, 'baby': 2, 'brain': 1, 'Sheila': 1, 'Burnford': 1, 'Incredible': 1, 'Journey': 1, 'Seven': 1, 'Wonders': 2, 'Ancient': 1, 'infant': 1, 'seal': 1, 'Joseph': 2, 'Mankiewicz': 1, 'Name': 2, 'Li': 1, 'l': 1, 'Abner': 1, 'Indian': 3, 'important': 1, 'flag': 6, 'Rwanda': 1, 'CD': 1, 'NNS': 1, 'VBP': 1, 'VB': 1, 'NNP': 1, 'POS': 1, 'lives': 1, 'Katy': 1, 'Holstrum': 1, 'Congressman': 1, 'Glen': 1, 'Morley': 1, 'abundant': 1, 'penalty': 1, 'lies': 1, 'Baltic': 1, 'Avenue': 1, 'Reading': 1, 'Railroad': 1, 'international': 5, 'radio': 2, 'code': 2, 'B': 1, 'Aspartame': 3, 'also': 3, 'mouth': 1, 'death': 3, 'Ermal': 1, 'Fraze': 1, 'gender': 2, 'bigger': 1, 'thighs': 1, 'Bradbury': 1, 'illustrated': 1, 'puzzle': 1, 'New': 10, 'York': 3, 'mystical': 1, 'ravens': 1, 'Odin': 1, 'command': 2, 'Hermann': 1, 'Hesse': 1, 'rock': 1, 'follow': 2, 'up': 1, 'Future': 1, 'Shock': 1, 'African': 2, 'frogs': 1, 'dipsomaniac': 1, 'Nero': 2, 'hours': 1, 'efficient': 1, 'barbeque': 1, 'Aaron': 3, 'Hass': 3, 'mark': 1, '`': 1, 'philatelist': 1, 'signs': 1, 'country': 1, 'recession': 1, 'translation': 1, 'caliente': 2, 'handicraft': 1, 'warp': 1, 'weft': 1, 'molecules': 1, 'fluorine': 1, 'sodium': 1, 'magnesium': 1, 'mayans': 1, 'sequel': 3, 'Moon': 1, 'Balloon': 1, 'basketball': 1, 'maneuver': 2, 'Bert': 1, 'Loomis': 1, 'tarantula': 1, 'secondary': 1, 'trials': 4, 'II': 6, 'March': 3, 'sons': 1, 'daughters': 1, 'cousins': 1, 'chocolate': 2, 'Frank': 2, 'Mars': 1, 'wife': 2, 'Milky': 1, 'Way': 1, 'peanuts': 1, 'camels': 1, 'humps': 1, 'shuttle': 1, 'East': 2, 'Germany': 2, 'team': 2, 'Wisconsin': 1, 'Badgers': 1, 'heat': 1, 'missile': 1, 'Sidewinder': 1, 'Nantucket': 1, 'shipwreck': 1, 'more': 6, 'divers': 1, 'earth': 2, 'stories': 1, 'Edith': 1, 'Wharton': 1, 'constipation': 1, 'symptom': 1, 'Yalta': 1, 'Conference': 2, 'lead': 2, 'Mortgage': 1, 'Lifter': 1, 'oven': 1, 'Peachy': 1, 'Oat': 1, 'Muffins': 1, 'gravity': 1, 'filter': 1, 'cigarette': 2, 'Scooby': 1, 'Doo': 1, 'sex': 2, 'twice': 1, 'as': 2, 'likely': 1, 'leprosy': 1, 'document': 1, 'President': 1, 'Andrew': 1, 'copy': 1, 'head': 1, 'burial': 1, 'wheel': 1, 'Blaise': 1, 'Pascal': 1, 'perpetual': 1, 'motion': 2, 'Mary': 3, 'Tyler': 1, 'Moore': 1, 'regular': 1, 'Tadeus': 1, 'Wladyslaw': 1, 'Konopka': 1, 'overalls': 1, 'Dungri': 1, 'suburb': 1, 'Bombay': 1, 'connection': 1, 'Krypton': 1, 'Daxam': 1, 'performer': 1, 'Ileana': 1, 'Cotrubas': 1, 'candy': 1, 'Super': 2, 'Skrunch': 1, 'Peanut': 1, 'Butter': 1, 'Oompas': 1, 'feud': 1, 'marriage': 1, 'Kentucky': 3, 'stripe': 1, 'side': 4, 'Coho': 1, 'salmon': 1, '16th': 4, 'century': 4, 'Aztec': 1, 'athlete': 1, 'rubber': 1, 'ring': 2, 'chefs': 2, 'Master': 1, 'Spice': 1, 'weapons': 1, 'Medieval': 1, 'warfare': 1, 'descendents': 1, 'fur': 2, 'attire': 1, 'pothooks': 1, 'cowboys': 1, 'West': 7, 'corgi': 1, 'Mexico': 1, 'Poker': 2, 'hand': 3, 'same': 1, 'suit': 4, 'Sam': 1, 'Spade': 1, 'Patti': 1, 'Page': 1, 'strong': 1, 'light': 2, 'Williams': 1, 'characters': 2, 'mob': 1, 'Potsdam': 1, 'non': 4, '-': 5, 'contagious': 1, 'Hitler': 2, 'unsuccessful': 1, 'attempt': 1, 'Bavarian': 1, 'government': 3, 'Munich': 1, 'snatches': 1, 'clean': 1, 'jerks': 1, 'When': 1, 'time': 10, 'clear': 1, 'guitar': 1, 'Jimi': 1, 'Hendrix': 1, 'Michener': 2, 'Travels': 1, 'Reflections': 1, 'stringed': 1, 'bolt': 1, 'true': 1, 'hepcats': 1, 'wear': 1, 'Musician': 1, 'Steven': 2, 'kinds': 2, 'contraceptives': 1, 'coprolite': 1, 'ash': 1, 'wonders': 1, 'adult': 2, 'baseball': 1, 'outcome': 2, 'ailment': 1, 'Roy': 1, 'Rogers': 1, 'innocent': 1, 'Cracker': 1, 'Jack': 4, 'Styron': 1, 'black': 5, 'preacher': 1, 'slave': 1, 'chemical': 7, 'nitrogen': 1, 'Islamic': 5, 'counterpart': 5, 'Red': 5, 'Cross': 5, 'folklore': 1, 'story': 4, 'nests': 1, 'Christmas': 2, 'trees': 3, 'call': 2, 'La': 2, 'Manche': 1, 'easy': 1, 'approximate': 1, 'fish': 5, 'lake': 1, 'Aristotle': 1, 'Onassis': 1, 'yacht': 1, 'dirty': 1, 'tree': 4, 'Lebanon': 1, 'various': 1, 'one': 2, 'IT': 1, 'User': 1, 'Satisfaction': 1, 'Level': 1, 'policeman': 1, 'Canadian': 2, 'edition': 1, 'flowers': 3, 'detective': 1, 'paper': 3, 'late': 2, 'contact': 1, 'lens': 2, 'castellated': 1, 'walls': 1, 'Kremlin': 1, 'week': 2, 'February': 2, 'damage': 1, 'business': 2, 'bureaucracy': 1, 'prayer': 1, 'gambler': 1, 'aspartame': 2, 'absolute': 1, 'mammals': 1, 'sensitive': 2, 'Katharine': 1, 'Hepburn': 1, 'voice': 1, 'art': 1, 'miniature': 1, 'method': 2, 'value': 2, 'pearl': 1, 'mine': 2, 'Havana': 1, 'harbor': 2, 'Jolly': 1, 'Roger': 1, 'Neal': 1, 'martini': 1, 'St.': 1, 'Bernard': 1, 'crack': 1, 'Chief': 1, 'Justice': 1, 'Marshall': 1, 'Irwin': 1, 'Allen': 2, 'Richard': 2, 'Widmark': 1, 'officer': 1, 'history': 3, 'butt': 1, 'mess': 1, 'bugs': 1, 'music': 2, 'new': 7, 'VW': 1, 'Beetle': 2, 'where': 2, 'bowl': 2, 'contest': 2, 'Michigan': 1, 'Stanford': 1, 'Algeria': 1, 'prize': 1, 'Omni': 1, 'ultimate': 1, 'unanswerable': 1, 'jack': 1, 'king': 1, 'foods': 3, 'snakes': 1, 'England': 2, 'Triple': 1, 'Crown': 1, 'Belmont': 1, 'Stakes': 1, 'lengths': 1, 'dot': 1, 'i': 1, 'feeling': 1, 'something': 1, 'before': 1, 'odors': 2, 'formula': 4, 'pi': 1, 'deltiologist': 1, 'leg': 3, 'left': 3, 'front': 1, 'rear': 2, 'human': 4, 'Berlin': 2, 'Film': 1, 'Festival': 1, 'International': 1, 'Lawn': 1, 'Tennis': 1, 'Challenge': 1, 'Trophy': 1, 'usually': 2, 'expedition': 1, 'mountain': 3, 'climbing': 1, 'Fawaz': 4, 'Younis': 4, 'piracy': 1, 'hostage': 1, 'taking': 1, 'fingernails': 1, 'thing': 4, 'life': 3, 'diet': 1, 'Sinatra': 2, 'award': 1, 'advertising': 1, 'ice': 1, 'creams': 1, 'seaweed': 1, 'sexual': 2, 'attraction': 1, 'male': 2, 'Holden': 1, 'Caulfield': 1, 'petroleum': 1, 'Esperanto': 1, 'nouns': 1, 'Miller': 1, 'Lite': 1, 'El': 2, 'Nino': 2, 'spanish': 1, 'match': 1, 'horoscope': 1, 'bullets': 1, 'Gimli': 1, 'white': 3, 'Cuba': 1, 'Walter': 1, 'Huston': 2, 'Treasure': 1, 'Sierra': 1, 'Madre': 1, 'lapwarmers': 1, 'colonists': 3, 'church': 2, 'weakest': 1, 'bone': 2, 'Paul': 1, 'Bunyan': 1, 'ox': 1, 'trophy': 1, 'winners': 1, 'Bowl': 1, 'trademark': 2, 'Washington': 2, 'Redskin': 1, 'fan': 1, 'famed': 2, 'tournament': 2, 'men': 3, 'singles': 1, 'title': 6, 'Fred': 1, 'Perry': 1, 'last': 4, 'Englishman': 2, 'airplanes': 1, 'closest': 1, 'staff': 1, 'smallest': 1, 'microscope': 1, 'how': 1, 'big': 1, 'ear': 2, 'tap': 1, 'Spain': 1, 'Grandma': 1, 'camel': 2, 'brush': 2, 'actually': 1, 'Peter': 3, 'Blatty': 1, 'horrors': 1, 'Regan': 1, 'MacNeil': 1, 'possession': 1, 'devil': 1, 'alcoholic': 1, 'syrup': 1, 'pomegranate': 1, 'juice': 2, 'C.C.': 1, 'Magee': 1, 'sculpture': 2, 'Saint': 1, 'Cathedral': 1, 'Basilica': 1, 'rain': 1, 'Salk': 1, 'vaccine': 2, 'insanity': 1, 'steel': 1, 'bands': 1, 'instruments': 1, 'manned': 1, 'program': 4, 'achievements': 1, 'Nixon': 1, 'peacocks': 1, 'tools': 1, 'crewel': 1, 'organism': 2, 'clay': 1, 'mixture': 1, 'china': 1, 'Stephen': 2, 'Sondheim': 1, 'ballad': 1, 'maybe': 1, 'next': 1, 'year': 2, 'canine': 1, 'Pere': 1, 'Lachaise': 1, 'cemetery': 1, 'Paris': 1, 'Salt': 3, 'Lake': 3, 'City': 3, 'newspaper': 6, 'chip': 1, 'longer': 1, 'sperm': 2, 'elephant': 1, 'mouse': 1, 'Aladdin': 1, 'Tokyo': 1, 'Stock': 1, 'Exchange': 1, 'set': 1, 'remote': 1, 'control': 1, 'aid': 1, 'hurt': 1, 'pelvic': 1, 'region': 1, 'Preservation': 1, 'Favoured': 1, 'Races': 1, 'Struggle': 1, 'Life': 1, 'primate': 1, 'pigment': 1, 'palms': 1, 'moral': 2, 'He': 2, 'everything': 2, 'nothing': 1, 'Tweety': 1, 'Pie': 1, 'appearance': 2, 'conservancy': 1, 'project': 1, 'China': 3, 'hearing': 1, 'Shirley': 2, 'MacLaine': 2, 'prostitute': 1, 'Lemmon': 2, 'pimp': 1, 'drinking': 1, 'Ernest': 3, 'Hemingway': 4, 'Fiesta': 1, 'properties': 1, 'disc': 1, 'Rolling': 1, 'Stones': 1, 'ocean': 1, 'Hong': 1, 'Kong': 1, 'money': 5, 'them': 1, 'boxes': 1, 'Kodak': 1, 'policy': 1, 'nations': 1, 'equal': 1, 'trading': 1, 'rights': 2, 'Visine': 1, 'gin': 1, 'certain': 1, 'village': 1, 'Mancha': 1, 'Aesop': 1, 'fable': 1, 'always': 2, 'swift': 1, 'Slow': 1, 'steady': 1, 'woman': 1, 'Napoleonic': 1, 'Wars': 2, 'letters': 7, 'credit': 1, 'centurion': 1, 'face': 3, 'mission': 1, 'Nike': 1, 'nuclear': 2, 'submarine': 4, 'Norwegian': 1, 'Japanese': 3, 'Japan': 2, 'Norman': 1, 'Maine': 1, 'vegetable': 3, 'vichyssoise': 1, 'gusto': 1, 'artists': 1, 'self': 1, 'portraits': 1, 'monthly': 1, 'publication': 1, 'Bigfoot': 1, 'News': 1, 'punishment': 1, 'comic': 7, 'strip': 3, 'mailman': 1, 'Beasley': 1, 'device': 2, 'kid': 1, 'outside': 1, 'parts': 1, 'ingredient': 1, 'yogurt': 1, 'recipe': 2, 'Eggs': 1, 'Benedict': 1, 'agricultural': 1, 'electronic': 1, 'visual': 1, 'displays': 1, 'electric': 1, 'signals': 1, 'composition': 1, 'Barbie': 1, 'iris': 1, 'just': 2, 'row': 1, 'Chiricahua': 1, 'green': 1, 'variety': 2, 'beryl': 1, 'Captain': 1, 'Bligh': 1, 'heavier': 1, 'games': 3, 'available': 1, 'Nintendo': 1, 'predominant': 1, 'Tab': 1, 'label': 1, 'conjugations': 1, 'wake': 1, 'C.': 1, 'Calhoun': 1, 'Henry': 1, 'Clay': 1, 'exercises': 1, 'kids': 6, 'directly': 1, 'pulp': 1, 'magazines': 1, 'silly': 1, 'rabbits': 1, 'corn': 2, 'least': 2, 'perfect': 1, 'Cribbage': 1, 'full': 2, 'classification': 1, 'lady': 2, 'bug': 2, 'peace': 1, 'agreement': 1, 'spice': 1, 'sister': 1, 'farthest': 1, 'Everybody': 1, 'Rick': 1, 'hocks': 1, 'Alice': 1, 'Adventures': 1, 'Wonderland': 1, 'worms': 1, 'possum': 1, 'cholera': 1, 'example': 2, 'base': 1, 'indicator': 1, 'hump': 1, 'yards': 1, 'own': 2, 'video': 3, 'Marvel': 4, 'oldtime': 1, 'fare': 1, 'Guide': 1, 'writer': 1, 'Jeff': 1, 'Greenfield': 1, 'subversive': 1, 'shows': 1, 'collier': 1, 'ages': 1, 'lingo': 1, 'Cambodia': 1, 'Steinbeck': 4, 'Joad': 1, 'family': 3, 'Oklahoma': 1, 'dustbowl': 1, 'Americans': 2, 'crystals': 2, 'ripening': 1, 'apples': 1, 'livestock': 1, 'greatest': 4, 'breeds': 2, 'Bette': 1, 'Davis': 1, 'scandal': 1, 'daring': 1, 'red': 5, 'gown': 1, 'society': 1, 'August': 2, 'von': 1, 'Wassermann': 1, 'specific': 1, 'test': 1, 'communications': 1, 'satellites': 1, 'yachts': 1, 'garment': 1, 'Bradley': 1, 'Voorhees': 1, 'Day': 1, 'Tampa': 1, 'alternate': 1, 'gods': 1, 'Erica': 1, 'Jong': 1, 'Isadora': 1, 'Wing': 1, 'tournaments': 1, 'Grand': 2, 'Slam': 2, 'Kind': 1, 'Town': 1, 'winds': 1, 'Kafka': 1, 'Metamorphosis': 1, 'hero': 2, 'himself': 1, 'frozen': 1, 'pain': 1, 'abuse': 1, 'Frosted': 1, 'Flakes': 1, 'Spock': 1, 'flab': 1, 'chin': 1, 'rich': 1, 'albums': 1, 'artist': 1, 'band': 1, 'worldwide': 2, 'goldfish': 1, 'dimly': 1, 'running': 1, 'highest': 4, 'straight': 1, 'poker': 1, 'Congress': 1, 'Vienna': 1, 'harmful': 1, 'spray': 1, 'heliologist': 1, 'shampoo': 1, 'eczema': 1, 'seborrhea': 1, 'psoriasis': 1, 'exclusively': 1, 'crocodile': 1, 'Pan': 1, 'bullfighting': 1, 'article': 1, 'royal': 1, 'assent': 1, 'emblem': 1, 'Scopes': 1, 'monkey': 1, 'trial': 1, 'many': 3, 'aquatic': 1, 'scenes': 1, 'Silver': 1, 'Springs': 1, 'Florida': 1, 'Sebastian': 1, 'originally': 4, 'distance': 1, 'chiropodist': 1, 'heart': 1, 'exactly': 1, 'pleasure': 1, 'fun': 1, 'jeans': 1, 'Calvin': 1, 'Klein': 1, 'interview': 1, 'comfortable': 1, 'alternative': 1, 'vats': 1, 'Scotch': 2, 'panel': 1, 'experts': 1, 'hurley': 1, 'close': 1, 'encounters': 1, 'Grace': 1, 'Metalious': 1, 'list': 1, 'years': 2, 'organizational': 1, 'structure': 1, 'Delhi': 1, 'Indira': 1, 'Gandhi': 1, 'airport': 1, 'traditional': 2, 'mistletoe': 1, 'spectacle': 1, 'telecast': 1, 'Baffin': 1, 'Frobisher': 1, 'Franklin': 2, 'interesting': 1, 'credits': 1, 'early': 1, 'stars': 1, 'anesthetic': 1, 'Queen': 2, 'Victoria': 1, 'seventh': 1, 'Periodic': 1, 'Table': 1, 'gas': 1, 'solid': 1, 'never': 2, 'liquid': 1, 'scrum': 1, 'employee': 1, 'morale': 1, 'cost': 1, 'bowler': 1, 'split': 1, 'difference': 1, 'Sutter': 1, 'Mill': 1, 'actress': 3, 'Sandra': 1, 'Bullock': 1, 'Lakehurst': 1, 'Jersey': 1, 'May': 2, 'ill': 1, 'craft': 1, 'Ernst': 1, 'Lehmann': 1, 'lipstick': 1, 'Boy': 1, 'wax': 1, 'lips': 1, 'London': 2, 'Madame': 1, 'Tussaud': 1, 'terror': 1, 'sea': 3, 'Horton': 1, 'witch': 1, 'Tristan': 1, 'rainbow': 1, 'Reb': 1, 'Billy': 1, 'Yank': 1, 'gangland': 1, 'slaughter': 1, 'membership': 1, 'Bugs': 1, 'Moran': 1, 'outfit': 1, 'bears': 1, 'Goldilocks': 1, 'coney': 1, 'ceremony': 1, 'traditions': 1, 'Elizabethian': 1, 'bed': 1, 'edentulous': 1, 'smile': 1, 'lack': 1, 'jealousy': 1, 'Makepeace': 1, 'Thackeray': 1, 'Stanley': 1, 'Kubrick': 1, 'dwarf': 1, 'Thomas': 1, 'Paine': 1, 'Lewis': 1, 'Carroll': 1, 'Humpty': 1, 'Dumpty': 1, 'popularly': 1, 'procedure': 1, 'hole': 1, 'skull': 1, 'higher': 1, 'consciousness': 1, 'Karl': 1, 'Madsen': 1, 'Francisco': 2, 'Wimbledon': 1, 'object': 1, 'period': 1, 'reign': 1, 'Napoleon': 1, 'III': 1, 'haboob': 1, 'gemstone': 1, 'mix': 1, 'emperor': 1, 'present': 1, 'soldier': 1, 'Gordon': 1, 'recognition': 1, 'services': 1, 'rebellions': 1, 'Ivan': 1, 'IV': 1, 'expansion': 1, 'concerts': 1, 'hairy': 1, 'bank': 1, 'notes': 1, 'trade': 2, 'airplane': 2, 'Crimean': 1, 'meeting': 1, 'Roosevelt': 2, 'Churchill': 1, 'Stalin': 1, 'Letterman': 1, 'titles': 1, 'R': 1, 'Rated': 1, 'Sony': 1, 'Playstation': 1, 'playing': 1, 'synonym': 1, 'grocer': 1, 'fingertips': 1, 'buds': 1, 'Snickers': 1, 'Musketeers': 1, 'buffalo': 1, 'wings': 1, 'Gabel': 1, 'Entertainer': 1, 'geographic': 1, 'fringe': 1, 'continent': 1, 'Allsburg': 1, 'boy': 2, 'great': 3, 'sailor': 1, 'components': 1, 'polyester': 1, 'frog': 1, \"'em\": 1, 'laptop': 1, 'economic': 1, 'recovery': 1, 'Depression': 1, 'Hawkins': 1, 'Louis': 2, 'Cartier': 1, 'aviator': 1, 'Santos': 1, 'Dumont': 1, 'Gilbert': 1, 'Sullivan': 2, 'Priestley': 1, 'ability': 2, 'pencil': 1, 'fast': 1, 'secret': 1, 'blend': 1, 'herbs': 1, 'spices': 1, 'Gemini': 1, 'eighth': 1, 'Nones': 1, 'month': 1, 'calendar': 1, 'Family': 2, 'Circus': 1, 'Martin': 1, 'Luther': 1, 'post': 1, 'door': 1, 'Wittenberg': 1, 'pox': 1, 'behavior': 1, 'expression': 1, 'standards': 1, 'morality': 1, 'reptiles': 1, 'Knight': 1, 'Ridder': 1, 'Reims': 1, 'possible': 2, 'bid': 1, 'Contract': 1, 'major': 2, 'religions': 1, 'India': 1, 'poisoning': 1, 'plumbism': 1, 'source': 1, 'Universe': 1, 'stings': 1, 'Fulton': 1, 'steamboat': 1, 'Public': 1, 'pineapple': 2, 'resurrectionist': 1, 'vegetables': 1, 'succotash': 1, 'AD': 1, 'sort': 1, 'celebrations': 1, 'fears': 1, 'dumbest': 1, 'tastes': 1, 'vessels': 2, 'ships': 2, 'afraid': 1, 'someone': 2, 'mankind': 1, 'Milt': 1, 'Harper': 1, 'inches': 1, 'tip': 2, 'Mercury': 1, 'cooking': 1, 'oil': 1, 'goodness': 1, 'usage': 1, 'literature': 1, 'measures': 2, 'Clinton': 1, 'draft': 1, 'needles': 1, 'stingers': 1, 'penguins': 1, 'station': 1, 'Richards': 1, 'football': 2, 'queen': 2, 'Hallie': 1, 'Woods': 1, 'racehorse': 1, 'Associated': 1, 'Press': 1, 'poll': 2, '20th': 1, 'Final': 1, 'Four': 1, 'pizza': 1, 'coconut': 1, 'assassin': 1, 'Seattle': 1, 'Space': 2, 'Needle': 1, 'ears': 1, 'jackass': 1, 'observances': 1, 'soda': 2, 'nuts': 1, 'marzipan': 1, 'polyorchid': 1, 'at': 1, 'truth': 1, 'sum': 1, 'genetic': 1, 'material': 1, 'soundtrack': 1, 'night': 3, 'Larry': 1, 'Bud': 1, 'Melman': 1, 'Toast': 1, 'Stick': 1, 'limestone': 1, 'deposit': 1, 'floor': 1, 'cave': 1, 'silkworm': 1, 'moth': 1, 'domestication': 1, 'sourness': 1, 'natives': 1, 'Afghanistan': 1, 'Stevenson': 1, 'Deacon': 1, 'Brodie': 1, 'cabinetmaker': 1, 'burglar': 1, 'rejection': 1, 'model': 1, 'King': 2, 'Arthur': 1, 'sword': 1, 'Candice': 1, 'Bergen': 1, 'Jacqueline': 1, 'Bisset': 1, 'remake': 1, 'Acquaintance': 1, 'nickname': 1, 'Cleveland': 2, 'Frederick': 1, 'Forsyth': 1, 'toppling': 1, 'mercenaries': 1, 'Baretta': 1, 'cockatoo': 1, 'date': 1, 'sequencing': 1, 'cross': 1, 'Switzerland': 1, 'delicate': 1, 'member': 1, 'onion': 1, 'quotes': 1, 'espionage': 1, 'director': 1, 'Maltese': 1, 'Falconers': 1, 'Humphrey': 1, 'Bogart': 1, 'Astor': 1, 'Sidney': 1, 'Greenstreet': 1, 'Dr.': 1, 'Seuss': 1, 'bread': 1, 'oysters': 1, 'carpenter': 1, 'principles': 1, 'Institute': 1, 'Research': 1, 'Learning': 1, 'IRL': 1, 'Scott': 1, 'Fitzgerald': 1, 'spritz': 1, 'Spritzer': 1, 'houses': 2, 'phobophobe': 1, 'beans': 2, 'ancient': 1, 'Romans': 1, 'sailors': 1, 'gambling': 1, 'Las': 1, 'Vegas': 1, 'Bella': 1, 'Abzug': 1, 'sartorial': 1, 'spider': 1, 'superb': 1, 'pet': 2, 'even': 1, 'master': 1, 'vehicles': 1, 'Tour': 1, 'threat': 1, 'ruin': 2, 'Q': 1, 'repeats': 1, 'Enchanted': 1, 'Evening': 1, 'Horlick': 1, 'softball': 1, 'little': 3, 'pop': 2, 'singer': 1, 'Prince': 2, 'hit': 1, 'A': 1, 'Tale': 1, 'Cities': 1, 'peasant': 1, 'class': 3, 'Hungarian': 1, 'pepper': 1, 'Peugeot': 1, 'company': 2, 'manufacture': 1, 'mayonnaise': 2, 'real': 2, 'Benny': 2, 'Carter': 2, 'utensils': 1, 'handicapped': 1, 'opposite': 1, 'faces': 1, 'die': 1, 'ancients': 1, 'tail': 1, 'Columbus': 1, 'opening': 2, 'move': 2, 'chess': 2, 'ladybugs': 1, 'Taj': 1, 'Majal': 1, 'farrier': 1, 'shoes': 1, 'saliva': 1, 'nearsightedness': 1, 'zodiac': 1, 'Chablis': 1, 'future': 1, 'treat': 2, 'Native': 1, 'circulation': 1, 'legal': 2, 'alcohol': 1, 'limit': 1, 'Simple': 1, 'Simon': 2, 'mother': 1, 'pail': 1, 'Woody': 1, 'gangster': 1, 'comedy': 1, 'others': 1, 'they': 1, 'Civil': 2, 'Playboy': 2, 'dialog': 1, 'contemporary': 1, 'issues': 1, 'readers': 1, 'lawyer': 1, 'snail': 1, 'crops': 1, 'Warner': 1, 'Bros.': 1, 'flightless': 1, 'cuckoo': 1, 'super': 1, 'Jonathan': 2, 'Livingstone': 1, 'Seagull': 1, 'miles': 1, 'long': 1, 'jeroboams': 1, 'underground': 1, '15th': 1, 'Portuguese': 1, 'Asia': 2, 'sinning': 1, 'colorful': 1, 'fall': 1, 'murder': 1, 'far': 1, 'Philippines': 2, 'rockin': 1, 'dinosaur': 1, 'droppings': 1, 'Homerian': 1, 'epic': 1, 'chronicles': 1, 'end': 1, 'Trojan': 1, 'prenatal': 1, 'cherry': 1, 'thirds': 1, 'Sergeant': 1, 'Preston': 1, 'Yukon': 1, 'snarly': 1, 'Shelleen': 1, 'legs': 2, 'occurrence': 1, 'unarmed': 1, 'protestors': 1, 'Inhumans': 1, 'Deep': 1, 'Throat': 1, 'clone': 1, 'larynx': 1, 'luggage': 1, 'flier': 1, 'Man': 2, 'plagues': 1, 'Egypt': 2, 'rounded': 1, 'matchbook': 1, 'slotbacks': 1, 'tailbacks': 1, 'touchbacks': 1, 'potatoes': 1, 'peas': 1, 'dinner': 2, 'Leoncavallo': 1, 'prologue': 1, 'clown': 1, 'results': 1, 'order': 1, 'stripes': 1, 'can': 2, 'Pepsi': 1, 'napsylate': 1, 'J.': 1, 'Corbett': 1, 'Mae': 1, 'Gorbachev': 1, 'jewelry': 1, 'Luxury': 1, 'Tax': 1, 'Albee': 1, 'length': 1, 'poet': 1, 'Milton': 1, 'stomach': 1, 'inside': 1, 'out': 1, 'members': 1, 'layer': 2, 'atmosphere': 1, 'ozone': 1, 'Dwight': 1, 'Eisenhower': 1, 'sound': 1, 'now': 1, 'celtic': 1, 'fruit': 2, 'Yellow': 1, 'Transparent': 1, 'Taylor': 1, 'limelight': 1, 'tequila': 1, 'orange': 1, 'galliano': 1, 'strips': 1, 'pilots': 1, 'writ': 1, 'bourgeoisie': 1, 'extensively': 1, 'worst': 1, 'hurricane': 1, 'silent': 1, 'revival': 1, 'Fort': 1, 'Knox': 1, 'graveyard': 1, 'pets': 1, 'Pink': 1, 'Panther': 1, 'Charley': 1, 'blue': 1, 'litmus': 1, 'adults': 1, 'z': 1, 'machinery': 1, 'tin': 2, 'thirst': 1, 'quencher': 1, 'organ': 2, 'islands': 1, 'Langerhans': 1, 'points': 1, 'radioactive': 1, 'pyramid': 1, 'builders': 1, 'mainly': 1, 'F': 1, 'tenses': 1, 'software': 1, 'inventors': 1, 'CAD': 1, 'like': 1, 'design': 1, 'Bailey': 1, 'Sarge': 1, 'lice': 1, 'quiz': 1, 'tune': 2, 'Vera': 1, 'Lynn': 1, 'We': 1, 'Again': 1, 'sweeter': 1, 'cane': 1, 'sugar': 1, 'recently': 1, 'South': 2, 'Korea': 1, 'voting': 1, 'Kuwait': 2, 'millions': 1, 'heads': 1, 'Elizabeth': 1, 'Albert': 1, 'Ben': 1, 'Casey': 1, 'veronica': 1, 'MiG': 1, 'Alley': 1, 'alloy': 1, 'copper': 1, 'estuary': 1, 'Odyssey': 1, 'rocket': 1, 'Surveyor': 1, 'spacecraft': 1, 'Abolitionists': 1, 'D.H.': 1, 'Lawrence': 1, 'Tenderness': 1, 'darkness': 1, 'snack': 1, 'ridges': 1, 'patients': 1, 'senses': 1, 'Who': 2, 'correct': 2, 'roll': 1, 'toilet': 1, 'Jules': 1, 'Verne': 1, 'scientists': 1, 'captive': 1, 'Nautilus': 1, 'Buffalo': 1, 'Sabres': 1, 'impenetrable': 1, 'fortifications': 1, 'German': 3, 'frontier': 1, 'European': 1, 'winner': 2, 'jersey': 1, 'large': 1, 'polka': 1, 'dots': 1, 'direct': 1, 'creatures': 2, 'Canary': 1, 'Islands': 1, 'singular': 2, 'dice': 1, '12-hour': 1, 'ads': 2, 'dragonflies': 1, 'cologne': 1, 'Testament': 1, 'dogs': 1, 'crossed': 1, 'slits': 1, 'castles': 1, 'motorcycle': 1, 'chef': 1, 'eggs': 1, 'scale': 1, 'earthquakes': 1, 'athletic': 1, 'trainer': 1, 'NFL': 2, 'Sao': 1, 'Paulo': 1, 'anti': 1, 'amount': 1, 'billionth': 1, 'crayon': 1, 'Crayola': 1, 'Hawaiian': 1, 'Virginia': 1, 'translations': 1, 'phrase': 1, 'Thank': 1, 'acne': 1, 'expensive': 1, 'Leon': 1, 'Uris': 1, 'capture': 1, 'robbers': 1, 'Nevil': 1, 'Shute': 1, 'survivors': 1, 'Warlock': 1, 'forehead': 1, 'softest': 1, 'nutrients': 1, 'healthy': 1, 'bones': 1, 'teeth': 1, 'wolverine': 1, 'habits': 1, 'Wembley': 1, 'Stadium': 1, 'Durante': 1, 'delicacy': 1, 'indelicately': 1, 'roe': 1, 'Jung': 1, 'noodle': 1, 'factory': 1, 'Los': 1, 'Angeles': 1, 'biritch': 1, 'Whist': 1, 'collective': 1, 'noun': 1, 'campaign': 1, 'hymn': 2, 'Grapes': 1, 'Wrath': 1, 'invention': 1, 'principle': 1, 'conservation': 1, 'energy': 1, 'impossible': 1, 'mechanical': 1, 'speeds': 1, 'indoor': 1, 'Phoenix': 2, 'Inferno': 1, 'Pride': 1, 'July': 1, 'temperature': 1, 'degrees': 1, 'daily': 1, 'clearer': 1, 'USA': 1, 'rare': 1, 'symptoms': 1, 'such': 1, 'involuntary': 1, 'movements': 1, 'tics': 1, 'incoherent': 1, 'vocalizations': 1, 'grunts': 1, 'shouts': 1, 'river': 1, 'otters': 1, 'Derby': 2, 'races': 1, 'Vasco': 1, 'da': 1, 'Gama': 1, 'ink': 1, 'dollar': 1, 'bill': 1, 'pedometer': 1, 'measure': 1, 'Pulitzer': 1, 'Prize': 1, 'fraudulent': 1, 'temperatures': 1, 'very': 1, 'weather': 1, 'incident': 1, 'Nazis': 1, 'emergency': 1, 'decrees': 1, 'opponents': 1, 'power': 1, 'themselves': 1, 'button': 1, 'cap': 1, 'cup': 1, 'gills': 1, 'Marco': 1, 'Polo': 1, 'court': 1, 'Kubla': 1, 'Khan': 1, 'Lloyd': 1, 'M.': 1, 'Bucher': 1, 'vitamin': 1, 'B12': 1, 'Chicken': 1, 'Pox': 1, 'zoonose': 1, 'diseases': 2, 'gunboat': 1, 'Sand': 1, 'Pebbles': 1, 'Sinemet': 1, 'wind': 1, 'Hunter': 1, 'Tylo': 1, 'Louise': 1, 'Fletcher': 1, 'Oscars': 1, 'picture': 1, 'Now': 1, 'discontent': 1, 'exercise': 1, 'calories': 1, 'germs': 1, 'mold': 1, 'mildew': 1, 'yellow': 1, 'brown': 1, 'bullheads': 1, 'napalm': 1, 'shortage': 1, 'single': 1, 'factor': 1, 'cars': 1, 'roads': 1, 'methods': 1, 'monopolies': 1, 'percent': 1, 'adventures': 1, 'married': 2, 'couple': 1, 'Jennifer': 1, 'Esquire': 1, 'Ash': 1, 'Hole': 1, 'poor': 1, 'Orleans': 1, 'whole': 1, 'Dracula': 1, 'specifically': 1, 'Noah': 1, 'Ark': 1, 'Africa': 1, 'dealer': 1, 'choice': 1, 'H.G.': 1, 'Wells': 1, 'Chronic': 1, 'Argonauts': 1, 'Dutch': 1, 'fries': 1, 'Beany': 1, 'Cecil': 1, 'Australia': 2, 'native': 1, 'flora': 1, 'Poor': 1, 'Cow': 1, 'Morris': 1, 'bishop': 1, 'national': 1, 'home': 1, 'surroundings': 1, 'McLean': 1, 'Buddy': 1, 'Holly': 1, 'magenta': 1, 'Jamiroquai': 1, 'cartoonist': 1, 'childbirth': 1, 'ashen': 1, 'faced': 1, 'eidologist': 1, 'existence': 1, 'ingredients': 1, 'Coca': 2, 'Cola': 2, 'selling': 1, 'cookie': 1, 'toy': 1, 'fair': 1, 'projects': 1, '8th': 1, 'graders': 1, 'pocket': 1, 'billiards': 1, 'ready': 1, 'shape': 3, 'menace': 1, 'Rom': 1, 'Names': 1, 'A.': 1, 'locations': 1, 'modern': 1, 'person': 1, 'pronoun': 1, 'Wake': 1, 'Island': 1, 'Ethel': 1, 'basic': 1, 'strokes': 1, 'diphallic': 1, 'terata': 1, 'free': 1, 'pacer': 1, 'cumin': 1, 'ficus': 1, 'audience': 1, 'primary': 1, 'equivalent': 1, 'Harrison': 1, 'too': 1, 'much': 1, 'So': 1, 'Fine': 1, 'Chiffons': 1, 'millimeter': 1, 'section': 1, 'finger': 1, 'joint': 1, 'Muhammad': 1, 'Ali': 1, 'Foreman': 1, 'victim': 1, 'Craps': 1, 'Caribbean': 1, 'cult': 1, 'Marcus': 1, 'Garvey': 1, 'compound': 1, 'Janis': 1, 'Joplin': 1, 'Lord': 1, 'her': 1, 'rulebook': 1, 'Shakespearean': 1, 'Shylock': 1, 'fine': 1, 'entertainment': 1, 'u': 1, 'Hasidic': 1, 'Jews': 1, 'berry': 1, 'blackberry': 1, 'cranberry': 1, 'raspberry': 1, 'strawberry': 1, 'materials': 1, 'breath': 1, 'toothpaste': 1, 'hijacking': 1, 'sonic': 1, 'boom': 1, 'Drinks': 1, 'forward': 1, 'Bakery': 1, 'Chicago': 1, 'insert': 1, 'bagels': 1, 'lion': 1, 'brew': 1, 'Cleaveland': 1, 'Cavaliers': 1, 'jeep': 1, 'quisling': 1, 'here': 1, 'butcher': 1, 'handful': 1, 'spine': 1, 'currency': 2}, 'LOC': {'sprawling': 1, 'U.S.': 53, 'state': 62, 'most': 34, 'airports': 2, 'What': 301, 'highest': 24, 'waterfall': 1, 'United': 11, 'States': 11, 'states': 7, 'Chesapeake': 1, 'Bay': 2, 'Where': 255, 'adventures': 1, 'Swiss': 1, 'Family': 1, 'Robinson': 1, 'place': 9, 'country': 123, 'Galapagos': 1, 'Islands': 5, 'flags': 2, 'Loop': 1, 'capital': 23, 'Tirana': 1, 'city': 97, 'oldest': 8, 'relationship': 1, 'sisterðcity': 1, 'Los': 2, 'Angeles': 1, 'names': 3, 'tourist': 2, 'attractions': 3, 'Reims': 5, 'body': 4, 'water': 3, 'Danube': 2, 'River': 7, 'flow': 1, 'Nazis': 1, 'CD': 1, 'NNS': 1, 'NNP': 3, 'nickname': 4, 'Mississippi': 4, 'King': 5, 'Wenceslas': 1, 'national': 1, 'passenger': 1, 'rail': 2, 'system': 4, 'Via': 1, 'Fort': 1, 'Knox': 1, 'point': 7, 'Japan': 2, 'Barney': 1, 'Rubble': 1, 'work': 1, 'he': 5, 'Fred': 1, '`': 1, 'Flintstones': 2, 'cartoon': 1, 'series': 1, 'world': 54, 'oceans': 2, 'Internet': 11, 'I': 75, 'song': 4, 'lyrics': 3, 'database': 1, 'similar': 1, 'International': 5, 'Lyrics': 1, 'Server': 1, 'list': 6, 'classic': 1, '5th': 1, '6th': 2, 'graders': 1, 'Orinoco': 1, 'Penn': 1, 'Landing': 1, 'banks': 1, 'Delaware': 1, 'river': 19, 'South': 13, 'American': 17, 'countries': 26, \"n't\": 1, 'Brazil': 1, 'Rose': 1, 'Bowl': 5, 'sun': 2, '14-mile': 1, 'wide': 1, 'valley': 1, 'just': 1, 'north': 3, 'Mojave': 1, 'desert': 6, 'steps': 2, 'name': 25, 'Maurizio': 3, 'Pellegrin': 3, 'pictorial': 1, 'directions': 1, 'how': 1, 'very': 1, 'simple': 1, 'treehouse': 1, 'Africa': 6, 'northernmost': 3, 'Kalahari': 1, 'sometimes': 3, 'Gotham': 1, 'largest': 46, 'areas': 1, 'forest': 3, 'commercial': 2, 'landing': 1, 'field': 2, 'European': 11, 'War': 6, 'Independence': 2, 'British': 3, 'tallest': 6, 'mountain': 16, 'review': 1, 'Nightmare': 1, 'Elm': 1, 'Street': 4, 'film': 1, 'journal': 2, 'George': 5, 'Washington': 4, 'Las': 1, 'Vegas': 2, 'hotel': 2, 'November': 1, 'loss': 1, 'lives': 1, 'Nicois': 1, 'California': 7, 'home': 14, 'beer': 2, 'Budweis': 1, 'Christopher': 1, 'Columbus': 1, 'sea': 7, 'Romans': 3, 'mare': 1, 'nostrum': 1, 'stadium': 1, 'Miami': 2, 'Dolphins': 1, 'games': 2, 'John': 4, 'F.': 2, 'Kennedy': 3, 'element': 1, 'it': 6, 'deepest': 1, 'area': 6, 'Arctic': 1, 'Ocean': 3, 'Fifth': 2, 'Element': 1, 'screensaver': 1, 'Answers.com': 1, 'address': 12, 'movies': 1, 'videotape': 1, 'online': 4, 'ocean': 8, 'Christian': 1, 'Crusaders': 1, 'Muslims': 1, 'chocolate': 1, 'case': 2, 'Individuals': 2, 'Disabilities': 3, 'Education': 2, 'Act': 3, 'mountains': 3, 'Arkansas': 1, 'Missouri': 1, 'rivers': 5, 'closest': 2, 'G2': 1, 'Spectrum': 1, 'Yellow': 1, 'Dwarf': 1, 'Earth': 3, 'Basque': 1, 'Korean': 2, 'Kimpo': 1, 'Airport': 13, 'earth': 2, 'Mount': 4, 'Everest': 3, 'Ligurian': 1, 'Republic': 3, 'people': 7, 'top': 5, 'television': 1, 'watchers': 1, 'Nevada': 2, 'center': 5, 'Biggest': 1, 'Little': 2, 'City': 4, 'World': 8, 'soccer': 2, 'goalie': 1, 'ball': 1, 'what': 7, 'first': 24, 'woman': 2, 'governor': 1, 'peak': 4, 'Procter': 5, 'Gamble': 5, 'Garden': 1, 'Allah': 1, '19th': 1, 'hole': 1, 'golf': 1, 'course': 1, 'person': 1, 'telephone': 2, 'number': 2, 'Sarge': 1, 'Steel': 1, 'metal': 1, 'hand': 1, 'Gustav': 1, 'V': 1, 'reign': 1, 'Six': 1, 'Day': 1, 'brightest': 1, 'star': 4, 'visible': 1, 'hyenas': 1, 'Queen': 2, 'Pacific': 2, 'singles': 1, 'Spice': 1, 'Island': 4, 'McCarren': 6, 'sheep': 1, 'population': 5, 'importer': 2, 'cognac': 1, 'time': 1, 'zones': 1, 'Logan': 4, 'Great': 4, 'Lakes': 5, 'renown': 1, 'pea': 1, 'soup': 1, 'fogs': 1, 'Russian': 5, 'seaport': 3, 'meaning': 2, 'Lord': 2, 'East': 6, 'stocks': 1, 'line': 3, 'climb': 1, 'Nepal': 1, 'Nordic': 1, 'nations': 2, 'information': 20, 'Amendment': 1, 'Bill': 5, 'Rights': 1, 'borders': 1, 'Illinois': 1, 'myth': 1, 'Santa': 3, 'Claus': 1, 'tourists': 2, 'web': 4, 'e': 4, 'mail': 5, 'addresses': 1, 'members': 1, 'House': 2, 'Representatives': 2, 'Abominable': 1, 'Snowman': 1, 'only': 5, 'you': 16, 'Israel': 1, 'gay': 2, 'men': 3, 'best': 8, 'free': 2, 'evidence': 1, 'debate': 1, 'Russia': 1, 'Gates': 2, 'Microsoft': 2, 'E': 1, '-': 2, 'Hermitage': 1, 'Museum': 3, 'Trinidad': 2, 'building': 8, 'New': 11, 'York': 5, 'Narragansett': 1, 'Indians': 3, 'other': 2, 'tribes': 1, 'Rhode': 1, 'arch': 1, 'Place': 1, 'de': 2, 'la': 1, 'Concorde': 1, 'way': 1, 'Bic': 1, 'flame': 1, 'wealthiest': 1, 'Australia': 2, 'export': 1, 'market': 1, 'Kentucky': 7, 'Horse': 7, 'Park': 10, 'pecan': 1, 'peanut': 1, 'tropical': 1, 'rain': 1, 'distributions': 1, 'Lincoln': 2, 'President': 3, 'William': 2, 'McKinley': 2, 'longest': 10, 'subway': 3, 'expensive': 2, 'cities': 11, 'county': 3, 'Chicago': 1, 'Buzz': 1, 'Aldrin': 1, 'permanent': 1, 'manned': 1, 'space': 2, 'station': 2, 'correct': 1, 'tabs': 1, 'Third': 1, 'Eye': 1, 'Blind': 1, 'songs': 1, 'Asian': 7, 'bill': 2, 'rights': 1, 'cows': 1, 'setting': 4, 'Puccini': 1, 'opera': 2, 'La': 1, 'Boheme': 1, 'Mozambique': 6, 'headquarters': 7, 'smallest': 2, 'Windsor': 2, 'Castle': 6, 'Pokemon': 1, 'Martha': 1, 'Stewart': 1, 'Benelux': 1, 'Petrified': 1, 'Forest': 1, 'Tornado': 1, 'Alley': 1, 'blacks': 1, 'website': 7, 'range': 4, 'railroad': 1, 'leading': 1, 'medical': 2, 'groups': 1, 'lung': 1, 'diseases': 1, 'sacred': 1, 'India': 1, 'Stefan': 2, 'Edberg': 2, 'native': 3, 'America': 17, 'Godiva': 1, 'chocolates': 1, 'least': 3, 'rainfall': 1, 'Texas': 2, 'Spanish': 2, 'yellow': 1, 'Nile': 2, 'defensive': 1, 'position': 1, 'board': 1, 'game': 1, 'Diplomacy': 1, 'Khyber': 1, 'Pass': 3, 'Sinn': 2, 'Fein': 2, 'Bush': 1, 'second': 6, 'island': 14, 'temple': 1, 'Laos': 1, 'actress': 1, 'Marion': 1, 'Davies': 1, 'good': 5, 'snowboard': 1, 'less': 1, 'London': 5, 'street': 4, 'journalism': 1, 'famed': 7, 'St.': 5, 'Mark': 3, 'Square': 1, 'Tufts': 1, 'University': 3, 'province': 2, 'Edmonton': 1, 'Nobel': 1, 'Prizes': 1, 'Britain': 3, 'possession': 1, 'Chinese': 1, 'mainland': 1, 'Confederate': 1, 'battle': 1, 'flag': 2, 'Guam': 1, 'Colorado': 3, 'own': 1, 'glacier': 1, 'guinea': 1, 'pigs': 1, 'coastlines': 1, 'Biscay': 1, '000th': 1, 'anniversary': 1, 'You': 1, 'Only': 1, 'Twice': 1, 'co': 1, 'educational': 2, 'college': 4, 'Latin': 3, 'Hawaiian': 1, 'Pearl': 1, 'Harbor': 1, 'wiener': 1, 'schnitzel': 1, 'sand': 1, 'dunes': 1, 'Sierra': 1, 'continent': 8, 'upper': 1, 'left': 1, 'corner': 1, 'Budweiser': 1, 'label': 1, 'statistics': 2, 'companies': 2, 'direct': 1, 'stock': 1, 'purchase': 1, 'plan': 2, 'Terrible': 1, 'Beauty': 1, 'Leon': 1, 'Uris': 1, 'hat': 1, 'kind': 2, 'Jay': 1, 'Kay': 1, 'Jamiroquai': 2, 'Homelite': 3, 'Inc.': 3, 'page': 3, 'mountainous': 1, 'region': 2, 'Lhasa': 1, 'Apso': 1, 'dog': 2, 'Philippines': 1, 'cyclone': 1, 'Jersey': 2, 'Richard': 1, 'Nixon': 1, 'when': 7, 'Gerald': 1, 'Ford': 2, 'president': 3, 'breweries': 1, 'western': 1, 'singer': 2, 'Silver': 2, 'Fox': 1, 'appropriately': 1, 'enough': 1, 'back': 1, 'Rider': 3, 'College': 4, 'restaurant': 2, 'full': 3, 'draft': 1, 'CTBT': 1, 'Court': 1, 'Justice': 1, 'perpetual': 1, 'calendar': 1, 'Minnesota': 1, 'useful': 1, 'site': 5, 'Hearst': 2, 'publisher': 1, 'Randolph': 2, 'Naples': 1, 'Algiers': 1, 'Rubens': 1, 'Van': 1, 'Dyck': 1, 'Bruegel': 1, 'citizens': 1, 'examples': 1, 'legal': 1, 'cases': 1, 'Ocho': 1, 'Rios': 1, 'Mauritania': 1, 'border': 2, 'Kosovo': 3, 'part': 6, 'me': 3, 'near': 3, 'Gross': 1, 'email': 2, 'apart': 1, 'Alaska': 2, 'art': 2, 'gallery': 1, 'monarchs': 1, 'airplane': 1, 'weapon': 1, 'war': 2, 'Turks': 1, 'Libya': 1, 'Burkina': 1, 'Faso': 1, 'Bolivia': 1, 'blondes': 1, 'often': 1, 'Insurance': 1, 'Capital': 2, 'Sir': 1, 'Edmund': 1, 'Hillary': 2, 'Battle': 1, 'Bulge': 1, 'milk': 1, 'honey': 1, 'destination': 1, 'Grapes': 1, 'Wrath': 1, 'Darwin': 1, 'sound': 1, 'Olympia': 1, 'itself': 1, 'Center': 2, 'Furth': 1, 'where': 3, 'Rednitz': 1, 'Pegnitz': 1, 'Dixville': 1, 'Notch': 1, 'Cisalpine': 1, 'shopping': 1, 'mall': 1, 'location': 4, 'Orange': 4, 'seas': 3, 'Big': 2, 'Bear': 1, 'Rockettes': 1, 'English': 2, 'Civil': 1, 'USA': 1, 'coastline': 2, 'Buffalo': 1, 'Historical': 1, 'natural': 2, 'lake': 6, 'Pennsylvania': 2, 'Fe': 1, 'Trail': 1, 'Canada': 4, 'populated': 3, 'Isle': 1, 'Man': 3, 'we': 1, 'imaginary': 1, 'Rocky': 2, 'Mountains': 1, 'Lagos': 1, 'Ray': 1, 'Bradbury': 1, 'Chronicles': 1, 'cystic': 1, 'fibrosis': 1, 'Honecker': 3, 'African': 3, 'Ouagadougou': 1, 'French': 1, 'Home': 1, 'Wines': 1, 'armed': 1, 'forces': 1, 'Dracula': 1, 'Night': 1, 'Stalker': 1, 'hospital': 1, 'orthopedics': 1, 'Sheboygan': 1, 'North': 8, 'eels': 1, 'town': 5, 'Vermont': 1, 'shoreline': 1, 'G': 1, 'libraries': 1, 'US': 7, 'dams': 1, 'Metropolis': 1, 'landmark': 3, 'Superman': 3, 'cartoons': 1, 'one': 4, 'Declaration': 1, 'nationality': 8, 'Jackson': 4, 'Pollock': 4, 'worth': 1, 'Lucia': 1, 'OZ': 1, 'populous': 1, 'square': 5, 'miles': 8, 'there': 3, 'gallon': 1, 'oil': 3, 'spill': 1, 'ancient': 1, 'Hibernia': 2, 'growth': 1, 'recently': 1, 'Tokyo': 1, 'department': 3, 'stores': 1, 'nightclubs': 1, 'Wu': 1, 'dialect': 1, 'exclusive': 1, 'Copacabana': 1, 'Beach': 1, 'Ipanema': 1, 'German': 1, 'Italians': 1, 'Monaco': 2, 'Bavaria': 1, 'group': 3, 'Guernsey': 1, 'Sark': 1, 'Herm': 1, 'helium': 1, 'hence': 1, 'Edgar': 3, 'Allan': 1, 'Poe': 4, 'Pit': 1, 'Pendulum': 1, 'cathedral': 2, 'letter': 3, 'A': 2, 'suspension': 1, 'bridge': 5, 'biggest': 6, 'bowling': 1, 'alley': 1, 'more': 4, 'constellation': 3, 'twins': 1, 'Castor': 1, 'Pollux': 1, 'criminal': 1, 'court': 2, 'once': 3, 'feudal': 1, 'castle': 1, 'title': 2, 'large': 3, 'words': 1, 'Mother': 1, 'Angelica': 1, 'Mayo': 1, 'Clinic': 1, 'Caribbean': 4, 'England': 4, 'Amsterdam': 1, 'Married': 1, 'Today': 1, 'musical': 1, 'Company': 1, 'Australian': 1, 'Cup': 2, 'Grand': 1, 'Coulee': 1, 'Dam': 1, 'dam': 2, 'reliable': 1, 'Heretic': 1, 'cable': 1, 'cars': 2, 'Clay': 1, 'Lucas': 1, 'Kenyan': 1, 'safari': 1, 'active': 2, 'volcanoes': 1, 'Indian': 2, 'order': 1, 'size': 4, 'laundry': 1, 'detergent': 1, 'Athens': 1, 'Switzerland': 1, 'bocci': 1, 'Bob': 1, 'Barr': 1, 'representative': 1, 'Georgia': 2, 'Dickens': 1, 'Tale': 2, 'Cities': 2, 'math': 1, 'students': 2, 'Freidreich': 1, 'Wilhelm': 1, 'Ludwig': 1, 'Leichhardt': 1, 'Prussian': 1, 'explorer': 1, 'school': 1, 'landlocked': 1, 'Hitler': 3, 'Herbert': 1, 'Hoover': 1, 'lobster': 1, 'islands': 2, 'baja': 1, 'mar': 1, 'shallow': 1, 'economic': 1, 'Iowa': 1, 'Federal': 1, 'Government': 1, 'Standard': 1, 'Industrial': 1, 'Classification': 1, 'codes': 1, 'SIC': 1, 'Henry': 1, 'Drew': 1, 'Barrymore': 1, 'who': 1, 'Black': 1, 'Hole': 1, 'Calcutta': 1, 'planet': 7, 'Ewoks': 3, 'Cayman': 1, 'Amelia': 1, 'Earhart': 1, 'over': 1, 'she': 1, 'Germany': 2, 'Poland': 1, 'September': 1, 'east': 1, 'High': 2, 'Desert': 1, 'Blackhawks': 1, 'operations': 1, 'slaves': 1, 'nearest': 1, 'Inoco': 1, 'Bebrenia': 1, 'Arcadia': 1, 'Amazonis': 1, 'Natick': 1, 'Valley': 1, 'Kings': 2, 'sport': 2, 'caber': 1, 'originate': 1, 'Union': 1, 'Stockyards': 1, 'weird': 1, 'shape': 1, 'dinner': 1, 'fish': 1, 'knife': 1, 'energy': 1, 'Mexico': 2, 'Antilles': 1, 'comparisons': 1, 'prices': 1, 'Luther': 2, 'Ninety': 1, 'Theses': 1, 'Pocahontas': 1, 'along': 1, 'Dartmouth': 1, 'Vienna': 1, 'Budapest': 1, 'Belgrade': 1, 'acidic': 1, 'coffee': 1, 'Twain': 1, 'National': 5, 'Forests': 1, 'ethnological': 1, 'museum': 5, 'dinosaur': 1, 'park': 2, 'Battery': 1, 'southern': 4, 'tip': 2, 'northeast': 1, 'book': 3, 'reviews': 1, 'Turbulent': 1, 'Souls': 1, 'fastest': 1, 'U.S.A.': 1, 'Ileana': 3, 'Cotrubas': 3, 'Samuel': 1, 'Gompers': 1, 'Lake': 1, 'Sam': 1, 'Rayburn': 1, 'Niagara': 1, 'Falls': 1, 'Scandinavian': 2, 'Smithsonian': 1, 'Institute': 1, 'Western': 2, 'Hemisphere': 1, 'boycott': 1, 'Summer': 3, 'Olympics': 4, 'birthplace': 3, 'detailed': 1, 'Manchukuo': 1, 'GUM': 1, 'store': 3, 'Green': 1, 'Mountain': 3, 'Water': 1, 'Bearer': 1, 'history': 2, 'Taiwanese': 1, 'language': 2, 'Canyon': 1, 'cricket': 1, 'fighting': 1, 'mouth': 1, 'Amazon': 1, 'Inuits': 1, 'former': 3, 'royal': 2, 'palace': 1, 'granary': 1, 'prison': 2, 'arsenal': 1, 'leper': 1, 'colony': 1, 'mint': 1, 'telegraph': 1, 'whorehouse': 1, 'Wright': 1, 'brothers': 2, 'flight': 1, 'snowiest': 1, 'civil': 1, 'battlefield': 1, 'strip': 1, 'land': 1, '15-minute': 1, 'boat': 1, 'trip': 1, 'Venetian': 1, 'Lagoon': 1, 'Venice': 1, 'roses': 1, 'Bible': 1, 'Jesus': 1, 'Christ': 1, 'sisters': 1, 'southernmost': 1, 'continental': 2, 'Europe': 3, 'Brian': 1, 'Boru': 1, '11th': 1, 'century': 1, 'king': 1, 'annual': 1, 'meeting': 1, 'Indonesia': 1, 'Malaysia': 1, 'experts': 1, 'last': 3, 'alphabetically': 1, 'Pro': 1, 'wrestler': 1, 'Johnny': 1, 'Rubber': 2, 'Walker': 1, 'geographical': 2, 'Hawaii': 1, 'port': 1, 'Haifa': 1, 'main': 1, 'government': 1, 'office': 3, 'Rome': 3, 'Italy': 2, 'Romania': 1, 'Mormons': 1, 'Brenner': 1, 'Francis': 2, 'Assisi': 1, 'photograph': 1, 'professor': 1, 'Quirk': 1, 'principal': 1, 'Ireland': 1, 'source': 1, 'White': 1, 'fifth': 2, 'Lund': 1, 'Seattle': 1, 'Florida': 2, 'Sea': 3, 'tennis': 1, 'Executive': 1, 'Committee': 1, 'Firehole': 1, 'Fairy': 1, 'West': 3, 'Indies': 1, 'code': 1, 'Eckley': 1, 'Winter': 1, 'Asia': 1, 'Saudi': 1, 'Arabia': 1, 'Iraq': 1, 'Persian': 2, 'Gulf': 3, 'Eli': 1, 'Lilly': 1, 'info': 2, 'research': 2, 'oilseeds': 1, 'genetics': 1, 'Mayan': 1, 'Dylan': 1, 'Thomas': 4, 'Hampshire': 1, 'hamlet': 1, 'early': 1, 'presidential': 1, 'elections': 1, 'Grimace': 1, 'Mayor': 1, 'McCheese': 1, 'championship': 1, 'sled': 1, 'race': 2, 'February': 1, 'callosum': 2, 'When': 1, 'away': 1, 'cotton': 1, 'textiles': 1, 'details': 1, 'canal': 1, 'Thatcher': 1, 'Ferry': 1, 'Bridge': 1, 'span': 1, 'lesson': 1, 'metric': 1, 'conversion': 1, 'standard': 1, 'Jungle': 1, 'live': 2, 'foreclosure': 1, 'properties': 1, 'residence': 1, 'Scottish': 1, 'kings': 1, 'Edinburgh': 2, 'percent': 1, 'tea': 1, 'exports': 1, 'origin': 3, 'band': 1, 'Creeps': 1, 'bell': 1, 'Albert': 1, 'Einstein': 2, 'presidency': 1, 'bay': 3, 'next': 1, 'Bagdad': 1, 'religion': 1, 'health': 1, 'brain': 1, 'nutrition': 1, 'hour': 1, 'Yellowstone': 1, 'hunter': 1, 'club': 1, 'shield': 1, 'ridge': 1, 'eastward': 1, 'westward': 1, 'gate': 1, 'Berlin': 2, 'farthest': 1, 'Indianapolis': 1, 'Melbourne': 1, 'Mikhail': 1, 'Gorbachev': 2, 'leader': 2, 'Massachusetts': 1, 'visitors': 1, 'Liverpool': 2, 'Kim': 1, 'Philby': 1, 'really': 1, 'chancellor': 1, 'Cleopatra': 1, 'Needle': 1, 'Ask': 1, 'Expert': 1, 'lowest': 2, 'elevation': 1, 'feet': 2, 'Mile': 1, 'Stadium': 1, 'district': 2, 'Hell': 1, 'Kitchen': 1, 'entirely': 1, 'territory': 2, 'sagebrush': 1, 'flower': 1, 'Pope': 1, 'Paul': 1, 'II': 3, 'great': 1, 'resources': 1, 'parents': 1, 'teachers': 1, 'crown': 1, 'Bulls': 1, 'basketball': 1, 'team': 1, 'Erich': 1, 'Japanese': 4, 'letters': 1, 'K': 1, 'T': 1, 'Y': 1, 'Wile': 1, 'E.': 1, 'Coyote': 1, 'always': 1, 'devices': 1, 'individual': 1, 'contact': 1, 'lens': 1, 'entire': 1, 'surface': 2, 'eye': 1, 'new': 1, 'Mont': 2, 'Blanc': 2, 'Tunnel': 1, 'eastern': 1, 'nuclear': 2, 'power': 1, 'plant': 1, 'block': 1, 'Hundred': 1, 'Years': 1, 'year': 1, 'Victor': 2, 'Hugo': 2, 'exile': 1, 'Helen': 1, 'Keller': 1, 'house': 1, 'Bourbon': 1, 'Parma': 1, 'Dolomites': 1, 'Mediterranean': 3, 'Club': 1, 'Med': 1, 'Venus': 1, 'flytrap': 1, 'shelves': 1, 'skyline': 1, 'Gateway': 1, 'Arch': 2, 'Belize': 1, 'Charles': 1, 'Robb': 1, 'Stone': 1, 'mass': 1, 'granite': 1, 'southeast': 1, 'Wang': 1, 'Ping': 1, 'Tak': 1, 'Italian': 2, 'Leonardo': 1, 'da': 1, 'Vinci': 1, 'Michaelangelo': 1, 'Machiavelli': 1, 'Chile': 1, 'avenue': 1, 'original': 2, 'Saks': 1, 'Anything': 1, 'zoo': 1, 'green': 1, 'Chiang': 1, 'Kai': 1, 'shek': 1, 'others': 1, 'Kansas': 1, 'Oklahoma': 1, 'tuberculosis': 1, 'R&B': 1, 'Bering': 1, 'Strait': 1, 'chemicals': 1, 'importers': 1, 'Ossining': 1, 'off': 1, 'limits': 1, 'Russians': 1, 'Natchitoches': 1, 'Louisiana': 1, 'Taiwan': 1, 'Tempelhol': 1, 'suicides': 1, 'regardless': 1, 'celestial': 1, 'diameter': 1, 'Denmark': 1, 'south': 2, 'answers': 1, 'questions': 1, 'KDGE': 1, 'Radio': 1, 'Bobby': 1, 'Chamber': 1, 'Horrors': 1, 'level': 2, 'Americans': 1, 'Keck': 1, 'telescope': 1, 'apartments': 1, 'Saint': 1, 'Brunswick': 1, 'Mau': 2, 'Uprising': 1, 'sites': 4, 'Finger': 1, 'safest': 1, 'pedestrians': 1, 'picture': 1, 'Blue': 1, 'Meanie': 1, 'Continental': 1, 'Divide': 1, 'Wilkes': 1, 'plantation': 1, 'Wind': 1, 'Statistical': 1, 'Abstract': 1, 'Austerlitz': 1, 'Ty': 1, 'Cobb': 1, 'general': 1, 'direction': 3, 'journey': 1, 'Days': 1, 'in': 2, 'nation': 3, 'Edessa': 1, 'nowadays': 1, 'magnetic': 1, 'levitation': 1, 'railway': 1, 'man': 2, 'waterways': 1, 'long': 1, 'Strasbourg': 1, 'degrees': 2, 'latitude': 1, 'longitude': 1, 'busiest': 2, 'ports': 1, 'date': 1, 'coastal': 1, 'temperature': 1, 'preferably': 1, 'Dicken': 1, 'France': 1, 'Spain': 1, 'chop': 1, 'suey': 1, 'dew': 1, '48th': 1, 'mythology': 1, 'websites': 1, 'Guadalcanal': 1, 'european': 1, 'not': 2, 'ruble': 1, 'arson': 1, 'rate': 2, 'Orly': 1, 'Woodstock': 1, 'auto': 1, 'thefts': 1, 'Ismail': 1, 'Palace': 2, 'Farouk': 1, 'ride': 1, 'steam': 1, 'locomotive': 1, 'Virtual': 1, 'Desk': 1, 'Reference': 1, 'Kwai': 1, 'mailing': 1, 'lists': 1, 'Billingsgate': 1, 'fishmarket': 1, 'directly': 1, 'Detroit': 1, 'surfing': 2, 'Maya': 1, 'Haversian': 1, 'canals': 1, 'status': 1, 'tax': 2, 'return': 1, 'mile': 1, 'road': 1, 'Petersburg': 1, 'Petrograd': 1, 'fractal': 1, 'Blockade': 1, 'habitat': 2, 'scorpion': 1, 'Webster': 1, 'piano': 2, 'music': 2, 'Everyday': 1, 'midi': 1, 'Pesth': 1, 'Buda': 1, 'Music': 1, 'scientific': 1, 'data': 1, 'papers': 1, 'textile': 1, 'engineering': 1, 'Abraham': 1, 'tape': 1, 'Allen': 1, 'room': 1, 'W.C.': 1, 'Fields': 1, 'library': 2, 'schematics': 1, 'windshield': 1, 'wiper': 1, 'mechanism': 1, 'Global': 1, 'Schoolhouse': 1, 'volcano': 2, 'showers': 1, 'ash': 1, 'Sicily': 1, 'Uruguay': 1, 'deserts': 1, 'Qatar': 1, 'richest': 2, 'Don': 2, 'Brown': 2, 'May': 2, 'martial': 1, 'law': 1, 'Edison': 1, 'Lawrence': 1, 'Alabama': 1, 'Connecticut': 1, 'scores': 1, 'popular': 1, 'diamond': 1, 'producer': 2, 'Filenes': 1, 'official': 1, 'seafaring': 1, 'Corsica': 1, 'atlas': 1, 'charge': 1, 'Titanic': 1, 'southwestern': 1, 'State': 3, 'Allies': 1, 'Operation': 2, 'Avalanche': 1, 'Hernando': 1, 'Soto': 1, 'quality': 1, 'drinks': 1, 'San': 4, 'Marino': 1, 'beaches': 1, 'Angel': 1, 'thing': 1, 'Maryland': 1, 'Eastern': 1, 'Shores': 1, 'Alexander': 1, 'Mackenzie': 1, 'Scarlett': 1, 'O': 1, 'Hara': 1, 'pushy': 1, 'real': 1, 'Nicholas': 1, 'Dikembe': 1, 'Mutombo': 1, 'Yukon': 1, 'empty': 2, 'McGwire': 1, 'massive': 1, 'complex': 1, 'corporate': 2, 'gulf': 2, 'destroyers': 1, 'Maddox': 1, 'C': 1, 'Turner': 1, 'Joy': 1, 'they': 1, 'statues': 1, 'Mauis': 1, 'Pythagoras': 1, 'greatest': 1, 'hiking': 1, 'Web': 2, 'Madeira': 1, 'Iberian': 1, 'peninsula': 1, 'Sinclair': 1, 'Lewis': 1, 'Main': 1, 'typical': 1, 'map': 1, 'Prussia': 1, 'Report': 1, 'Genesis': 1, 'Eldercare': 1, 'Highlands': 1, 'Central': 1, 'Lowlands': 1, 'Southern': 2, 'Uplands': 1, 'proud': 1, 'Volcano': 1, 'baseball': 1, 'pitchers': 1, 'diamonds': 1, 'newspaper': 1, 'Plain': 1, 'Dealer': 1, 'Leif': 1, 'Ericson': 1, 'ukulele': 1, 'Sweden': 1, 'Finland': 1, 'Andorra': 1, 'Tesla': 1, 'common': 1, 'buildings': 1, 'problems': 1, 'hooligans': 1, 'Percival': 1, 'Lovell': 1, 'westernmost': 1, 'character': 1, 'famous': 3, 'Rice': 1, 'Burroughs': 1, 'chickadee': 1, 'kickoff': 1, 'climbs': 1, 'post': 1, 'murder': 1, 'General': 1, 'Douglas': 1, 'McArthur': 1, 'Truman': 1, 'Gran': 1, 'Bernardo': 1, 'Taj': 1, 'Mahal': 1, 'papal': 1, 'Monument': 1, 'Circle': 1, 'soldiers': 1, 'sailors': 1, 'monument': 1, 'wall': 1, 'Badaling': 1, 'turret': 1, 'science': 1, 'Amtrak': 1, 'stations': 1, 'concentration': 1, 'camp': 1, 'bodies': 1, 'spacecraft': 1, 'Martin': 1, 'Jr.': 1, 'Bernini': 1, 'Bristol': 1, 'Hotel': 1, 'tungsten': 1, 'postage': 1, 'stamps': 1, 'them': 1, 'face': 1, 'value': 1, 'Sicilian': 1, 'Edo': 1, 'corpus': 1, 'Americas': 2, 'Scotland': 2, 'target': 1, 'Urgent': 1, 'Fury': 1, 'powerful': 1, 'lobsters': 1, 'usually': 1, 'extremes': 1, 'Channel': 1, 'child': 1, 'custody': 1, 'files': 1, 'Utah': 1, 'Flu': 1, 'test': 1, 'monsters': 1, 'complete': 1, 'listing': 1, 'showtimes': 1, 'Montenegro': 1, 'Glasgow': 1, 'Polish': 1, 'merchant': 1, 'ship': 1, 'Lane': 1, 'Victory': 1, 'Merchant': 1, 'Marine': 1, 'veterans': 1, 'Duvalier': 1, 'Congo': 1, 'tourism': 1, 'China': 1, 'foreign': 1, 'financial': 1, 'likely': 1, 'climate': 1, 'civilization': 1, 'member': 1, 'Temple': 1, 'Karnak': 1, 'Queensland': 1, 'Competition': 1, 'Policy': 1, 'colonies': 1, 'parking': 1, 'meters': 1, 'freeway': 1, 'construction': 1, 'project': 1, 'right': 1, 'now': 2, 'Gulliver': 2, 'tiny': 1, 'Imperial': 1, 'Forces': 1, 'WWII': 1, 'pigeons': 1, 'Piazza': 1, 'Marco': 1, 'novel': 1, 'El': 1, 'Cid': 1, 'Burma': 1, 'Daniel': 1, 'income': 1, 'steepest': 1, 'streets': 1, 'giants': 1, 'times': 1, 'Travels': 1, 'marijuana': 1, 'Cawdor': 1, 'Glamis': 1, 'Blair': 1, 'Mona': 1, 'Lisa': 1, 'Hungarian': 1, 'alphabetical': 2, 'Juan': 1, 'claims': 1, 'tailoring': 1, 'due': 1, 'Costa': 1, 'Rica': 1, 'boarders': 1, 'worlds': 1, 'supplier': 1, 'cannabis': 1, 'Clinton': 1, 'graduate': 1, 'capita': 1, 'consumption': 1, 'cheese': 1, 'Bombay': 1, 'Atlantic': 2, 'ratio': 1, 'university': 1, 'aborigines': 1, 'Adventours': 1, 'Tours': 1, 'Sydney': 1, 'Becket': 1, 'close': 1, 'tree': 1, 'strait': 1, 'airport': 2, 'Piccadilly': 1, 'makeup': 1, 'Mammoth': 1, 'Cave': 1, 'tongue': 1, 'friendly': 1, 'greeting': 1, 'Erykah': 1, 'Badu': 1, 'originally': 1, 'pony': 1, 'daughter': 1, 'Mexican': 1, 'Thalia': 1, 'bith': 1, 'important': 1, 'historically': 1, 'M': 1, 'People': 1, 'rugs': 1, 'Titus': 1, 'Coral': 1, 'Tasman': 1, 'Ayer': 1, 'rock': 1, 'theatrical': 1, 'Roaring': 1, 'Forties': 1, 'Hispaniola': 1, 'Peruvian': 1, 'mummified': 1, 'Francisco': 1, 'Pizarro': 1, 'Maldive': 1, 'colorful': 1, 'Greek': 1, 'legend': 1, 'Amazons': 1, 'offices': 1, 'Hawkeye': 1, 'Seine': 1, 'Anita': 1, 'Bryant': 1, 'Miss': 1, 'contest': 1, 'Bend': 1, 'D.C.': 1, 'botanical': 1, 'marvel': 1, 'Nebuchadnezzar': 1, 'monarchy': 1, 'Heineken': 1, 'journalist': 1}, 'ABBR': {'What': 81, 'full': 2, 'form': 2, 'abbreviation': 16, 'AIDS': 1, 'INRI': 1, 'when': 2, 'Jesus': 1, 'cross': 1, 'S.O.S.': 1, 'CNN': 3, 'what': 5, 'PSI': 1, 'stand': 6, 'micro': 1, 'NASDAQ': 1, 'BPH': 1, 'company': 1, 'name': 3, 'General': 2, 'Motors': 2, 'G.M.T.': 1, 'SIDS': 1, 'When': 1, 'ads': 1, 'EENTY': 1, 'other': 1, 'expression': 1, 'National': 5, 'Bureau': 5, 'Investigation': 5, 'NAFTA': 1, 'PLO': 1, 'word': 1, 'LASER': 1, 'NN': 1, 'prefix': 1, 'Irish': 1, 'surnames': 1, 'Ms.': 1, 'Miss': 1, 'Mrs.': 1, 'letters': 3, 'ZIP': 2, 'phrase': 1, 'code': 1, 'D.C.': 2, 'Washington': 1, 'e.g.': 1, 'IBM': 1, 'U.S.S.R.': 1, 'NECROSIS': 1, 'trinitrotoluene': 1, 'IOC': 3, 'c': 1, 'equation': 2, 'E': 3, '=': 2, 'mc2': 2, 'USB': 1, 'port': 1, 'computer': 3, 'acronym': 4, 'term': 1, 'RCD': 1, 'SHIELD': 1, 'limited': 1, 'partnership': 1, 'HTML': 1, 'A&W': 1, 'root': 1, 'beer': 1, 'fame': 1, 'AFS': 1, 'DEET': 1, 'DTMF': 1, 'JESSICA': 1, 'MSG': 1, 'VCR': 1, 'channel': 1, 'ESPN': 1, 'NASA': 1, 'number': 1, 'FUBU': 1, 'clothing': 1, 'BTU': 1, 'SCSI': 1, 'OAS': 1, 'HIV': 1, 'HDLC': 1, 'Original': 1, 'Equipment': 1, 'Manufacturer': 1, 'snafu': 1, 'T.S.': 2, 'Eliot': 1, 'IQ': 1, 'RAM': 1, 'SVHS': 1, 'SAP': 1, 'CE': 1, 'so': 1, 'many': 1, 'products': 1, 'particularly': 1, 'electrical': 1, 'now': 1, 'correct': 1, 'way': 1, 'cc': 1, 'bottom': 1, 'business': 1, 'letter': 1, 'BMW': 1, 'LMDS': 1, 'CPR': 3, 'RCA': 1, 'International': 1, 'Olympic': 1, 'Committee': 1, 'Mikhail': 1, 'Gorbachev': 1, 'middle': 1, 'initial': 1, 'blue': 1, 'ribbon': 1, 'R.E.M.': 2, 'rock': 1, 'group': 1, 'pH': 1, 'BUD': 1, 'EKG': 1, 'p.m.': 2, 'rating': 1, 'system': 1, 'air': 1, 'conditioner': 1, 'efficiency': 1, 'DSL': 1}, 'NUM': {'When': 124, 'Ozzy': 1, 'Osbourne': 1, 'How': 479, 'many': 323, 'Jews': 1, 'concentration': 1, 'camps': 1, 'WWII': 1, 'What': 174, 'date': 16, 'Boxing': 4, 'Day': 7, 'points': 4, 'perfect': 3, 'fivepin': 1, 'bowling': 3, 'score': 5, 'Community': 1, 'Chest': 1, 'cards': 3, 'there': 79, 'Monopoly': 3, 'neanderthal': 1, 'man': 4, 'people': 41, 'world': 16, 'French': 2, 'inches': 5, 'feet': 9, 'Venus': 1, 'de': 1, 'Milo': 1, 'species': 4, 'Great': 4, 'White': 2, 'shark': 1, 'villi': 1, 'small': 3, 'intestine': 1, 'year': 65, 'New': 7, 'Zealand': 1, 'ANZUS': 1, 'alliance': 1, 'CNN': 6, 'Rococo': 1, 'painting': 2, 'architecture': 2, 'much': 57, 'money': 10, 'back': 1, 'injury': 1, 'lawsuit': 1, 'get': 3, 'long': 55, 'it': 39, 'blood': 4, 'complete': 2, 'trip': 3, 'body': 6, 'Bounty': 2, 'mutiny': 2, 'place': 3, '2-foot': 1, 'square': 2, 'party': 1, 'tent': 1, 'sides': 4, 'years': 17, 'fossils': 1, 'hostages': 1, 'Entebbe': 1, 'raid': 1, 'bends': 1, 'standard': 2, 'paper': 2, 'clip': 1, 'busiest': 1, 'air': 8, 'travel': 4, 'season': 4, 'Thatcher': 5, 'prime': 2, 'minister': 2, 'months': 5, 'moon': 7, 'Earth': 10, 'De': 2, 'Gaulle': 1, 'president': 2, 'France': 4, 'colonies': 2, 'American': 21, 'Revolution': 2, 'winter': 3, 'southern': 1, 'hemisphere': 1, 'first': 35, 'Wall': 7, 'Street': 1, 'Journal': 1, 'royal': 1, 'wedding': 1, 'Prince': 3, 'Andrew': 1, 'Fergie': 1, 'sharks': 1, 'acreage': 1, 'Chappellet': 2, 'vineyard': 2, 'beethoven': 1, 'new': 3, 'railroad': 2, 'coal': 1, 'car': 3, 'cost': 10, 'revolutions': 1, 'LP': 1, 'minutes': 2, 'South': 7, 'countries': 7, 'letter': 2, 'Z': 1, 'names': 2, 'ground': 2, 'bombing': 1, 'Pan': 1, 'Am': 1, 'Flight': 1, 'Lockerbie': 1, 'Scotland': 1, 'December': 1, 'CD': 2, 'steel': 1, 'mill': 1, 'United': 9, 'States': 7, 'Berlin': 6, 'Mount': 5, 'St.': 4, 'Helen': 2, 'last': 12, 'significant': 1, 'eruption': 4, 'World': 7, 'War': 9, 'I': 6, 'fathom': 4, 'battle': 1, 'Somme': 1, 'Randy': 6, 'Craft': 6, 'Spielberg': 2, 'Jaws': 3, 'size': 5, 'largest': 4, 'akita': 1, 'Einstein': 2, 'IQ': 2, 'day': 22, 'Pearl': 1, 'Harbor': 1, 'ago': 4, 'ship': 2, 'Titanic': 1, 'latitude': 3, 'longitude': 3, 'El': 3, 'Paso': 3, 'Texas': 3, 'normal': 4, 'heart': 2, 'rate': 8, 'healthy': 1, 'adult': 3, 'population': 20, 'Ohio': 2, 'calories': 4, 'Big': 3, 'Mac': 1, 'dollar': 3, 'equivalent': 3, 'pounds': 3, 'U.K.': 2, 'speed': 3, 'Mississippi': 5, 'River': 3, 'Jack': 3, 'Nicklaus': 1, 'Professional': 1, 'Golfers': 1, 'Association': 2, 'tour': 1, 'sonnets': 1, 'Shakespeare': 2, 'Beatles': 1, 'records': 1, 'equal': 3, 'angles': 1, 'isosceles': 1, 'triangle': 2, 'time': 12, 'Emperor': 1, 'Hirohito': 1, 'James': 3, 'Joyce': 1, 'Ulysses': 1, 'types': 4, 'dogs': 2, 'tails': 1, 'quantity': 1, 'soldiers': 8, 'still': 3, 'unaccounted': 4, 'Vietnam': 8, 'war': 9, 'women': 1, 'suffrage': 1, 'amendment': 1, 'Hitler': 4, 'Dumbo': 1, 'ears': 1, 'miles': 9, 'North': 1, 'Carolina': 2, 'snow': 1, 'inch': 1, 'rain': 1, 'average': 26, 'teenager': 1, 'intercourse': 2, 'referees': 1, 'soccer': 1, 'game': 12, 'Tulip': 1, 'Festival': 2, 'Michigan': 1, 'degrees': 3, 'cooler': 2, 'inside': 3, 'cucumber': 2, 'outside': 2, 'Spider': 1, 'Man': 1, 'web': 2, 'fraction': 2, 'beaver': 2, 'life': 7, 'Johnnie': 1, 'Walker': 1, 'Black': 1, 'Label': 1, 'black': 7, 'white': 2, 'stamp': 2, 'worth': 7, 'Thomas': 2, 'Jefferson': 2, 'innings': 2, 'regulation': 1, 'softball': 1, 'telephone': 2, 'number': 20, 'University': 6, 'Kentucky': 1, 'wives': 1, 'Brigham': 1, 'Young': 1, 'Coney': 1, 'Island': 1, 'boardwalk': 1, 'colleges': 1, 'Wyoming': 1, 'Battle': 1, 'Hastings': 1, 'Muhammad': 1, 'temperature': 4, 'Peachy': 4, 'Oat': 4, 'Muffins': 4, 'dots': 2, 'symbol': 3, 'hearts': 1, 'octopus': 1, 'holes': 2, 'tenpin': 2, 'ball': 1, 'percentage': 10, 'muscle': 1, 'daycare': 2, 'provider': 2, 'England': 5, 'site': 1, 'www.questions.com': 1, 'Bastille': 4, 'shots': 1, 'stock': 2, 'M16': 1, 'week': 5, 'most': 8, 'fatal': 1, 'accidents': 1, 'fast': 6, 'light': 2, 'encyclopedia': 1, 'quarters': 1, 'pound': 3, 'chapter': 5, 'Bible': 5, 'verses': 3, 'fastest': 1, 'person': 4, 'hands': 2, 'they': 6, 'clean': 1, 'sperm': 1, 'cells': 2, 'ejaculation': 1, 'far': 10, 'you': 17, 'home': 5, 'run': 2, 'Steven': 2, 'outer': 1, 'space': 2, 'U.S.': 16, 'highway': 2, 'death': 4, 'toll': 4, 'Copyright': 1, 'law': 5, 'Americans': 6, 'homes': 1, 'layers': 2, 'yellow': 1, 'paint': 3, 'Faber': 1, 'Mongol': 1, 'pencil': 1, 'lucky': 1, 'enough': 1, 'wingspan': 1, 'condor': 1, 'British': 1, 'oceans': 2, 'them': 2, 'pairs': 2, 'legs': 1, 'lobster': 2, 'times': 11, 'Louie': 2, 'percent': 2, 'she': 1, 'power': 7, 'decade': 1, 'fingers': 1, 'bow': 1, 'Hurricane': 1, 'Hugo': 1, 'price': 4, 'Varian': 2, 'Associates': 2, 'vacuum': 2, 'products': 2, 'division': 2, 'Depression': 1, 'italian': 1, 'artist': 2, 'Maurizio': 3, 'Pellegrin': 3, 'how': 13, 'old': 20, 'Ireland': 2, 'woman': 4, 'human': 10, 'pregnancy': 2, 'minimum': 7, 'wage': 7, 'Vietnamese': 1, 'Soviet': 3, 'Union': 4, 'Bjorn': 1, 'Borg': 1, 'when': 12, 'forehand': 1, 'D': 1, 'student': 2, 'Massachusetts': 5, 'Amherst': 2, 'Dow': 1, 'San': 1, 'Francisco': 1, 'fire': 2, 'casinos': 1, 'Atlantic': 2, 'City': 1, 'NJ': 2, 'end': 5, 'chromosome': 2, 'elephant': 3, 'Brandenburg': 2, 'gate': 1, 'double': 1, 'word': 2, 'spaces': 2, 'Scrabble': 1, 'Crossword': 1, 'Game': 1, 'board': 4, 'Germany': 7, 'nonaggression': 1, 'pact': 1, 'CDs': 1, 'Garth': 1, 'Brooks': 1, 'Gutenberg': 1, 'Bibles': 1, 'runs': 3, 'Lou': 2, 'Gehrig': 2, 'career': 2, 'boys': 1, 'Winslow': 1, 'Homer': 1, 'Whip': 1, 'sheep': 1, 'century': 3, 'Captain': 2, 'Video': 1, 'astronauts': 2, 'Project': 2, 'Mercury': 2, 'flight': 2, 'medical': 2, 'school': 3, 'current': 4, 'ticket': 2, 'fare': 3, 'Cairo': 2, 'Barbados': 2, 'students': 3, 'Iraqi': 1, 'troops': 1, 'Kuwait': 3, 'probability': 2, 'least': 2, 'same': 2, 'birthday': 7, 'Canadians': 1, 'different': 6, 'languages': 3, 'Europe': 3, 'Desmond': 1, 'Mpilo': 1, 'Tutu': 1, 'Nobel': 1, 'Peace': 1, 'Prize': 1, 'amount': 4, 'chemical': 5, 'reactivity': 4, 'argon': 1, 'engines': 1, 'Boeing': 1, 'Mao': 1, 'Long': 1, 'March': 1, 'teaspoon': 4, 'matter': 4, 'hole': 8, 'Martin': 1, 'Luther': 1, 'King': 3, 'Jr.': 1, 'real': 2, 'Bond': 2, 'novels': 1, 'large': 2, 'Arctic': 1, 'refuge': 1, 'unique': 1, 'wildlife': 1, 'wilderness': 1, 'value': 1, 'Alaska': 2, 'north': 1, 'coast': 3, 'electricity': 1, 'brain': 3, 'acres': 1, 'mile': 6, 'capita': 2, 'income': 4, 'Colombia': 2, 'America': 5, 'Grammys': 1, 'Michael': 1, 'Jackson': 2, 'age': 7, 'member': 3, 'team': 5, 'Manhatten': 1, 'syllables': 1, 'line': 1, 'hendecasyllabic': 1, 'poetry': 1, 'children': 7, 'victims': 1, 'sort': 1, 'Physical': 1, 'Abuse': 1, 'stars': 2, 'flag': 2, 'lengths': 1, 'pearl': 1, 'necklaces': 1, 'typical': 4, 'hen': 1, 'dozen': 1, 'eggs': 4, 'available': 1, 'junk': 1, 'mail': 1, 'catalogues': 1, 'US': 4, 'DT': 1, 'NN': 2, 'slinky': 1, 'approval': 1, 'rating': 1, 'tomato': 2, 'Dick': 4, 'Clark': 4, 'tuberculosis': 8, 'TV': 2, 'mission': 1, 'Star': 2, 'Trek': 1, 'Enterprise': 1, 'phone': 4, 'tree': 3, 'Spangled': 1, 'Banner': 1, 'national': 2, 'anthem': 1, 'August': 1, 'big': 9, 'quart': 1, 'Sun': 2, 'questions': 2, 'thing': 1, 'Rossetti': 1, 'Beata': 1, 'Beatrix': 1, 'Bill': 2, 'Gates': 1, 'Where': 3, 'rank': 2, 'area': 5, 'target': 2, 'M3': 1, 'growth': 1, 'Israel': 2, 'Gaza': 1, 'Strip': 1, 'Jericho': 1, 'PLO': 1, 'energy': 1, 'oxygen': 1, 'hydrogen': 1, 'mix': 1, 'horses': 2, 'civil': 2, 'waste': 1, 'dairy': 1, 'cow': 1, 'original': 2, 'GE': 1, 'College': 2, 'Bowl': 1, 'clock': 2, 'male': 4, 'Olympic': 3, 'Games': 3, 'Nadia': 3, 'Comaneci': 3, 'popular': 3, 'rows': 2, 'sprocket': 1, 'roll': 1, 'film': 2, 'goat': 2, 'lawyers': 2, 'state': 4, 'Jersey': 1, 'Fraze': 1, 'patent': 2, 'pull': 2, 'tab': 2, 'games': 2, 'round': 3, 'robin': 1, 'tournament': 1, 'database': 1, 'Triangle': 1, 'Shirtwaist': 1, 'approximate': 2, 'Las': 1, 'Vegas': 1, 'N.M': 1, 'President': 4, 'ages': 4, 'watch': 4, 'Simpsons': 5, 'Columbia': 5, 'Tristar': 3, 'utilities': 1, 'fish': 1, 'earth': 3, 'elevators': 1, 'top': 4, 'floor': 1, 'Empire': 2, 'State': 1, 'Building': 1, 'dog': 6, 'sleep': 2, 'beach': 5, 'California': 7, 'Iraqis': 1, 'attack': 3, 'penny': 1, 'farthings': 1, 'Trivial': 2, 'Pursuit': 2, 'Nixon': 7, 'USA': 2, 'source': 1, 'information': 5, 'newspaper': 1, 'prescription': 1, 'q.i.d': 1, 'pizza': 1, 'cheetahs': 1, 'processor': 1, 'odds': 3, 'birth': 5, 'twins': 3, 'London': 4, 'UK': 1, 'Benny': 3, 'Carter': 3, 'Stevie': 2, 'Wonder': 2, 'Pinatubo': 1, 'millennium': 1, 'officially': 1, 'span': 2, 'monkey': 1, 'states': 5, 'UN': 1, 'dimensions': 1, 'ice': 5, 'hockey': 2, 'goal': 1, 'broadcast': 3, 'sunlight': 1, 'milliseconds': 1, 'second': 3, 'camcorders': 1, 'Malaysia': 1, 'chance': 1, 'quadruplets': 2, 'exchange': 2, 'Australian': 1, 'Richard': 3, 'shillings': 1, 'more': 4, 'guinea': 1, 'brand': 1, 'label': 1, 'bottle': 3, 'Daniel': 1, 'China': 4, 'Republic': 1, 'Korea': 5, 'diplomatic': 1, 'relations': 2, 'tall': 8, 'giraffe': 1, 'Stanley': 1, 'Livingstone': 1, 'nation': 1, 'smoking': 1, 'problem': 1, '16-year': 1, 'National': 1, 'Basketball': 1, 'Associaton': 1, 'John': 4, 'Havlicek': 1, 'star': 2, 'Shea': 4, 'Gould': 4, 'office': 2, 'Los': 4, 'Angeles': 4, 'Degas': 2, 'bronze': 1, 'sculpture': 1, 'Fourth': 1, 'Position': 1, 'Front': 1, 'URL': 2, 'extensions': 2, 'what': 2, 'pregnant': 2, 'varieties': 2, 'Falklands': 2, 'opener': 1, 'cans': 1, 'regular': 1, 'surface': 2, 'permanently': 1, 'Queen': 2, 'Victoria': 2, 'Abraham': 1, 'Lincoln': 1, 'assassination': 1, 'Yemen': 1, 'federal': 1, 'unemployment': 3, 'statistics': 3, 'horsepower': 2, 'shuttle': 2, 'boosters': 2, 'Apartheid': 1, 'Aldous': 1, 'Huxley': 1, 'Brave': 1, 'longest': 4, 'hiccup': 1, 'Tokyo': 3, 'humans': 1, 'history': 3, 'seriously': 1, 'expectancy': 3, 'Stone': 1, 'Age': 1, 'presidents': 3, 'reign': 1, 'flush': 1, 'toilet': 1, 'disks': 1, 'player': 4, 'handed': 1, 'Crokinole': 2, 'sun': 1, 'Led': 1, 'Zeppelin': 1, 'album': 4, 'killing': 1, 'setting': 3, 'Midsummer': 1, 'Night': 1, 'Dream': 1, 'month': 7, 'Charles': 6, 'cubic': 1, 'gallon': 1, 'water': 6, 'earthworms': 1, 'single': 2, 'pasture': 1, 'hourly': 1, 'workers': 1, 'Jean': 1, 'Aeul': 1, 'next': 1, 'book': 1, 'meters': 3, 'milligrams': 1, 'gram': 1, 'gestation': 2, 'Jeremy': 1, 'Piven': 1, 'colored': 1, 'squares': 1, 'Rubik': 1, 'Cube': 1, 'often': 2, '4th': 1, 'July': 2, 'vernal': 1, 'equinox': 1, 'Tyrannosaurus': 1, 'Rex': 1, 'teeth': 1, 'where': 3, 'firm': 1, 'L.A.': 1, 'quarts': 2, 'cream': 3, 'frequency': 2, 'VHF': 2, 'electoral': 2, 'votes': 3, 'presidency': 1, 'movie': 1, 'Commandments': 1, 'Beers': 1, 'company': 2, 'folic': 3, 'acid': 3, 'expectant': 2, 'mother': 2, 'daily': 3, 'caffeine': 2, 'oz': 2, 'cup': 2, 'coffee': 3, 'Princess': 1, 'Diana': 1, 'married': 1, 'Leos': 1, 'Pope': 3, 'fiddlers': 1, 'Old': 1, 'Cole': 1, 'India': 1, 'flies': 1, 'bathroom': 1, 'baseball': 5, 'pitcher': 2, 'rubber': 1, 'larger': 1, 'Statue': 1, 'Liberty': 1, 'live': 4, 'Superbowls': 1, 'ers': 1, 'gymnastics': 2, 'exercise': 2, 'Rosa': 1, 'Parks': 1, 'rights': 1, 'movement': 1, 'seat': 1, 'bus': 1, 'highest': 2, 'roulette': 1, 'table': 1, 'Marine': 1, 'Corps': 1, 'motto': 1, 'Semper': 1, 'Fidelis': 1, 'films': 2, 'Ingmar': 1, 'Bergman': 1, 'Barbie': 2, 'weeks': 1, 'hog': 1, 'shadow': 1, 'nylon': 1, 'stockings': 1, 'sale': 1, 'Jurassic': 1, 'Period': 2, 'Iraq': 1, 'invasion': 2, 'vegetation': 1, 'zones': 1, 'Rights': 1, 'Biloxi': 1, 'issue': 1, 'Playboy': 1, 'Yoo': 1, 'Hoo': 1, 'assassinations': 1, 'attempts': 1, 'stations': 1, 'basketball': 1, 'horse': 1, 'Ray': 1, 'Davies': 1, 'Kinks': 1, 'practice': 2, 'salt': 1, 'Dipper': 1, 'wings': 2, 'flea': 1, 'Mozambique': 1, 'Camptown': 1, 'Racetrack': 1, 'Plymouth': 1, 'Ukrainians': 1, 'Christmas': 3, 'weight': 5, 'Clara': 1, 'Peller': 1, 'Wendy': 1, 'beef': 1, 'high': 4, 'Apple': 1, 'Computer': 1, 'Calypso': 1, 'music': 1, 'Bernadette': 1, 'Peters': 1, 'Gothic': 1, 'art': 3, 'Approximately': 2, 'country': 2, 'NAACP': 1, 'hot': 3, 'active': 1, 'volcano': 1, 'Argentina': 1, 'fresh': 1, 'Canada': 2, 'grooves': 2, 'dime': 2, 'consecutive': 1, 'skunks': 1, 'who': 2, 'beginning': 1, 'ATM': 1, 'scalene': 1, 'cartoon': 1, 'character': 1, 'Chilly': 1, 'Willy': 1, 'Missouri': 1, 'internal': 1, 'combustion': 1, 'engine': 1, 'Wee': 1, 'Willie': 1, 'Winkie': 1, 'town': 1, 'Wind': 2, 'Rhett': 2, 'Butler': 2, 'Scarlett': 2, 'O': 3, 'Hara': 2, 'Philippine': 1, 'ex': 1, '-': 1, 'dictator': 1, 'Marcos': 2, 'treasury': 1, 'apple': 1, 'helium': 1, 'wheat': 1, 'counties': 1, 'Indiana': 1, 'protection': 1, 'condoms': 1, 'corners': 1, 'spritsail': 1, 'Nostradamus': 2, 'III': 1, 'Docklands': 1, 'Light': 1, 'Railway': 1, 'Manson': 1, 'murder': 3, 'trial': 3, 'MORMONS': 1, 'Christ': 2, 'actress': 1, 'Joan': 1, 'Collins': 1, 'salary': 6, 'restaurant': 1, 'manager': 1, 'screenplay': 3, 'cardinal': 1, 'members': 3, 'Rodeo': 1, 'Cowboys': 1, 'never': 1, 'ranch': 1, 'major': 5, 'studios': 1, 'businesses': 2, 'U.S': 1, 'megawatts': 1, 'project': 1, 'Indonesia': 1, 'consortium': 1, 'Mission': 1, 'Energy': 1, 'prayer': 1, 'fruit': 1, 'juices': 1, 'can': 2, 'Hawaiian': 1, 'Punch': 1, 'poodle': 1, 'Backgammon': 1, 'frames': 1, 'disk': 2, 'camera': 1, 'shoot': 1, 'Theo': 1, 'Rousseau': 1, 'Forest': 1, 'Fontaine': 1, 'Gandhi': 1, 'typist': 2, 'pages': 1, 'tsetse': 1, 'dialing': 1, 'hermit': 1, 'crabs': 1, 'birthstone': 1, 'land': 1, 'servers': 1, 'trees': 1, 'out': 1, 'universe': 3, 'warmup': 1, 'pitches': 1, 'reliever': 1, 'Fig': 1, 'Newtons': 1, 'bones': 2, 'hand': 2, 'Phoenix': 1, 'Blythe': 1, 'network': 1, 'television': 3, 'polo': 1, 'entire': 1, 'Appalachian': 1, 'Trail': 1, 'nickel': 1, 'cadmium': 1, 'rechargeable': 1, 'battery': 1, 'seats': 1, 'Batmobile': 1, 'sport': 2, 'Gin': 1, 'Rummy': 1, 'Thai': 1, 'Year': 1, 'eye': 2, 'G7': 1, 'group': 3, 'nations': 1, 'tornados': 1, 'Carolingian': 1, 'period': 3, 'emperors': 1, 'Roman': 1, 'F': 1, 'Jackie': 1, 'Kennedy': 2, 'singer': 1, 'Freedy': 1, 'Johnston': 1, 'Spain': 3, 'ambassadorial': 1, 'edge': 1, 'chances': 2, 'pregnacy': 2, 'penis': 3, 'not': 3, 'vagina': 2, 'savings': 1, 'bond': 1, 'spears': 1, 'Kenya': 1, 'men': 4, 'par': 2, 'golf': 3, 'alcoholic': 1, 'Dialing': 1, 'Soldiers': 1, 'numbers': 2, 'Fermont': 1, 'theorem': 1, 'HIV': 1, 'teats': 1, 'female': 2, 'kilamanjaro': 1, 'total': 1, 'whitetail': 1, 'deer': 1, 'o': 1, 'dartboard': 1, 'veins': 1, 'circulatory': 1, 'system': 2, 'answers': 1, 'Line': 1, 'panel': 1, 'fine': 1, 'generals': 1, 'congressional': 1, 'delegation': 1, 'Rossini': 1, 'opera': 1, 'Gene': 1, 'Siskel': 1, 'soy': 1, 'sauce': 1, 'galaxy': 1, 'diameter': 1, 'fertile': 1, 'Tucson': 1, 'Canadian': 1, 'gold': 2, 'coin': 1, 'Sleeping': 1, 'Beauty': 1, 'lustrum': 1, 'Italian': 1, 'NFL': 1, 'spacecraft': 1, 'gravity': 1, 'rings': 1, 'zone': 1, 'archery': 1, 'Israeli': 1, 'athletes': 2, 'Munich': 1, 'Olympics': 2, 'recomended': 1, 'child': 3, 'crib': 1, 'bed': 1, 'closest': 1, 'hours': 2, 'online': 1, 'AOL': 1, 'users': 1, 'away': 1, 'Amtrak': 1, 'operations': 1, 'elements': 1, 'Italy': 1, 'Greece': 1, 'Austria': 3, 'Switzerland': 1, 'Netherlands': 1, 'youngest': 1, 'boy': 1, 'girl': 1, 'orgasm': 2, 'sled': 1, 'Iditarod': 1, 'cocaine': 1, 'dates': 1, 'running': 1, 'bulls': 1, 'Pamplona': 1, 'colors': 4, 'collectible': 1, 'Donald': 1, 'Duck': 1, 'Rubber': 1, 'Boat': 1, 'pitchers': 1, 'shelf': 1, 'Edgar': 1, 'Tub': 1, 'drugs': 4, 'treatments': 1, 'airline': 1, 'schools': 1, 'Nazi': 1, 'leaders': 1, 'Nuremberg': 1, 'Gold': 1, 'Medal': 1, 'Excellence': 1, 'Paris': 2, 'Exposition': 1, 'Campbell': 1, 'soup': 1, 'Sultan': 1, 'Brunei': 1, 'third': 2, 'weekend': 1, 'Monterey': 1, 'Jazz': 1, 'D.': 2, 'Rockefeller': 1, 'taller': 1, 'islands': 2, 'Antigua': 1, 'lottery': 1, 'ratio': 1, 'cities': 2, 'Utah': 1, 'visitors': 1, 'Vatican': 2, 'Mexico': 1, 'Romantic': 1, 'sentence': 1, 'Yaroslavl': 1, 'Moscow': 1, 'bytes': 1, 'terabyte': 1, 'Congress': 2, 'Vienna': 1, 'automobile': 1, 'lemon': 1, 'automobiles': 1, 'shoe': 1, 'sizes': 1, 'Neal': 1, 'Jordan': 1, 'Mutombo': 1, 'NBA': 1, 'players': 2, 'zeros': 1, 'drunken': 1, 'drivers': 1, 'Maryland': 1, 'liberty': 1, 'bells': 1, 'Russians': 1, 'Franklin': 1, 'Roosevelt': 1, 'polio': 1, 'gas': 4, 'tax': 4, 'Nebraska': 1, 'mid': 1, '1900s': 1, 'Janet': 1, 'movies': 1, 'Barrymore': 1, 'wide': 1, 'Ocean': 1, 'II': 2, 'neurons': 1, 'lakes': 1, 'fly': 1, 'stone': 1, 'Frankfurt': 1, 'Salzburg': 1, 'chairs': 1, 'Vincent': 1, 'Van': 2, 'Gogh': 1, 'work': 2, 'Artist': 1, 'Room': 1, 'Arles': 1, 'Edmund': 2, 'Fitzgerald': 1, 'Gate': 3, 'silver': 3, 'production': 3, 'independent': 2, 'silversmiths': 2, 'Stuart': 1, 'Little': 1, 'Stradivarius': 1, 'violins': 1, 'ever': 1, 'Adventures': 1, 'Robin': 1, 'Hood': 1, 'debts': 1, 'Qintex': 1, 'leave': 1, 'cheese': 1, 'eyes': 2, 'coconut': 1, 'websites': 1, 'center': 2, 'digits': 3, 'code': 5, 'distance': 3, 'Independent': 1, 'silversmith': 1, 'account': 1, 'Representative': 1, 'maximum': 2, 'length': 2, 'baseman': 1, 'glove': 1, 'pig': 2, 'goals': 1, 'NHL': 1, 'dollars': 1, 'Arthur': 1, 'Frommer': 1, 'Helens': 2, 'erupt': 2, 'labor': 1, 'permutations': 1, 'letters': 2, 'heaviest': 1, 'furlongs': 1, 'quarter': 1, 'recetrack': 1, 'millimeters': 1, 'baby': 1, 'bald': 1, 'eagle': 1, 'Britain': 1, 'too': 1, 'Hoover': 1, 'Dam': 1, 'tenths': 1, 'lie': 1, 'Pennsylvania': 1, 'York': 1, 'Concorde': 1, 'rise': 1, 'border': 2, 'conterminous': 1, 'Joe': 2, 'Namath': 1, 'contract': 1, 'Lucille': 1, 'Ball': 1, 'show': 2, 'Lucy': 2, 'bullseye': 1, 'darts': 1, 'Kansas': 1, 'Coca': 1, 'Cola': 1, 'drunk': 1, 'e': 1, 'commerce': 1, 'companies': 1, 'Judy': 1, 'Garland': 1, 'Ukraine': 1, 'Russia': 2, 'somene': 1, 'Australia': 1, 'loud': 1, 'thunder': 1, 'Nations': 1, 'order': 1, 'humanitarian': 1, 'relief': 1, 'Somalia': 1, 'September': 1, 'elephants': 1, 'practical': 1, 'commercial': 1, 'typewriter': 1, 'Mars': 1, 'OJ': 1, 'Simpson': 1, 'clubs': 1, 'golfer': 1, 'export': 1, 'continents': 1, 'Chernobyl': 1, 'nuclear': 2, 'accident': 1, 'General': 1, 'Manuel': 1, 'Noriega': 1, 'leader': 1, 'Panama': 2, 'authorities': 1, 'bad': 1, 'luck': 1, 'mirror': 1, 'days': 1, 'mayfly': 1, 'declaration': 1, 'Japan': 2, 'districts': 1, 'Commune': 1, 'rest': 1, 'iron': 1, 'logarithmic': 1, 'scales': 1, 'slide': 1, 'rule': 1, 'oven': 2, 'Britney': 1, 'Spears': 1, 'snakebite': 1, 'poisoning': 1, 'city': 2, 'Denver': 1, 'Florida': 2, 'Gourd': 2, 'Society': 1, 'increase': 1, 'course': 1, '15-year': 1, 'cables': 1, 'main': 1, 'Golden': 2, 'Bridge': 4, 'Manchester': 1, 'schooling': 1, 'highschool': 1, 'neurosurgeon': 1, 'L.L.': 1, 'Cool': 1, 'J.': 1, 'knight': 1, 'armor': 1, 'replica': 1, 'Matterhorn': 2, 'Disneyland': 1, 'Warren': 1, 'Spahn': 1, '20-game': 1, 'winner': 1, 'league': 1, 'seasons': 2, 'pins': 2, 'skittles': 1, 'wars': 1, 'armed': 1, 'conflicts': 1, 'lemurs': 1, 'claws': 1, 'pistol': 1, 'Civil': 1, 'vesuvius': 1, 'supercontinent': 1, 'Pangaea': 1, 'Englishmen': 1, 'themselves': 1, 'Electoral': 1, 'Niigata': 1, 'radiographer': 1, 'actors': 1, 'best': 1, 'actor': 1, 'Oscar': 1, 'Lucelly': 1, 'Garcia': 1, 'former': 1, 'ambassador': 1, 'Honduras': 1, 'sneezing': 1, 'Gregorian': 1, 'calendar': 1, 'queen': 1, 'bees': 1, 'hive': 1, 'hiemal': 1, 'activity': 1, 'normally': 1, 'record': 2, 'hair': 1, 'ton': 1, 'cement': 1, 'obelisk': 1, 'cannon': 1, 'hurdle': 1, 'front': 1, 'runner': 1, 'steeplechase': 1, 'jump': 1, 'glass': 2, 'neon': 2, 'MTV': 1, 'airport': 1, 'International': 1, 'bat': 1, 'maids': 1, 'geological': 1, 'we': 1, 'test': 2, 'bar': 1, 'Contract': 1, 'he': 3, 'Motown': 1, 'Records': 1, 'Avery': 1, 'Dennison': 1, 'AAA': 1, 'liability': 1, 'auto': 1, 'insurance': 1, 'Arcadia': 1, 'mountain': 2, 'mines': 1, 'gallons': 2, 'Niagra': 1, 'Falls': 1, 'copies': 1, 'tiles': 1, 'Space': 1, 'Shuttle': 1, 'teaspoons': 1, 'tablespoon': 1, 'zip': 1, 'codes': 1, 'Milky': 1, 'Way': 1, 'Galaxy': 1, 'revolution': 1, 'pets': 1, 'materials': 1, 'rainbow': 2, 'Marx': 1, 'Brothers': 1, 'Babe': 2, 'Ruth': 2, 'Beanie': 1, 'Baby': 1, 'sites': 1, 'official': 1, 'flavors': 2, 'Baskin': 1, 'Robbins': 1, 'K': 1, 'Beethoven': 1, 'Roe': 1, 'Wade': 1, 'decision': 1, 'Supreme': 1, 'Court': 1, 'kinds': 1, 'Jaco': 1, 'Pastorius': 1, 'advertising': 2, 'Dicken': 1, 'Estonia': 1, 'paleontologist': 1, 'doll': 1, 'sell': 1, 'head': 1, 'injuries': 1, 'recreational': 1, 'sub': 1, 'Saharan': 1, 'Africa': 1, 'Tel': 1, 'Aviv': 1, 'Memphis': 1, 'Tennessee': 1, 'Howard': 1, 'Johnson': 1, 'have': 1, 'freckles': 1, 'Howdy': 2, 'Doody': 2, 'face': 1, 'Kong': 1, 'events': 1, 'decathlon': 1, 'bails': 1, 'cricket': 1, 'wicket': 1, 'dial': 1, 'Jimmy': 1, 'Buffett': 1, 'concert': 1, 'E': 1, 'Camden': 1, 'BOC': 1, 'highways': 1, 'birthdate': 1, 'Montana': 1, 'USSR': 1, 'objects': 1, 'muscles': 2, 'use': 2, 'walk': 1, 'community': 1, 'Fiji': 1, 'plant': 1, 'animal': 1, 'Amazon': 1, 'forests': 1, 'college': 1, 'Colorado': 1, 'bottles': 1, 'wine': 1, 'prisoners': 1, 'Thompson': 1, 'flood': 1, 'tide': 1, 'Fahrenheit': 1, 'centigrade': 1, 'oyster': 1, 'characters': 2, 'purposes': 1, 'annual': 1, 'boilermaker': 1, 'thousands': 1, 'Oscars': 1, 'Academy': 1, 'Awards': 1, 'Dubai': 1, 'concrete': 1, 'house': 1, 'illegally': 1, 'diamond': 1, 'Tom': 1, 'Selleck': 1, 'Volkswagen': 1, 'bug': 1, 'mean': 1, '%': 3, 'stronger': 1, 'vitreous': 1, 'carbon': 1, 'material': 2, 'Institute': 1, 'Technology': 1, 'cellulose': 1, 'whiskers': 1, 'cat': 1, 'today': 2, 'words': 1, 'Spanish': 1, 'language': 1, 'family': 1, 'military': 1, 'malls': 1, 'holiday': 1, 'decorations': 1, 'Chinese': 1, 'alphabet': 1, 'hummingbird': 1, 'ostrich': 1, 'egg': 1, 'pregnancies': 1, 'domesticated': 1, 'ferret': 1, 'yards': 1, 'successful': 1, 'transplant': 1, 'watts': 1, 'kilowatt': 1, 'Harold': 1, 'Stassen': 1, 'drive': 1, 'House': 1, 'caps': 1, 'pictures': 1, 'height': 1, 'Anglican': 1, 'church': 1, 'part': 1, 'Pelt': 1, 'originally': 1, 'psychiatric': 1, 'sessions': 1, 'Parthenon': 1, 'mountains': 1, 'Presidents': 1, 'continental': 1, 'apart': 1, 'adjacent': 1, 'corridors': 1, 'Pentagon': 1, 'deep': 3, 'whole': 1, 'milk': 1, 'butter': 1, 'yearly': 1, 'Honda': 1, 'calcium': 1, 'Chilean': 1, 'Frankenstein': 1, 'NY': 1, 'actually': 1, 'heptagon': 1, 'Sir': 1, 'Hillary': 1, 'Mt.': 1, 'Everest': 1, 'Eskimo': 1, 'window': 1, 'swimming': 1, 'commonplace': 1, 'menstruation': 1, 'George': 1, 'Washington': 1, 'blacks': 1, 'blinking': 1, 'syringe': 1, 'medicinal': 1, 'Iceland': 1, 'east': 1, 'west': 1, 'Corvette': 1, 'McDonald': 1, 'hamburger': 1, 'attendance': 1, 'Last': 1, 'Supper': 1, 'puppy': 1, 'Purina': 1, 'Puppy': 1, 'Chow': 1, 'cigarette': 1, 'radio': 1, 'lifetime': 1, 'spectrum': 1, 'revolutionaries': 1, 'Mackinaw': 1, 'debt': 1, 'bankruptcy': 1, 'cullions': 1, 'Microsoft': 1, 'Lee': 1, 'Harvey': 1, 'Oswald': 1, 'Ruby': 1, 'propellers': 1, 'plane': 1, 'Wright': 1, 'brothers': 1, 'DiMaggio': 1, '56-game': 1, 'hitting': 1, 'streak': 1, 'Graffiti': 1, 'quilting': 1, 'Iran': 1, 'Contra': 1, 'investigation': 1, 'Deere': 1, 'tractors': 1, 'communist': 1, 'control': 1, 'Hungary': 1, 'cherubs': 1, 'Chile': 1, 'Lindbergh': 1, 'Puerto': 1, 'Rico': 1, 'Winter': 1, 'cooking': 1}}\n"
     ]
    }
   ],
   "source": [
    "from collections import Counter\n",
    "\n",
    "labels = ['HUM', 'DESC', 'ENTY', 'LOC', 'ABBR', 'NUM']\n",
    "\n",
    "word_count= dict.fromkeys(labels)\n",
    "\n",
    "for label in labels:\n",
    "    \n",
    "    word_count_labeled = Counter()\n",
    "    \n",
    "    for idx, row in df[df['label'] == label].iterrows():\n",
    "        doc = nlp(row['question'])\n",
    "        word_count_labeled += Counter([t.text for t in doc \n",
    "                                      if t.pos_ in \n",
    "                                      ['NOUN', 'PROPN', 'ADJ', 'ADV', 'PRON']])\n",
    "    \n",
    "    word_count[label] = dict(word_count_labeled)\n",
    "    \n",
    "print(word_count)"
   ]
  },
  {
   "cell_type": "code",
   "execution_count": 182,
   "metadata": {},
   "outputs": [
    {
     "data": {
      "image/png": "[encoded data removed]",
      "text/plain": [
       "<Figure size 1440x360 with 1 Axes>"
      ]
     },
     "metadata": {
      "needs_background": "light"
     },
     "output_type": "display_data"
    }
   ],
   "source": [
    "import matplotlib.pyplot as plt\n",
    "\n",
    "df_word_count = pd.DataFrame(word_count)\n",
    "\n",
    "df_word_top_five = pd.DataFrame()\n",
    "\n",
    "for col in df_word_count.columns:\n",
    "    df_word_top_five = pd.concat([df_word_top_five, df_word_count[col].\n",
    "                               sort_values(ascending=False).head(5)/\n",
    "                               df_word_count[col].sum()*100], axis=1, sort=False)\n",
    "\n",
    "\n",
    "plt.rcParams['figure.figsize'] = [20, 5]\n",
    "plt.rcParams.update({'font.size': 14})\n",
    "df_word_top_five.plot.bar(width=0.8)\n",
    "plt.xlabel('Top 5 Words in each Category')\n",
    "plt.ylabel('% of Counts in each Category')\n",
    "plt.xticks()\n",
    "plt.show()"
   ]
  },
  {
   "cell_type": "code",
   "execution_count": 150,
   "metadata": {},
   "outputs": [
    {
     "data": {
      "image/png": "[encoded data removed]",
      "text/plain": [
       "<Figure size 1440x360 with 1 Axes>"
      ]
     },
     "metadata": {
      "needs_background": "light"
     },
     "output_type": "display_data"
    }
   ],
   "source": [
    "import seaborn as sns\n",
    "\n",
    "df_tidy = pd.melt(df_word_top_five.reset_index(), id_vars='index')\n",
    "sns.barplot(x='index', y='value', hue='variable', data=df_tidy)\n",
    "plt.show()"
   ]
  },
  {
   "cell_type": "code",
   "execution_count": 256,
   "metadata": {},
   "outputs": [],
   "source": [
    "df_label_dummy = pd.get_dummies(df.label)\n",
    "df_vec_label = pd.concat([df_vec, df_label_dummy], axis=1)\n",
    "df_vec_label_corr = df_vec_label.corr(method='pearson')\n",
    "#df_vec_label_corr.style.background_gradient(cmap='coolwarm', axis=None)"
   ]
  },
  {
   "cell_type": "code",
   "execution_count": 255,
   "metadata": {},
   "outputs": [
    {
     "data": {
      "image/png": "[encoded data removed]",
      "text/plain": [
       "<Figure size 216x1440 with 2 Axes>"
      ]
     },
     "metadata": {
      "needs_background": "light"
     },
     "output_type": "display_data"
    }
   ],
   "source": [
    "fig, ax = plt.subplots(figsize=(3,20))\n",
    "\n",
    "ax = sns.heatmap(\n",
    "    df_vec_label_corr_sliced, \n",
    "    vmin=-1, vmax=1, center=0,\n",
    "    cmap=sns.diverging_palette(20, 220, n=10),\n",
    "    square=False, ax=ax\n",
    ")\n",
    "ax.set_xticklabels(\n",
    "    ax.get_xticklabels(),\n",
    "    rotation=90,\n",
    "    horizontalalignment='right'\n",
    ");"
   ]
  },
  {
   "cell_type": "code",
   "execution_count": null,
   "metadata": {},
   "outputs": [],
   "source": []
  }
 ],
 "metadata": {
  "kernelspec": {
   "display_name": "Python 3",
   "language": "python",
   "name": "python3"
  },
  "language_info": {
   "codemirror_mode": {
    "name": "ipython",
    "version": 3
   },
   "file_extension": ".py",
   "mimetype": "text/x-python",
   "name": "python",
   "nbconvert_exporter": "python",
   "pygments_lexer": "ipython3",
   "version": "3.7.3"
  }
 },
 "nbformat": 4,
 "nbformat_minor": 2
}
